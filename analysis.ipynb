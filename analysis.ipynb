{
 "cells": [
  {
   "cell_type": "code",
   "execution_count": 1,
   "id": "72222b32",
   "metadata": {},
   "outputs": [],
   "source": [
    "import numpy as np\n",
    "import pandas as pd\n",
    "import matplotlib.pyplot as plt\n",
    "import seaborn as sns\n",
    "import plotly.express as px"
   ]
  },
  {
   "cell_type": "code",
   "execution_count": 2,
   "id": "aa06939a",
   "metadata": {},
   "outputs": [],
   "source": [
    "law = pd.read_csv(\"Dataset/Food_Production.csv\")"
   ]
  },
  {
   "cell_type": "code",
   "execution_count": 3,
   "id": "3351d291",
   "metadata": {},
   "outputs": [
    {
     "data": {
      "application/vnd.microsoft.datawrangler.viewer.v0+json": {
       "columns": [
        {
         "name": "index",
         "rawType": "int64",
         "type": "integer"
        },
        {
         "name": "Food product",
         "rawType": "object",
         "type": "string"
        },
        {
         "name": "Land use change",
         "rawType": "float64",
         "type": "float"
        },
        {
         "name": "Animal Feed",
         "rawType": "float64",
         "type": "float"
        },
        {
         "name": "Farm",
         "rawType": "float64",
         "type": "float"
        },
        {
         "name": "Processing",
         "rawType": "float64",
         "type": "float"
        },
        {
         "name": "Transport",
         "rawType": "float64",
         "type": "float"
        },
        {
         "name": "Packging",
         "rawType": "float64",
         "type": "float"
        },
        {
         "name": "Retail",
         "rawType": "float64",
         "type": "float"
        },
        {
         "name": "Total_emissions",
         "rawType": "float64",
         "type": "float"
        },
        {
         "name": "Eutrophying emissions per 1000kcal (gPO₄eq per 1000kcal)",
         "rawType": "float64",
         "type": "float"
        },
        {
         "name": "Eutrophying emissions per kilogram (gPO₄eq per kilogram)",
         "rawType": "float64",
         "type": "float"
        },
        {
         "name": "Eutrophying emissions per 100g protein (gPO₄eq per 100 grams protein)",
         "rawType": "float64",
         "type": "float"
        },
        {
         "name": "Freshwater withdrawals per 1000kcal (liters per 1000kcal)",
         "rawType": "float64",
         "type": "float"
        },
        {
         "name": "Freshwater withdrawals per 100g protein (liters per 100g protein)",
         "rawType": "float64",
         "type": "float"
        },
        {
         "name": "Freshwater withdrawals per kilogram (liters per kilogram)",
         "rawType": "float64",
         "type": "float"
        },
        {
         "name": "Greenhouse gas emissions per 1000kcal (kgCO₂eq per 1000kcal)",
         "rawType": "float64",
         "type": "float"
        },
        {
         "name": "Greenhouse gas emissions per 100g protein (kgCO₂eq per 100g protein)",
         "rawType": "float64",
         "type": "float"
        },
        {
         "name": "Land use per 1000kcal (m² per 1000kcal)",
         "rawType": "float64",
         "type": "float"
        },
        {
         "name": "Land use per kilogram (m² per kilogram)",
         "rawType": "float64",
         "type": "float"
        },
        {
         "name": "Land use per 100g protein (m² per 100g protein)",
         "rawType": "float64",
         "type": "float"
        },
        {
         "name": "Scarcity-weighted water use per kilogram (liters per kilogram)",
         "rawType": "float64",
         "type": "float"
        },
        {
         "name": "Scarcity-weighted water use per 100g protein (liters per 100g protein)",
         "rawType": "float64",
         "type": "float"
        },
        {
         "name": "Scarcity-weighted water use per 1000kcal (liters per 1000 kilocalories)",
         "rawType": "float64",
         "type": "float"
        }
       ],
       "ref": "76c98dec-2f4b-4ecb-baec-bf87ed476cf0",
       "rows": [
        [
         "0",
         "Wheat & Rye (Bread)",
         "0.1",
         "0.0",
         "0.8",
         "0.2",
         "0.1",
         "0.1",
         "0.1",
         "1.4000000000000004",
         null,
         null,
         null,
         null,
         null,
         null,
         null,
         null,
         null,
         null,
         null,
         null,
         null,
         null
        ],
        [
         "1",
         "Maize (Meal)",
         "0.3",
         "0.0",
         "0.5",
         "0.1",
         "0.1",
         "0.1",
         "0.0",
         "1.1",
         null,
         null,
         null,
         null,
         null,
         null,
         null,
         null,
         null,
         null,
         null,
         null,
         null,
         null
        ],
        [
         "2",
         "Barley (Beer)",
         "0.0",
         "0.0",
         "0.2",
         "0.1",
         "0.0",
         "0.5",
         "0.3",
         "1.1",
         null,
         null,
         null,
         null,
         null,
         null,
         null,
         null,
         null,
         null,
         null,
         null,
         null,
         null
        ],
        [
         "3",
         "Oatmeal",
         "0.0",
         "0.0",
         "1.4",
         "0.0",
         "0.1",
         "0.1",
         "0.0",
         "1.6",
         "4.281357225",
         "11.23",
         "8.638461538",
         "183.9115517",
         "371.0769231",
         "482.4",
         "0.945482272",
         "1.907692308",
         "2.897445673",
         "7.6",
         "5.846153846",
         "18786.2",
         "14450.92308",
         "7162.104461"
        ],
        [
         "4",
         "Rice",
         "0.0",
         "0.0",
         "3.6",
         "0.1",
         "0.1",
         "0.1",
         "0.1",
         "4.0",
         "9.51437873",
         "35.07",
         "49.3943662",
         "609.9837222",
         "3166.760563",
         "2248.4",
         "1.207270754",
         "6.267605634",
         "0.7596310359999999",
         "2.8",
         "3.943661972",
         "49576.3",
         "69825.77465",
         "13449.891480000002"
        ],
        [
         "5",
         "Potatoes",
         "0.0",
         "0.0",
         "0.2",
         "0.0",
         "0.1",
         "0.0",
         "0.0",
         "0.3",
         "4.7540983610000005",
         "3.48",
         "20.47058824",
         "80.73770492",
         "347.6470588",
         "59.1",
         "0.628415301",
         "2.705882353",
         "1.202185792",
         "0.88",
         "5.176470588",
         "2754.2",
         "16201.17647",
         "3762.568306"
        ],
        [
         "6",
         "Cassava",
         "0.6",
         "0.0",
         "0.2",
         "0.0",
         "0.1",
         "0.0",
         "0.0",
         "0.9",
         "0.708418891",
         "0.69",
         "7.666666667",
         null,
         null,
         "0.0",
         "1.35523614",
         "14.66666667",
         "1.858316222",
         "1.81",
         "20.11111111",
         "0.0",
         null,
         null
        ],
        [
         "7",
         "Cane Sugar",
         "1.2",
         "0.0",
         "0.5",
         "0.0",
         "0.8",
         "0.1",
         "0.0",
         "2.6",
         "4.820512821",
         "16.92",
         null,
         "176.66666669999998",
         null,
         "620.1",
         "0.911680912",
         null,
         "0.581196581",
         "2.04",
         null,
         "16438.6",
         null,
         "4683.361822999999"
        ],
        [
         "8",
         "Beet Sugar",
         "0.0",
         "0.0",
         "0.5",
         "0.2",
         "0.6",
         "0.1",
         "0.0",
         "1.4",
         "1.541310541",
         "5.41",
         null,
         "62.02279202",
         null,
         "217.7",
         "0.515669516",
         null,
         "0.5213675210000001",
         "1.83",
         null,
         "9493.3",
         null,
         "2704.643875"
        ],
        [
         "9",
         "Other Pulses",
         "0.0",
         "0.0",
         "1.1",
         "0.0",
         "0.1",
         "0.4",
         "0.0",
         "1.6",
         "5.008797653999999",
         "17.08",
         "7.97758057",
         null,
         "203.503036",
         "435.7",
         "0.524926686",
         "0.836057917",
         "4.565982405",
         "15.57",
         "7.272302662",
         "22477.4",
         "10498.55208",
         null
        ]
       ],
       "shape": {
        "columns": 23,
        "rows": 10
       }
      },
      "text/html": [
       "<div>\n",
       "<style scoped>\n",
       "    .dataframe tbody tr th:only-of-type {\n",
       "        vertical-align: middle;\n",
       "    }\n",
       "\n",
       "    .dataframe tbody tr th {\n",
       "        vertical-align: top;\n",
       "    }\n",
       "\n",
       "    .dataframe thead th {\n",
       "        text-align: right;\n",
       "    }\n",
       "</style>\n",
       "<table border=\"1\" class=\"dataframe\">\n",
       "  <thead>\n",
       "    <tr style=\"text-align: right;\">\n",
       "      <th></th>\n",
       "      <th>Food product</th>\n",
       "      <th>Land use change</th>\n",
       "      <th>Animal Feed</th>\n",
       "      <th>Farm</th>\n",
       "      <th>Processing</th>\n",
       "      <th>Transport</th>\n",
       "      <th>Packging</th>\n",
       "      <th>Retail</th>\n",
       "      <th>Total_emissions</th>\n",
       "      <th>Eutrophying emissions per 1000kcal (gPO₄eq per 1000kcal)</th>\n",
       "      <th>...</th>\n",
       "      <th>Freshwater withdrawals per 100g protein (liters per 100g protein)</th>\n",
       "      <th>Freshwater withdrawals per kilogram (liters per kilogram)</th>\n",
       "      <th>Greenhouse gas emissions per 1000kcal (kgCO₂eq per 1000kcal)</th>\n",
       "      <th>Greenhouse gas emissions per 100g protein (kgCO₂eq per 100g protein)</th>\n",
       "      <th>Land use per 1000kcal (m² per 1000kcal)</th>\n",
       "      <th>Land use per kilogram (m² per kilogram)</th>\n",
       "      <th>Land use per 100g protein (m² per 100g protein)</th>\n",
       "      <th>Scarcity-weighted water use per kilogram (liters per kilogram)</th>\n",
       "      <th>Scarcity-weighted water use per 100g protein (liters per 100g protein)</th>\n",
       "      <th>Scarcity-weighted water use per 1000kcal (liters per 1000 kilocalories)</th>\n",
       "    </tr>\n",
       "  </thead>\n",
       "  <tbody>\n",
       "    <tr>\n",
       "      <th>0</th>\n",
       "      <td>Wheat &amp; Rye (Bread)</td>\n",
       "      <td>0.1</td>\n",
       "      <td>0.0</td>\n",
       "      <td>0.8</td>\n",
       "      <td>0.2</td>\n",
       "      <td>0.1</td>\n",
       "      <td>0.1</td>\n",
       "      <td>0.1</td>\n",
       "      <td>1.4</td>\n",
       "      <td>NaN</td>\n",
       "      <td>...</td>\n",
       "      <td>NaN</td>\n",
       "      <td>NaN</td>\n",
       "      <td>NaN</td>\n",
       "      <td>NaN</td>\n",
       "      <td>NaN</td>\n",
       "      <td>NaN</td>\n",
       "      <td>NaN</td>\n",
       "      <td>NaN</td>\n",
       "      <td>NaN</td>\n",
       "      <td>NaN</td>\n",
       "    </tr>\n",
       "    <tr>\n",
       "      <th>1</th>\n",
       "      <td>Maize (Meal)</td>\n",
       "      <td>0.3</td>\n",
       "      <td>0.0</td>\n",
       "      <td>0.5</td>\n",
       "      <td>0.1</td>\n",
       "      <td>0.1</td>\n",
       "      <td>0.1</td>\n",
       "      <td>0.0</td>\n",
       "      <td>1.1</td>\n",
       "      <td>NaN</td>\n",
       "      <td>...</td>\n",
       "      <td>NaN</td>\n",
       "      <td>NaN</td>\n",
       "      <td>NaN</td>\n",
       "      <td>NaN</td>\n",
       "      <td>NaN</td>\n",
       "      <td>NaN</td>\n",
       "      <td>NaN</td>\n",
       "      <td>NaN</td>\n",
       "      <td>NaN</td>\n",
       "      <td>NaN</td>\n",
       "    </tr>\n",
       "    <tr>\n",
       "      <th>2</th>\n",
       "      <td>Barley (Beer)</td>\n",
       "      <td>0.0</td>\n",
       "      <td>0.0</td>\n",
       "      <td>0.2</td>\n",
       "      <td>0.1</td>\n",
       "      <td>0.0</td>\n",
       "      <td>0.5</td>\n",
       "      <td>0.3</td>\n",
       "      <td>1.1</td>\n",
       "      <td>NaN</td>\n",
       "      <td>...</td>\n",
       "      <td>NaN</td>\n",
       "      <td>NaN</td>\n",
       "      <td>NaN</td>\n",
       "      <td>NaN</td>\n",
       "      <td>NaN</td>\n",
       "      <td>NaN</td>\n",
       "      <td>NaN</td>\n",
       "      <td>NaN</td>\n",
       "      <td>NaN</td>\n",
       "      <td>NaN</td>\n",
       "    </tr>\n",
       "    <tr>\n",
       "      <th>3</th>\n",
       "      <td>Oatmeal</td>\n",
       "      <td>0.0</td>\n",
       "      <td>0.0</td>\n",
       "      <td>1.4</td>\n",
       "      <td>0.0</td>\n",
       "      <td>0.1</td>\n",
       "      <td>0.1</td>\n",
       "      <td>0.0</td>\n",
       "      <td>1.6</td>\n",
       "      <td>4.281357</td>\n",
       "      <td>...</td>\n",
       "      <td>371.076923</td>\n",
       "      <td>482.4</td>\n",
       "      <td>0.945482</td>\n",
       "      <td>1.907692</td>\n",
       "      <td>2.897446</td>\n",
       "      <td>7.60</td>\n",
       "      <td>5.846154</td>\n",
       "      <td>18786.2</td>\n",
       "      <td>14450.92308</td>\n",
       "      <td>7162.104461</td>\n",
       "    </tr>\n",
       "    <tr>\n",
       "      <th>4</th>\n",
       "      <td>Rice</td>\n",
       "      <td>0.0</td>\n",
       "      <td>0.0</td>\n",
       "      <td>3.6</td>\n",
       "      <td>0.1</td>\n",
       "      <td>0.1</td>\n",
       "      <td>0.1</td>\n",
       "      <td>0.1</td>\n",
       "      <td>4.0</td>\n",
       "      <td>9.514379</td>\n",
       "      <td>...</td>\n",
       "      <td>3166.760563</td>\n",
       "      <td>2248.4</td>\n",
       "      <td>1.207271</td>\n",
       "      <td>6.267606</td>\n",
       "      <td>0.759631</td>\n",
       "      <td>2.80</td>\n",
       "      <td>3.943662</td>\n",
       "      <td>49576.3</td>\n",
       "      <td>69825.77465</td>\n",
       "      <td>13449.891480</td>\n",
       "    </tr>\n",
       "    <tr>\n",
       "      <th>5</th>\n",
       "      <td>Potatoes</td>\n",
       "      <td>0.0</td>\n",
       "      <td>0.0</td>\n",
       "      <td>0.2</td>\n",
       "      <td>0.0</td>\n",
       "      <td>0.1</td>\n",
       "      <td>0.0</td>\n",
       "      <td>0.0</td>\n",
       "      <td>0.3</td>\n",
       "      <td>4.754098</td>\n",
       "      <td>...</td>\n",
       "      <td>347.647059</td>\n",
       "      <td>59.1</td>\n",
       "      <td>0.628415</td>\n",
       "      <td>2.705882</td>\n",
       "      <td>1.202186</td>\n",
       "      <td>0.88</td>\n",
       "      <td>5.176471</td>\n",
       "      <td>2754.2</td>\n",
       "      <td>16201.17647</td>\n",
       "      <td>3762.568306</td>\n",
       "    </tr>\n",
       "    <tr>\n",
       "      <th>6</th>\n",
       "      <td>Cassava</td>\n",
       "      <td>0.6</td>\n",
       "      <td>0.0</td>\n",
       "      <td>0.2</td>\n",
       "      <td>0.0</td>\n",
       "      <td>0.1</td>\n",
       "      <td>0.0</td>\n",
       "      <td>0.0</td>\n",
       "      <td>0.9</td>\n",
       "      <td>0.708419</td>\n",
       "      <td>...</td>\n",
       "      <td>NaN</td>\n",
       "      <td>0.0</td>\n",
       "      <td>1.355236</td>\n",
       "      <td>14.666667</td>\n",
       "      <td>1.858316</td>\n",
       "      <td>1.81</td>\n",
       "      <td>20.111111</td>\n",
       "      <td>0.0</td>\n",
       "      <td>NaN</td>\n",
       "      <td>NaN</td>\n",
       "    </tr>\n",
       "    <tr>\n",
       "      <th>7</th>\n",
       "      <td>Cane Sugar</td>\n",
       "      <td>1.2</td>\n",
       "      <td>0.0</td>\n",
       "      <td>0.5</td>\n",
       "      <td>0.0</td>\n",
       "      <td>0.8</td>\n",
       "      <td>0.1</td>\n",
       "      <td>0.0</td>\n",
       "      <td>2.6</td>\n",
       "      <td>4.820513</td>\n",
       "      <td>...</td>\n",
       "      <td>NaN</td>\n",
       "      <td>620.1</td>\n",
       "      <td>0.911681</td>\n",
       "      <td>NaN</td>\n",
       "      <td>0.581197</td>\n",
       "      <td>2.04</td>\n",
       "      <td>NaN</td>\n",
       "      <td>16438.6</td>\n",
       "      <td>NaN</td>\n",
       "      <td>4683.361823</td>\n",
       "    </tr>\n",
       "    <tr>\n",
       "      <th>8</th>\n",
       "      <td>Beet Sugar</td>\n",
       "      <td>0.0</td>\n",
       "      <td>0.0</td>\n",
       "      <td>0.5</td>\n",
       "      <td>0.2</td>\n",
       "      <td>0.6</td>\n",
       "      <td>0.1</td>\n",
       "      <td>0.0</td>\n",
       "      <td>1.4</td>\n",
       "      <td>1.541311</td>\n",
       "      <td>...</td>\n",
       "      <td>NaN</td>\n",
       "      <td>217.7</td>\n",
       "      <td>0.515670</td>\n",
       "      <td>NaN</td>\n",
       "      <td>0.521368</td>\n",
       "      <td>1.83</td>\n",
       "      <td>NaN</td>\n",
       "      <td>9493.3</td>\n",
       "      <td>NaN</td>\n",
       "      <td>2704.643875</td>\n",
       "    </tr>\n",
       "    <tr>\n",
       "      <th>9</th>\n",
       "      <td>Other Pulses</td>\n",
       "      <td>0.0</td>\n",
       "      <td>0.0</td>\n",
       "      <td>1.1</td>\n",
       "      <td>0.0</td>\n",
       "      <td>0.1</td>\n",
       "      <td>0.4</td>\n",
       "      <td>0.0</td>\n",
       "      <td>1.6</td>\n",
       "      <td>5.008798</td>\n",
       "      <td>...</td>\n",
       "      <td>203.503036</td>\n",
       "      <td>435.7</td>\n",
       "      <td>0.524927</td>\n",
       "      <td>0.836058</td>\n",
       "      <td>4.565982</td>\n",
       "      <td>15.57</td>\n",
       "      <td>7.272303</td>\n",
       "      <td>22477.4</td>\n",
       "      <td>10498.55208</td>\n",
       "      <td>NaN</td>\n",
       "    </tr>\n",
       "  </tbody>\n",
       "</table>\n",
       "<p>10 rows × 23 columns</p>\n",
       "</div>"
      ],
      "text/plain": [
       "          Food product  Land use change  Animal Feed  Farm  Processing  \\\n",
       "0  Wheat & Rye (Bread)              0.1          0.0   0.8         0.2   \n",
       "1         Maize (Meal)              0.3          0.0   0.5         0.1   \n",
       "2        Barley (Beer)              0.0          0.0   0.2         0.1   \n",
       "3              Oatmeal              0.0          0.0   1.4         0.0   \n",
       "4                 Rice              0.0          0.0   3.6         0.1   \n",
       "5             Potatoes              0.0          0.0   0.2         0.0   \n",
       "6              Cassava              0.6          0.0   0.2         0.0   \n",
       "7           Cane Sugar              1.2          0.0   0.5         0.0   \n",
       "8           Beet Sugar              0.0          0.0   0.5         0.2   \n",
       "9         Other Pulses              0.0          0.0   1.1         0.0   \n",
       "\n",
       "   Transport  Packging  Retail  Total_emissions  \\\n",
       "0        0.1       0.1     0.1              1.4   \n",
       "1        0.1       0.1     0.0              1.1   \n",
       "2        0.0       0.5     0.3              1.1   \n",
       "3        0.1       0.1     0.0              1.6   \n",
       "4        0.1       0.1     0.1              4.0   \n",
       "5        0.1       0.0     0.0              0.3   \n",
       "6        0.1       0.0     0.0              0.9   \n",
       "7        0.8       0.1     0.0              2.6   \n",
       "8        0.6       0.1     0.0              1.4   \n",
       "9        0.1       0.4     0.0              1.6   \n",
       "\n",
       "   Eutrophying emissions per 1000kcal (gPO₄eq per 1000kcal)  ...  \\\n",
       "0                                                NaN         ...   \n",
       "1                                                NaN         ...   \n",
       "2                                                NaN         ...   \n",
       "3                                           4.281357         ...   \n",
       "4                                           9.514379         ...   \n",
       "5                                           4.754098         ...   \n",
       "6                                           0.708419         ...   \n",
       "7                                           4.820513         ...   \n",
       "8                                           1.541311         ...   \n",
       "9                                           5.008798         ...   \n",
       "\n",
       "   Freshwater withdrawals per 100g protein (liters per 100g protein)  \\\n",
       "0                                                NaN                   \n",
       "1                                                NaN                   \n",
       "2                                                NaN                   \n",
       "3                                         371.076923                   \n",
       "4                                        3166.760563                   \n",
       "5                                         347.647059                   \n",
       "6                                                NaN                   \n",
       "7                                                NaN                   \n",
       "8                                                NaN                   \n",
       "9                                         203.503036                   \n",
       "\n",
       "   Freshwater withdrawals per kilogram (liters per kilogram)  \\\n",
       "0                                                NaN           \n",
       "1                                                NaN           \n",
       "2                                                NaN           \n",
       "3                                              482.4           \n",
       "4                                             2248.4           \n",
       "5                                               59.1           \n",
       "6                                                0.0           \n",
       "7                                              620.1           \n",
       "8                                              217.7           \n",
       "9                                              435.7           \n",
       "\n",
       "   Greenhouse gas emissions per 1000kcal (kgCO₂eq per 1000kcal)  \\\n",
       "0                                                NaN              \n",
       "1                                                NaN              \n",
       "2                                                NaN              \n",
       "3                                           0.945482              \n",
       "4                                           1.207271              \n",
       "5                                           0.628415              \n",
       "6                                           1.355236              \n",
       "7                                           0.911681              \n",
       "8                                           0.515670              \n",
       "9                                           0.524927              \n",
       "\n",
       "   Greenhouse gas emissions per 100g protein (kgCO₂eq per 100g protein)  \\\n",
       "0                                                NaN                      \n",
       "1                                                NaN                      \n",
       "2                                                NaN                      \n",
       "3                                           1.907692                      \n",
       "4                                           6.267606                      \n",
       "5                                           2.705882                      \n",
       "6                                          14.666667                      \n",
       "7                                                NaN                      \n",
       "8                                                NaN                      \n",
       "9                                           0.836058                      \n",
       "\n",
       "   Land use per 1000kcal (m² per 1000kcal)  \\\n",
       "0                                      NaN   \n",
       "1                                      NaN   \n",
       "2                                      NaN   \n",
       "3                                 2.897446   \n",
       "4                                 0.759631   \n",
       "5                                 1.202186   \n",
       "6                                 1.858316   \n",
       "7                                 0.581197   \n",
       "8                                 0.521368   \n",
       "9                                 4.565982   \n",
       "\n",
       "   Land use per kilogram (m² per kilogram)  \\\n",
       "0                                      NaN   \n",
       "1                                      NaN   \n",
       "2                                      NaN   \n",
       "3                                     7.60   \n",
       "4                                     2.80   \n",
       "5                                     0.88   \n",
       "6                                     1.81   \n",
       "7                                     2.04   \n",
       "8                                     1.83   \n",
       "9                                    15.57   \n",
       "\n",
       "   Land use per 100g protein (m² per 100g protein)  \\\n",
       "0                                              NaN   \n",
       "1                                              NaN   \n",
       "2                                              NaN   \n",
       "3                                         5.846154   \n",
       "4                                         3.943662   \n",
       "5                                         5.176471   \n",
       "6                                        20.111111   \n",
       "7                                              NaN   \n",
       "8                                              NaN   \n",
       "9                                         7.272303   \n",
       "\n",
       "   Scarcity-weighted water use per kilogram (liters per kilogram)  \\\n",
       "0                                                NaN                \n",
       "1                                                NaN                \n",
       "2                                                NaN                \n",
       "3                                            18786.2                \n",
       "4                                            49576.3                \n",
       "5                                             2754.2                \n",
       "6                                                0.0                \n",
       "7                                            16438.6                \n",
       "8                                             9493.3                \n",
       "9                                            22477.4                \n",
       "\n",
       "   Scarcity-weighted water use per 100g protein (liters per 100g protein)  \\\n",
       "0                                                NaN                        \n",
       "1                                                NaN                        \n",
       "2                                                NaN                        \n",
       "3                                        14450.92308                        \n",
       "4                                        69825.77465                        \n",
       "5                                        16201.17647                        \n",
       "6                                                NaN                        \n",
       "7                                                NaN                        \n",
       "8                                                NaN                        \n",
       "9                                        10498.55208                        \n",
       "\n",
       "   Scarcity-weighted water use per 1000kcal (liters per 1000 kilocalories)  \n",
       "0                                                NaN                        \n",
       "1                                                NaN                        \n",
       "2                                                NaN                        \n",
       "3                                        7162.104461                        \n",
       "4                                       13449.891480                        \n",
       "5                                        3762.568306                        \n",
       "6                                                NaN                        \n",
       "7                                        4683.361823                        \n",
       "8                                        2704.643875                        \n",
       "9                                                NaN                        \n",
       "\n",
       "[10 rows x 23 columns]"
      ]
     },
     "execution_count": 3,
     "metadata": {},
     "output_type": "execute_result"
    }
   ],
   "source": [
    "law.head(10)"
   ]
  },
  {
   "cell_type": "code",
   "execution_count": 4,
   "id": "adff8c11",
   "metadata": {},
   "outputs": [
    {
     "data": {
      "text/plain": [
       "(43, 23)"
      ]
     },
     "execution_count": 4,
     "metadata": {},
     "output_type": "execute_result"
    }
   ],
   "source": [
    "law.shape"
   ]
  },
  {
   "cell_type": "code",
   "execution_count": 5,
   "id": "86fd49a0",
   "metadata": {},
   "outputs": [
    {
     "data": {
      "application/vnd.microsoft.datawrangler.viewer.v0+json": {
       "columns": [
        {
         "name": "index",
         "rawType": "object",
         "type": "string"
        },
        {
         "name": "0",
         "rawType": "int64",
         "type": "integer"
        }
       ],
       "ref": "f729a765-2e51-43d9-8a4a-eaf2491a81f1",
       "rows": [
        [
         "Food product",
         "0"
        ],
        [
         "Land use change",
         "0"
        ],
        [
         "Animal Feed",
         "0"
        ],
        [
         "Farm",
         "0"
        ],
        [
         "Processing",
         "0"
        ],
        [
         "Transport",
         "0"
        ],
        [
         "Packging",
         "0"
        ],
        [
         "Retail",
         "0"
        ],
        [
         "Total_emissions",
         "0"
        ],
        [
         "Eutrophying emissions per 1000kcal (gPO₄eq per 1000kcal)",
         "10"
        ],
        [
         "Eutrophying emissions per kilogram (gPO₄eq per kilogram)",
         "5"
        ],
        [
         "Eutrophying emissions per 100g protein (gPO₄eq per 100 grams protein)",
         "16"
        ],
        [
         "Freshwater withdrawals per 1000kcal (liters per 1000kcal)",
         "13"
        ],
        [
         "Freshwater withdrawals per 100g protein (liters per 100g protein)",
         "17"
        ],
        [
         "Freshwater withdrawals per kilogram (liters per kilogram)",
         "5"
        ],
        [
         "Greenhouse gas emissions per 1000kcal (kgCO₂eq per 1000kcal)",
         "10"
        ],
        [
         "Greenhouse gas emissions per 100g protein (kgCO₂eq per 100g protein)",
         "16"
        ],
        [
         "Land use per 1000kcal (m² per 1000kcal)",
         "10"
        ],
        [
         "Land use per kilogram (m² per kilogram)",
         "5"
        ],
        [
         "Land use per 100g protein (m² per 100g protein)",
         "16"
        ],
        [
         "Scarcity-weighted water use per kilogram (liters per kilogram)",
         "5"
        ],
        [
         "Scarcity-weighted water use per 100g protein (liters per 100g protein)",
         "17"
        ],
        [
         "Scarcity-weighted water use per 1000kcal (liters per 1000 kilocalories)",
         "13"
        ]
       ],
       "shape": {
        "columns": 1,
        "rows": 23
       }
      },
      "text/plain": [
       "Food product                                                                0\n",
       "Land use change                                                             0\n",
       "Animal Feed                                                                 0\n",
       "Farm                                                                        0\n",
       "Processing                                                                  0\n",
       "Transport                                                                   0\n",
       "Packging                                                                    0\n",
       "Retail                                                                      0\n",
       "Total_emissions                                                             0\n",
       "Eutrophying emissions per 1000kcal (gPO₄eq per 1000kcal)                   10\n",
       "Eutrophying emissions per kilogram (gPO₄eq per kilogram)                    5\n",
       "Eutrophying emissions per 100g protein (gPO₄eq per 100 grams protein)      16\n",
       "Freshwater withdrawals per 1000kcal (liters per 1000kcal)                  13\n",
       "Freshwater withdrawals per 100g protein (liters per 100g protein)          17\n",
       "Freshwater withdrawals per kilogram (liters per kilogram)                   5\n",
       "Greenhouse gas emissions per 1000kcal (kgCO₂eq per 1000kcal)               10\n",
       "Greenhouse gas emissions per 100g protein (kgCO₂eq per 100g protein)       16\n",
       "Land use per 1000kcal (m² per 1000kcal)                                    10\n",
       "Land use per kilogram (m² per kilogram)                                     5\n",
       "Land use per 100g protein (m² per 100g protein)                            16\n",
       "Scarcity-weighted water use per kilogram (liters per kilogram)              5\n",
       "Scarcity-weighted water use per 100g protein (liters per 100g protein)     17\n",
       "Scarcity-weighted water use per 1000kcal (liters per 1000 kilocalories)    13\n",
       "dtype: int64"
      ]
     },
     "execution_count": 5,
     "metadata": {},
     "output_type": "execute_result"
    }
   ],
   "source": [
    "law.isna().sum()"
   ]
  },
  {
   "cell_type": "markdown",
   "id": "e0b9734f",
   "metadata": {},
   "source": [
    "Cleaning Dataset\n",
    "- changing long column names\n",
    "- filling null values \n",
    "- replacing spaces in column names with underscore (_)\n",
    "- replacing longer names with shorter ones for easier analysis"
   ]
  },
  {
   "cell_type": "code",
   "execution_count": 21,
   "id": "8b44268c",
   "metadata": {},
   "outputs": [],
   "source": [
    "law.rename(columns = {\"packging\": \"packaging\"}, inplace = True)"
   ]
  },
  {
   "cell_type": "markdown",
   "id": "228f3fac",
   "metadata": {},
   "source": [
    "Dealing with null values KNN imputations to avoid values being flat "
   ]
  },
  {
   "cell_type": "code",
   "execution_count": 7,
   "id": "0b0cb895",
   "metadata": {},
   "outputs": [],
   "source": [
    "from sklearn.impute import KNNImputer"
   ]
  },
  {
   "cell_type": "code",
   "execution_count": 8,
   "id": "0f679816",
   "metadata": {},
   "outputs": [],
   "source": [
    "# Select only numeric columns (since KNN works on numbers)\n",
    "numeric_law = law.select_dtypes(include = [\"float64\", \"int64\"])"
   ]
  },
  {
   "cell_type": "code",
   "execution_count": 9,
   "id": "2767528a",
   "metadata": {},
   "outputs": [],
   "source": [
    "# Apply KNN imputer (n_neighbors can be tuned, e.g., 3–7)\n",
    "imputer = KNNImputer(n_neighbors = 5)\n",
    "numeric_imputed = imputer.fit_transform(numeric_law)"
   ]
  },
  {
   "cell_type": "code",
   "execution_count": 10,
   "id": "ec90fdf0",
   "metadata": {},
   "outputs": [],
   "source": [
    "# Put back into a DataFrame with original column names\n",
    "numeric_imputed_law = pd.DataFrame(numeric_imputed, columns = numeric_law.columns)"
   ]
  },
  {
   "cell_type": "code",
   "execution_count": 11,
   "id": "86d2b958",
   "metadata": {},
   "outputs": [],
   "source": [
    "# Replace numeric columns in original df with imputed ones\n",
    "law[numeric_law.columns] = numeric_imputed_law"
   ]
  },
  {
   "cell_type": "code",
   "execution_count": 12,
   "id": "50470aeb",
   "metadata": {},
   "outputs": [
    {
     "data": {
      "application/vnd.microsoft.datawrangler.viewer.v0+json": {
       "columns": [
        {
         "name": "index",
         "rawType": "object",
         "type": "string"
        },
        {
         "name": "0",
         "rawType": "int64",
         "type": "integer"
        }
       ],
       "ref": "a233d1f8-2fa5-4132-85c2-b21a3ec38419",
       "rows": [
        [
         "Food product",
         "0"
        ],
        [
         "Land use change",
         "0"
        ],
        [
         "Animal Feed",
         "0"
        ],
        [
         "Farm",
         "0"
        ],
        [
         "Processing",
         "0"
        ],
        [
         "Transport",
         "0"
        ],
        [
         "Packging",
         "0"
        ],
        [
         "Retail",
         "0"
        ],
        [
         "Total_emissions",
         "0"
        ],
        [
         "Eutrophying emissions per 1000kcal (gPO₄eq per 1000kcal)",
         "0"
        ],
        [
         "Eutrophying emissions per kilogram (gPO₄eq per kilogram)",
         "0"
        ],
        [
         "Eutrophying emissions per 100g protein (gPO₄eq per 100 grams protein)",
         "0"
        ],
        [
         "Freshwater withdrawals per 1000kcal (liters per 1000kcal)",
         "0"
        ],
        [
         "Freshwater withdrawals per 100g protein (liters per 100g protein)",
         "0"
        ],
        [
         "Freshwater withdrawals per kilogram (liters per kilogram)",
         "0"
        ],
        [
         "Greenhouse gas emissions per 1000kcal (kgCO₂eq per 1000kcal)",
         "0"
        ],
        [
         "Greenhouse gas emissions per 100g protein (kgCO₂eq per 100g protein)",
         "0"
        ],
        [
         "Land use per 1000kcal (m² per 1000kcal)",
         "0"
        ],
        [
         "Land use per kilogram (m² per kilogram)",
         "0"
        ],
        [
         "Land use per 100g protein (m² per 100g protein)",
         "0"
        ],
        [
         "Scarcity-weighted water use per kilogram (liters per kilogram)",
         "0"
        ],
        [
         "Scarcity-weighted water use per 100g protein (liters per 100g protein)",
         "0"
        ],
        [
         "Scarcity-weighted water use per 1000kcal (liters per 1000 kilocalories)",
         "0"
        ]
       ],
       "shape": {
        "columns": 1,
        "rows": 23
       }
      },
      "text/plain": [
       "Food product                                                               0\n",
       "Land use change                                                            0\n",
       "Animal Feed                                                                0\n",
       "Farm                                                                       0\n",
       "Processing                                                                 0\n",
       "Transport                                                                  0\n",
       "Packging                                                                   0\n",
       "Retail                                                                     0\n",
       "Total_emissions                                                            0\n",
       "Eutrophying emissions per 1000kcal (gPO₄eq per 1000kcal)                   0\n",
       "Eutrophying emissions per kilogram (gPO₄eq per kilogram)                   0\n",
       "Eutrophying emissions per 100g protein (gPO₄eq per 100 grams protein)      0\n",
       "Freshwater withdrawals per 1000kcal (liters per 1000kcal)                  0\n",
       "Freshwater withdrawals per 100g protein (liters per 100g protein)          0\n",
       "Freshwater withdrawals per kilogram (liters per kilogram)                  0\n",
       "Greenhouse gas emissions per 1000kcal (kgCO₂eq per 1000kcal)               0\n",
       "Greenhouse gas emissions per 100g protein (kgCO₂eq per 100g protein)       0\n",
       "Land use per 1000kcal (m² per 1000kcal)                                    0\n",
       "Land use per kilogram (m² per kilogram)                                    0\n",
       "Land use per 100g protein (m² per 100g protein)                            0\n",
       "Scarcity-weighted water use per kilogram (liters per kilogram)             0\n",
       "Scarcity-weighted water use per 100g protein (liters per 100g protein)     0\n",
       "Scarcity-weighted water use per 1000kcal (liters per 1000 kilocalories)    0\n",
       "dtype: int64"
      ]
     },
     "execution_count": 12,
     "metadata": {},
     "output_type": "execute_result"
    }
   ],
   "source": [
    "law.isna().sum()"
   ]
  },
  {
   "cell_type": "code",
   "execution_count": 13,
   "id": "18048e3e",
   "metadata": {},
   "outputs": [],
   "source": [
    "law.columns = (\n",
    "    law.columns\n",
    "      .str.strip()\n",
    "      .str.lower()\n",
    "      .str.replace(\" \", \"_\")\n",
    "      .str.replace(r\"[^\\w\\s]\", \"\", regex = True)\n",
    ")"
   ]
  },
  {
   "cell_type": "code",
   "execution_count": 20,
   "id": "11dc7b27",
   "metadata": {},
   "outputs": [
    {
     "data": {
      "application/vnd.microsoft.datawrangler.viewer.v0+json": {
       "columns": [
        {
         "name": "index",
         "rawType": "int64",
         "type": "integer"
        },
        {
         "name": "food_product",
         "rawType": "object",
         "type": "string"
        },
        {
         "name": "land_use_change",
         "rawType": "float64",
         "type": "float"
        },
        {
         "name": "animal_feed",
         "rawType": "float64",
         "type": "float"
        },
        {
         "name": "farm",
         "rawType": "float64",
         "type": "float"
        },
        {
         "name": "processing",
         "rawType": "float64",
         "type": "float"
        },
        {
         "name": "transport",
         "rawType": "float64",
         "type": "float"
        },
        {
         "name": "packaging",
         "rawType": "float64",
         "type": "float"
        },
        {
         "name": "retail",
         "rawType": "float64",
         "type": "float"
        },
        {
         "name": "total_emissions",
         "rawType": "float64",
         "type": "float"
        },
        {
         "name": "eutrophying_per_1000kcal",
         "rawType": "float64",
         "type": "float"
        },
        {
         "name": "eutrophying_per_kg",
         "rawType": "float64",
         "type": "float"
        },
        {
         "name": "eutrophying_per_100g_protein",
         "rawType": "float64",
         "type": "float"
        },
        {
         "name": "water_per_1000kcal",
         "rawType": "float64",
         "type": "float"
        },
        {
         "name": "water_per_100g_protein",
         "rawType": "float64",
         "type": "float"
        },
        {
         "name": "water_per_kg",
         "rawType": "float64",
         "type": "float"
        },
        {
         "name": "GHG_per_1000kcal",
         "rawType": "float64",
         "type": "float"
        },
        {
         "name": "GHG_per_100g_protein",
         "rawType": "float64",
         "type": "float"
        },
        {
         "name": "land_use_per_1000kcal",
         "rawType": "float64",
         "type": "float"
        },
        {
         "name": "land_use_per_kg",
         "rawType": "float64",
         "type": "float"
        },
        {
         "name": "land_use_per_100g_protein",
         "rawType": "float64",
         "type": "float"
        },
        {
         "name": "scarcity_water_per_kg",
         "rawType": "float64",
         "type": "float"
        },
        {
         "name": "scarcity_water_per_100g_protein",
         "rawType": "float64",
         "type": "float"
        },
        {
         "name": "scarcity_water_per_1000kcal",
         "rawType": "float64",
         "type": "float"
        }
       ],
       "ref": "df16410b-1e62-4055-bcf5-a41f2c52c640",
       "rows": [
        [
         "0",
         "Wheat & Rye (Bread)",
         "0.1",
         "0.0",
         "0.8",
         "0.2",
         "0.1",
         "0.1",
         "0.1",
         "1.4000000000000004",
         "11.797335299999999",
         "8.728",
         "29.894621562399998",
         "623.844763384",
         "1662.17719798",
         "367.88",
         "3.0016087444",
         "7.496958865799999",
         "3.1364031562",
         "5.614",
         "9.569703903",
         "17283.34",
         "59530.95731799999",
         "15235.807562599997"
        ],
        [
         "1",
         "Maize (Meal)",
         "0.3",
         "0.0",
         "0.5",
         "0.1",
         "0.1",
         "0.1",
         "0.0",
         "1.1",
         "11.725664105799998",
         "4.854",
         "35.415857586200005",
         "727.533041284",
         "2018.7965595600003",
         "267.9",
         "3.3512033986000005",
         "11.792653265999999",
         "3.1339297488000004",
         "2.674",
         "15.257123711400002",
         "12795.820000000002",
         "71384.8602648",
         "23750.563140399998"
        ],
        [
         "2",
         "Barley (Beer)",
         "0.0",
         "0.0",
         "0.2",
         "0.1",
         "0.0",
         "0.5",
         "0.3",
         "1.1",
         "4.128663056",
         "3.4940000000000007",
         "35.415857586200005",
         "727.533041284",
         "2018.7965595600003",
         "158.85999999999999",
         "1.2543373018000001",
         "11.792653265999999",
         "2.3960979898000003",
         "1.534",
         "15.257123711400002",
         "6692.4",
         "71384.8602648",
         "23750.563140399998"
        ],
        [
         "3",
         "Oatmeal",
         "0.0",
         "0.0",
         "1.4",
         "0.0",
         "0.1",
         "0.1",
         "0.0",
         "1.6",
         "4.281357225",
         "11.23",
         "8.638461538",
         "183.9115517",
         "371.0769231",
         "482.4",
         "0.945482272",
         "1.907692308",
         "2.897445673",
         "7.6",
         "5.846153846",
         "18786.2",
         "14450.92308",
         "7162.104461"
        ],
        [
         "4",
         "Rice",
         "0.0",
         "0.0",
         "3.6",
         "0.1",
         "0.1",
         "0.1",
         "0.1",
         "4.0",
         "9.51437873",
         "35.07",
         "49.3943662",
         "609.9837222",
         "3166.760563",
         "2248.4",
         "1.207270754",
         "6.267605634",
         "0.7596310359999999",
         "2.8",
         "3.943661972",
         "49576.3",
         "69825.77465",
         "13449.891480000002"
        ],
        [
         "5",
         "Potatoes",
         "0.0",
         "0.0",
         "0.2",
         "0.0",
         "0.1",
         "0.0",
         "0.0",
         "0.3",
         "4.7540983610000005",
         "3.48",
         "20.47058824",
         "80.73770492",
         "347.6470588",
         "59.1",
         "0.628415301",
         "2.705882353",
         "1.202185792",
         "0.88",
         "5.176470588",
         "2754.2",
         "16201.17647",
         "3762.568306"
        ],
        [
         "6",
         "Cassava",
         "0.6",
         "0.0",
         "0.2",
         "0.0",
         "0.1",
         "0.0",
         "0.0",
         "0.9",
         "0.708418891",
         "0.69",
         "7.666666667",
         "70.64254412199999",
         "409.24885616",
         "0.0",
         "1.35523614",
         "14.66666667",
         "1.858316222",
         "1.81",
         "20.11111111",
         "0.0",
         "8087.6203366",
         "1347.8635347847999"
        ],
        [
         "7",
         "Cane Sugar",
         "1.2",
         "0.0",
         "0.5",
         "0.0",
         "0.8",
         "0.1",
         "0.0",
         "2.6",
         "4.820512821",
         "16.92",
         "13.545766792399998",
         "176.66666669999998",
         "330.95364628000004",
         "620.1",
         "0.911680912",
         "2.6184265023999997",
         "0.581196581",
         "2.04",
         "5.8363808852000005",
         "16438.6",
         "12383.949650599998",
         "4683.361822999999"
        ],
        [
         "8",
         "Beet Sugar",
         "0.0",
         "0.0",
         "0.5",
         "0.2",
         "0.6",
         "0.1",
         "0.0",
         "1.4",
         "1.541310541",
         "5.41",
         "52.754289614",
         "62.02279202",
         "440.78188289999997",
         "217.7",
         "0.515669516",
         "21.9701301036",
         "0.5213675210000001",
         "1.83",
         "31.290379568",
         "9493.3",
         "9321.332348400001",
         "2704.643875"
        ],
        [
         "9",
         "Other Pulses",
         "0.0",
         "0.0",
         "1.1",
         "0.0",
         "0.1",
         "0.4",
         "0.0",
         "1.6",
         "5.008797653999999",
         "17.08",
         "7.97758057",
         "229.08093421400002",
         "203.503036",
         "435.7",
         "0.524926686",
         "0.836057917",
         "4.565982405",
         "15.57",
         "7.272302662",
         "22477.4",
         "10498.55208",
         "6639.1128954"
        ]
       ],
       "shape": {
        "columns": 23,
        "rows": 10
       }
      },
      "text/html": [
       "<div>\n",
       "<style scoped>\n",
       "    .dataframe tbody tr th:only-of-type {\n",
       "        vertical-align: middle;\n",
       "    }\n",
       "\n",
       "    .dataframe tbody tr th {\n",
       "        vertical-align: top;\n",
       "    }\n",
       "\n",
       "    .dataframe thead th {\n",
       "        text-align: right;\n",
       "    }\n",
       "</style>\n",
       "<table border=\"1\" class=\"dataframe\">\n",
       "  <thead>\n",
       "    <tr style=\"text-align: right;\">\n",
       "      <th></th>\n",
       "      <th>food_product</th>\n",
       "      <th>land_use_change</th>\n",
       "      <th>animal_feed</th>\n",
       "      <th>farm</th>\n",
       "      <th>processing</th>\n",
       "      <th>transport</th>\n",
       "      <th>packaging</th>\n",
       "      <th>retail</th>\n",
       "      <th>total_emissions</th>\n",
       "      <th>eutrophying_per_1000kcal</th>\n",
       "      <th>...</th>\n",
       "      <th>water_per_100g_protein</th>\n",
       "      <th>water_per_kg</th>\n",
       "      <th>GHG_per_1000kcal</th>\n",
       "      <th>GHG_per_100g_protein</th>\n",
       "      <th>land_use_per_1000kcal</th>\n",
       "      <th>land_use_per_kg</th>\n",
       "      <th>land_use_per_100g_protein</th>\n",
       "      <th>scarcity_water_per_kg</th>\n",
       "      <th>scarcity_water_per_100g_protein</th>\n",
       "      <th>scarcity_water_per_1000kcal</th>\n",
       "    </tr>\n",
       "  </thead>\n",
       "  <tbody>\n",
       "    <tr>\n",
       "      <th>0</th>\n",
       "      <td>Wheat &amp; Rye (Bread)</td>\n",
       "      <td>0.1</td>\n",
       "      <td>0.0</td>\n",
       "      <td>0.8</td>\n",
       "      <td>0.2</td>\n",
       "      <td>0.1</td>\n",
       "      <td>0.1</td>\n",
       "      <td>0.1</td>\n",
       "      <td>1.4</td>\n",
       "      <td>11.797335</td>\n",
       "      <td>...</td>\n",
       "      <td>1662.177198</td>\n",
       "      <td>367.88</td>\n",
       "      <td>3.001609</td>\n",
       "      <td>7.496959</td>\n",
       "      <td>3.136403</td>\n",
       "      <td>5.614</td>\n",
       "      <td>9.569704</td>\n",
       "      <td>17283.34</td>\n",
       "      <td>59530.957318</td>\n",
       "      <td>15235.807563</td>\n",
       "    </tr>\n",
       "    <tr>\n",
       "      <th>1</th>\n",
       "      <td>Maize (Meal)</td>\n",
       "      <td>0.3</td>\n",
       "      <td>0.0</td>\n",
       "      <td>0.5</td>\n",
       "      <td>0.1</td>\n",
       "      <td>0.1</td>\n",
       "      <td>0.1</td>\n",
       "      <td>0.0</td>\n",
       "      <td>1.1</td>\n",
       "      <td>11.725664</td>\n",
       "      <td>...</td>\n",
       "      <td>2018.796560</td>\n",
       "      <td>267.90</td>\n",
       "      <td>3.351203</td>\n",
       "      <td>11.792653</td>\n",
       "      <td>3.133930</td>\n",
       "      <td>2.674</td>\n",
       "      <td>15.257124</td>\n",
       "      <td>12795.82</td>\n",
       "      <td>71384.860265</td>\n",
       "      <td>23750.563140</td>\n",
       "    </tr>\n",
       "    <tr>\n",
       "      <th>2</th>\n",
       "      <td>Barley (Beer)</td>\n",
       "      <td>0.0</td>\n",
       "      <td>0.0</td>\n",
       "      <td>0.2</td>\n",
       "      <td>0.1</td>\n",
       "      <td>0.0</td>\n",
       "      <td>0.5</td>\n",
       "      <td>0.3</td>\n",
       "      <td>1.1</td>\n",
       "      <td>4.128663</td>\n",
       "      <td>...</td>\n",
       "      <td>2018.796560</td>\n",
       "      <td>158.86</td>\n",
       "      <td>1.254337</td>\n",
       "      <td>11.792653</td>\n",
       "      <td>2.396098</td>\n",
       "      <td>1.534</td>\n",
       "      <td>15.257124</td>\n",
       "      <td>6692.40</td>\n",
       "      <td>71384.860265</td>\n",
       "      <td>23750.563140</td>\n",
       "    </tr>\n",
       "    <tr>\n",
       "      <th>3</th>\n",
       "      <td>Oatmeal</td>\n",
       "      <td>0.0</td>\n",
       "      <td>0.0</td>\n",
       "      <td>1.4</td>\n",
       "      <td>0.0</td>\n",
       "      <td>0.1</td>\n",
       "      <td>0.1</td>\n",
       "      <td>0.0</td>\n",
       "      <td>1.6</td>\n",
       "      <td>4.281357</td>\n",
       "      <td>...</td>\n",
       "      <td>371.076923</td>\n",
       "      <td>482.40</td>\n",
       "      <td>0.945482</td>\n",
       "      <td>1.907692</td>\n",
       "      <td>2.897446</td>\n",
       "      <td>7.600</td>\n",
       "      <td>5.846154</td>\n",
       "      <td>18786.20</td>\n",
       "      <td>14450.923080</td>\n",
       "      <td>7162.104461</td>\n",
       "    </tr>\n",
       "    <tr>\n",
       "      <th>4</th>\n",
       "      <td>Rice</td>\n",
       "      <td>0.0</td>\n",
       "      <td>0.0</td>\n",
       "      <td>3.6</td>\n",
       "      <td>0.1</td>\n",
       "      <td>0.1</td>\n",
       "      <td>0.1</td>\n",
       "      <td>0.1</td>\n",
       "      <td>4.0</td>\n",
       "      <td>9.514379</td>\n",
       "      <td>...</td>\n",
       "      <td>3166.760563</td>\n",
       "      <td>2248.40</td>\n",
       "      <td>1.207271</td>\n",
       "      <td>6.267606</td>\n",
       "      <td>0.759631</td>\n",
       "      <td>2.800</td>\n",
       "      <td>3.943662</td>\n",
       "      <td>49576.30</td>\n",
       "      <td>69825.774650</td>\n",
       "      <td>13449.891480</td>\n",
       "    </tr>\n",
       "    <tr>\n",
       "      <th>5</th>\n",
       "      <td>Potatoes</td>\n",
       "      <td>0.0</td>\n",
       "      <td>0.0</td>\n",
       "      <td>0.2</td>\n",
       "      <td>0.0</td>\n",
       "      <td>0.1</td>\n",
       "      <td>0.0</td>\n",
       "      <td>0.0</td>\n",
       "      <td>0.3</td>\n",
       "      <td>4.754098</td>\n",
       "      <td>...</td>\n",
       "      <td>347.647059</td>\n",
       "      <td>59.10</td>\n",
       "      <td>0.628415</td>\n",
       "      <td>2.705882</td>\n",
       "      <td>1.202186</td>\n",
       "      <td>0.880</td>\n",
       "      <td>5.176471</td>\n",
       "      <td>2754.20</td>\n",
       "      <td>16201.176470</td>\n",
       "      <td>3762.568306</td>\n",
       "    </tr>\n",
       "    <tr>\n",
       "      <th>6</th>\n",
       "      <td>Cassava</td>\n",
       "      <td>0.6</td>\n",
       "      <td>0.0</td>\n",
       "      <td>0.2</td>\n",
       "      <td>0.0</td>\n",
       "      <td>0.1</td>\n",
       "      <td>0.0</td>\n",
       "      <td>0.0</td>\n",
       "      <td>0.9</td>\n",
       "      <td>0.708419</td>\n",
       "      <td>...</td>\n",
       "      <td>409.248856</td>\n",
       "      <td>0.00</td>\n",
       "      <td>1.355236</td>\n",
       "      <td>14.666667</td>\n",
       "      <td>1.858316</td>\n",
       "      <td>1.810</td>\n",
       "      <td>20.111111</td>\n",
       "      <td>0.00</td>\n",
       "      <td>8087.620337</td>\n",
       "      <td>1347.863535</td>\n",
       "    </tr>\n",
       "    <tr>\n",
       "      <th>7</th>\n",
       "      <td>Cane Sugar</td>\n",
       "      <td>1.2</td>\n",
       "      <td>0.0</td>\n",
       "      <td>0.5</td>\n",
       "      <td>0.0</td>\n",
       "      <td>0.8</td>\n",
       "      <td>0.1</td>\n",
       "      <td>0.0</td>\n",
       "      <td>2.6</td>\n",
       "      <td>4.820513</td>\n",
       "      <td>...</td>\n",
       "      <td>330.953646</td>\n",
       "      <td>620.10</td>\n",
       "      <td>0.911681</td>\n",
       "      <td>2.618427</td>\n",
       "      <td>0.581197</td>\n",
       "      <td>2.040</td>\n",
       "      <td>5.836381</td>\n",
       "      <td>16438.60</td>\n",
       "      <td>12383.949651</td>\n",
       "      <td>4683.361823</td>\n",
       "    </tr>\n",
       "    <tr>\n",
       "      <th>8</th>\n",
       "      <td>Beet Sugar</td>\n",
       "      <td>0.0</td>\n",
       "      <td>0.0</td>\n",
       "      <td>0.5</td>\n",
       "      <td>0.2</td>\n",
       "      <td>0.6</td>\n",
       "      <td>0.1</td>\n",
       "      <td>0.0</td>\n",
       "      <td>1.4</td>\n",
       "      <td>1.541311</td>\n",
       "      <td>...</td>\n",
       "      <td>440.781883</td>\n",
       "      <td>217.70</td>\n",
       "      <td>0.515670</td>\n",
       "      <td>21.970130</td>\n",
       "      <td>0.521368</td>\n",
       "      <td>1.830</td>\n",
       "      <td>31.290380</td>\n",
       "      <td>9493.30</td>\n",
       "      <td>9321.332348</td>\n",
       "      <td>2704.643875</td>\n",
       "    </tr>\n",
       "    <tr>\n",
       "      <th>9</th>\n",
       "      <td>Other Pulses</td>\n",
       "      <td>0.0</td>\n",
       "      <td>0.0</td>\n",
       "      <td>1.1</td>\n",
       "      <td>0.0</td>\n",
       "      <td>0.1</td>\n",
       "      <td>0.4</td>\n",
       "      <td>0.0</td>\n",
       "      <td>1.6</td>\n",
       "      <td>5.008798</td>\n",
       "      <td>...</td>\n",
       "      <td>203.503036</td>\n",
       "      <td>435.70</td>\n",
       "      <td>0.524927</td>\n",
       "      <td>0.836058</td>\n",
       "      <td>4.565982</td>\n",
       "      <td>15.570</td>\n",
       "      <td>7.272303</td>\n",
       "      <td>22477.40</td>\n",
       "      <td>10498.552080</td>\n",
       "      <td>6639.112895</td>\n",
       "    </tr>\n",
       "  </tbody>\n",
       "</table>\n",
       "<p>10 rows × 23 columns</p>\n",
       "</div>"
      ],
      "text/plain": [
       "          food_product  land_use_change  animal_feed  farm  processing  \\\n",
       "0  Wheat & Rye (Bread)              0.1          0.0   0.8         0.2   \n",
       "1         Maize (Meal)              0.3          0.0   0.5         0.1   \n",
       "2        Barley (Beer)              0.0          0.0   0.2         0.1   \n",
       "3              Oatmeal              0.0          0.0   1.4         0.0   \n",
       "4                 Rice              0.0          0.0   3.6         0.1   \n",
       "5             Potatoes              0.0          0.0   0.2         0.0   \n",
       "6              Cassava              0.6          0.0   0.2         0.0   \n",
       "7           Cane Sugar              1.2          0.0   0.5         0.0   \n",
       "8           Beet Sugar              0.0          0.0   0.5         0.2   \n",
       "9         Other Pulses              0.0          0.0   1.1         0.0   \n",
       "\n",
       "   transport  packaging  retail  total_emissions  eutrophying_per_1000kcal  \\\n",
       "0        0.1        0.1     0.1              1.4                 11.797335   \n",
       "1        0.1        0.1     0.0              1.1                 11.725664   \n",
       "2        0.0        0.5     0.3              1.1                  4.128663   \n",
       "3        0.1        0.1     0.0              1.6                  4.281357   \n",
       "4        0.1        0.1     0.1              4.0                  9.514379   \n",
       "5        0.1        0.0     0.0              0.3                  4.754098   \n",
       "6        0.1        0.0     0.0              0.9                  0.708419   \n",
       "7        0.8        0.1     0.0              2.6                  4.820513   \n",
       "8        0.6        0.1     0.0              1.4                  1.541311   \n",
       "9        0.1        0.4     0.0              1.6                  5.008798   \n",
       "\n",
       "   ...  water_per_100g_protein  water_per_kg  GHG_per_1000kcal  \\\n",
       "0  ...             1662.177198        367.88          3.001609   \n",
       "1  ...             2018.796560        267.90          3.351203   \n",
       "2  ...             2018.796560        158.86          1.254337   \n",
       "3  ...              371.076923        482.40          0.945482   \n",
       "4  ...             3166.760563       2248.40          1.207271   \n",
       "5  ...              347.647059         59.10          0.628415   \n",
       "6  ...              409.248856          0.00          1.355236   \n",
       "7  ...              330.953646        620.10          0.911681   \n",
       "8  ...              440.781883        217.70          0.515670   \n",
       "9  ...              203.503036        435.70          0.524927   \n",
       "\n",
       "   GHG_per_100g_protein  land_use_per_1000kcal  land_use_per_kg  \\\n",
       "0              7.496959               3.136403            5.614   \n",
       "1             11.792653               3.133930            2.674   \n",
       "2             11.792653               2.396098            1.534   \n",
       "3              1.907692               2.897446            7.600   \n",
       "4              6.267606               0.759631            2.800   \n",
       "5              2.705882               1.202186            0.880   \n",
       "6             14.666667               1.858316            1.810   \n",
       "7              2.618427               0.581197            2.040   \n",
       "8             21.970130               0.521368            1.830   \n",
       "9              0.836058               4.565982           15.570   \n",
       "\n",
       "   land_use_per_100g_protein  scarcity_water_per_kg  \\\n",
       "0                   9.569704               17283.34   \n",
       "1                  15.257124               12795.82   \n",
       "2                  15.257124                6692.40   \n",
       "3                   5.846154               18786.20   \n",
       "4                   3.943662               49576.30   \n",
       "5                   5.176471                2754.20   \n",
       "6                  20.111111                   0.00   \n",
       "7                   5.836381               16438.60   \n",
       "8                  31.290380                9493.30   \n",
       "9                   7.272303               22477.40   \n",
       "\n",
       "   scarcity_water_per_100g_protein  scarcity_water_per_1000kcal  \n",
       "0                     59530.957318                 15235.807563  \n",
       "1                     71384.860265                 23750.563140  \n",
       "2                     71384.860265                 23750.563140  \n",
       "3                     14450.923080                  7162.104461  \n",
       "4                     69825.774650                 13449.891480  \n",
       "5                     16201.176470                  3762.568306  \n",
       "6                      8087.620337                  1347.863535  \n",
       "7                     12383.949651                  4683.361823  \n",
       "8                      9321.332348                  2704.643875  \n",
       "9                     10498.552080                  6639.112895  \n",
       "\n",
       "[10 rows x 23 columns]"
      ]
     },
     "execution_count": 20,
     "metadata": {},
     "output_type": "execute_result"
    }
   ],
   "source": [
    "law.head(10)"
   ]
  },
  {
   "cell_type": "code",
   "execution_count": 15,
   "id": "b3c04bed",
   "metadata": {},
   "outputs": [],
   "source": [
    "# Dictionary to rename long columns\n",
    "rename_map = {\n",
    "    \"greenhouse_gas_emissions_per_1000kcal_kgco₂eq_per_1000kcal\": \"GHG_per_1000kcal\",\n",
    "    \"greenhouse_gas_emissions_per_100g_protein_kgco₂eq_per_100g_protein\": \"GHG_per_100g_protein\",\n",
    "    \"land_use_per_1000kcal_m²_per_1000kcal\": \"land_use_per_1000kcal\",\n",
    "    \"land_use_per_kilogram_m²_per_kilogram\": \"land_use_per_kg\",\n",
    "    \"land_use_per_100g_protein_m²_per_100g_protein\": \"land_use_per_100g_protein\",\n",
    "    \"freshwater_withdrawals_per_100g_protein_liters_per_100g_protein\": \"water_per_100g_protein\",\n",
    "    \"freshwater_withdrawals_per_kilogram_liters_per_kilogram\": \"water_per_kg\",\n",
    "    \"freshwater_withdrawals_per_1000kcal_liters_per_1000kcal\": \"water_per_1000kcal\",\n",
    "    \"scarcityweighted_water_use_per_kilogram_liters_per_kilogram\": \"scarcity_water_per_kg\",\n",
    "    \"scarcityweighted_water_use_per_100g_protein_liters_per_100g_protein\": \"scarcity_water_per_100g_protein\",\n",
    "    \"scarcityweighted_water_use_per_1000kcal_liters_per_1000_kilocalories\": \"scarcity_water_per_1000kcal\",\n",
    "    \"eutrophying_emissions_per_1000kcal_gpo₄eq_per_1000kcal\": \"eutrophying_per_1000kcal\",\n",
    "    \"eutrophying_emissions_per_kilogram_gpo₄eq_per_kilogram\": \"eutrophying_per_kg\",\n",
    "    \"eutrophying_emissions_per_100g_protein_gpo₄eq_per_100_grams_protein\": \"eutrophying_per_100g_protein\",\n",
    "}\n",
    "\n"
   ]
  },
  {
   "cell_type": "code",
   "execution_count": 16,
   "id": "4e548220",
   "metadata": {},
   "outputs": [],
   "source": [
    "# Apply renaming\n",
    "law = law.rename(columns = rename_map)"
   ]
  },
  {
   "cell_type": "code",
   "execution_count": 22,
   "id": "af5730ea",
   "metadata": {},
   "outputs": [
    {
     "data": {
      "application/vnd.microsoft.datawrangler.viewer.v0+json": {
       "columns": [
        {
         "name": "index",
         "rawType": "int64",
         "type": "integer"
        },
        {
         "name": "food_product",
         "rawType": "object",
         "type": "string"
        },
        {
         "name": "land_use_change",
         "rawType": "float64",
         "type": "float"
        },
        {
         "name": "animal_feed",
         "rawType": "float64",
         "type": "float"
        },
        {
         "name": "farm",
         "rawType": "float64",
         "type": "float"
        },
        {
         "name": "processing",
         "rawType": "float64",
         "type": "float"
        },
        {
         "name": "transport",
         "rawType": "float64",
         "type": "float"
        },
        {
         "name": "packaging",
         "rawType": "float64",
         "type": "float"
        },
        {
         "name": "retail",
         "rawType": "float64",
         "type": "float"
        },
        {
         "name": "total_emissions",
         "rawType": "float64",
         "type": "float"
        },
        {
         "name": "eutrophying_per_1000kcal",
         "rawType": "float64",
         "type": "float"
        },
        {
         "name": "eutrophying_per_kg",
         "rawType": "float64",
         "type": "float"
        },
        {
         "name": "eutrophying_per_100g_protein",
         "rawType": "float64",
         "type": "float"
        },
        {
         "name": "water_per_1000kcal",
         "rawType": "float64",
         "type": "float"
        },
        {
         "name": "water_per_100g_protein",
         "rawType": "float64",
         "type": "float"
        },
        {
         "name": "water_per_kg",
         "rawType": "float64",
         "type": "float"
        },
        {
         "name": "GHG_per_1000kcal",
         "rawType": "float64",
         "type": "float"
        },
        {
         "name": "GHG_per_100g_protein",
         "rawType": "float64",
         "type": "float"
        },
        {
         "name": "land_use_per_1000kcal",
         "rawType": "float64",
         "type": "float"
        },
        {
         "name": "land_use_per_kg",
         "rawType": "float64",
         "type": "float"
        },
        {
         "name": "land_use_per_100g_protein",
         "rawType": "float64",
         "type": "float"
        },
        {
         "name": "scarcity_water_per_kg",
         "rawType": "float64",
         "type": "float"
        },
        {
         "name": "scarcity_water_per_100g_protein",
         "rawType": "float64",
         "type": "float"
        },
        {
         "name": "scarcity_water_per_1000kcal",
         "rawType": "float64",
         "type": "float"
        }
       ],
       "ref": "a61c0280-2245-4725-888a-9e3ce711e33c",
       "rows": [
        [
         "0",
         "Wheat & Rye (Bread)",
         "0.1",
         "0.0",
         "0.8",
         "0.2",
         "0.1",
         "0.1",
         "0.1",
         "1.4000000000000004",
         "11.797335299999999",
         "8.728",
         "29.894621562399998",
         "623.844763384",
         "1662.17719798",
         "367.88",
         "3.0016087444",
         "7.496958865799999",
         "3.1364031562",
         "5.614",
         "9.569703903",
         "17283.34",
         "59530.95731799999",
         "15235.807562599997"
        ],
        [
         "1",
         "Maize (Meal)",
         "0.3",
         "0.0",
         "0.5",
         "0.1",
         "0.1",
         "0.1",
         "0.0",
         "1.1",
         "11.725664105799998",
         "4.854",
         "35.415857586200005",
         "727.533041284",
         "2018.7965595600003",
         "267.9",
         "3.3512033986000005",
         "11.792653265999999",
         "3.1339297488000004",
         "2.674",
         "15.257123711400002",
         "12795.820000000002",
         "71384.8602648",
         "23750.563140399998"
        ],
        [
         "2",
         "Barley (Beer)",
         "0.0",
         "0.0",
         "0.2",
         "0.1",
         "0.0",
         "0.5",
         "0.3",
         "1.1",
         "4.128663056",
         "3.4940000000000007",
         "35.415857586200005",
         "727.533041284",
         "2018.7965595600003",
         "158.85999999999999",
         "1.2543373018000001",
         "11.792653265999999",
         "2.3960979898000003",
         "1.534",
         "15.257123711400002",
         "6692.4",
         "71384.8602648",
         "23750.563140399998"
        ],
        [
         "3",
         "Oatmeal",
         "0.0",
         "0.0",
         "1.4",
         "0.0",
         "0.1",
         "0.1",
         "0.0",
         "1.6",
         "4.281357225",
         "11.23",
         "8.638461538",
         "183.9115517",
         "371.0769231",
         "482.4",
         "0.945482272",
         "1.907692308",
         "2.897445673",
         "7.6",
         "5.846153846",
         "18786.2",
         "14450.92308",
         "7162.104461"
        ],
        [
         "4",
         "Rice",
         "0.0",
         "0.0",
         "3.6",
         "0.1",
         "0.1",
         "0.1",
         "0.1",
         "4.0",
         "9.51437873",
         "35.07",
         "49.3943662",
         "609.9837222",
         "3166.760563",
         "2248.4",
         "1.207270754",
         "6.267605634",
         "0.7596310359999999",
         "2.8",
         "3.943661972",
         "49576.3",
         "69825.77465",
         "13449.891480000002"
        ],
        [
         "5",
         "Potatoes",
         "0.0",
         "0.0",
         "0.2",
         "0.0",
         "0.1",
         "0.0",
         "0.0",
         "0.3",
         "4.7540983610000005",
         "3.48",
         "20.47058824",
         "80.73770492",
         "347.6470588",
         "59.1",
         "0.628415301",
         "2.705882353",
         "1.202185792",
         "0.88",
         "5.176470588",
         "2754.2",
         "16201.17647",
         "3762.568306"
        ],
        [
         "6",
         "Cassava",
         "0.6",
         "0.0",
         "0.2",
         "0.0",
         "0.1",
         "0.0",
         "0.0",
         "0.9",
         "0.708418891",
         "0.69",
         "7.666666667",
         "70.64254412199999",
         "409.24885616",
         "0.0",
         "1.35523614",
         "14.66666667",
         "1.858316222",
         "1.81",
         "20.11111111",
         "0.0",
         "8087.6203366",
         "1347.8635347847999"
        ],
        [
         "7",
         "Cane Sugar",
         "1.2",
         "0.0",
         "0.5",
         "0.0",
         "0.8",
         "0.1",
         "0.0",
         "2.6",
         "4.820512821",
         "16.92",
         "13.545766792399998",
         "176.66666669999998",
         "330.95364628000004",
         "620.1",
         "0.911680912",
         "2.6184265023999997",
         "0.581196581",
         "2.04",
         "5.8363808852000005",
         "16438.6",
         "12383.949650599998",
         "4683.361822999999"
        ],
        [
         "8",
         "Beet Sugar",
         "0.0",
         "0.0",
         "0.5",
         "0.2",
         "0.6",
         "0.1",
         "0.0",
         "1.4",
         "1.541310541",
         "5.41",
         "52.754289614",
         "62.02279202",
         "440.78188289999997",
         "217.7",
         "0.515669516",
         "21.9701301036",
         "0.5213675210000001",
         "1.83",
         "31.290379568",
         "9493.3",
         "9321.332348400001",
         "2704.643875"
        ],
        [
         "9",
         "Other Pulses",
         "0.0",
         "0.0",
         "1.1",
         "0.0",
         "0.1",
         "0.4",
         "0.0",
         "1.6",
         "5.008797653999999",
         "17.08",
         "7.97758057",
         "229.08093421400002",
         "203.503036",
         "435.7",
         "0.524926686",
         "0.836057917",
         "4.565982405",
         "15.57",
         "7.272302662",
         "22477.4",
         "10498.55208",
         "6639.1128954"
        ]
       ],
       "shape": {
        "columns": 23,
        "rows": 10
       }
      },
      "text/html": [
       "<div>\n",
       "<style scoped>\n",
       "    .dataframe tbody tr th:only-of-type {\n",
       "        vertical-align: middle;\n",
       "    }\n",
       "\n",
       "    .dataframe tbody tr th {\n",
       "        vertical-align: top;\n",
       "    }\n",
       "\n",
       "    .dataframe thead th {\n",
       "        text-align: right;\n",
       "    }\n",
       "</style>\n",
       "<table border=\"1\" class=\"dataframe\">\n",
       "  <thead>\n",
       "    <tr style=\"text-align: right;\">\n",
       "      <th></th>\n",
       "      <th>food_product</th>\n",
       "      <th>land_use_change</th>\n",
       "      <th>animal_feed</th>\n",
       "      <th>farm</th>\n",
       "      <th>processing</th>\n",
       "      <th>transport</th>\n",
       "      <th>packaging</th>\n",
       "      <th>retail</th>\n",
       "      <th>total_emissions</th>\n",
       "      <th>eutrophying_per_1000kcal</th>\n",
       "      <th>...</th>\n",
       "      <th>water_per_100g_protein</th>\n",
       "      <th>water_per_kg</th>\n",
       "      <th>GHG_per_1000kcal</th>\n",
       "      <th>GHG_per_100g_protein</th>\n",
       "      <th>land_use_per_1000kcal</th>\n",
       "      <th>land_use_per_kg</th>\n",
       "      <th>land_use_per_100g_protein</th>\n",
       "      <th>scarcity_water_per_kg</th>\n",
       "      <th>scarcity_water_per_100g_protein</th>\n",
       "      <th>scarcity_water_per_1000kcal</th>\n",
       "    </tr>\n",
       "  </thead>\n",
       "  <tbody>\n",
       "    <tr>\n",
       "      <th>0</th>\n",
       "      <td>Wheat &amp; Rye (Bread)</td>\n",
       "      <td>0.1</td>\n",
       "      <td>0.0</td>\n",
       "      <td>0.8</td>\n",
       "      <td>0.2</td>\n",
       "      <td>0.1</td>\n",
       "      <td>0.1</td>\n",
       "      <td>0.1</td>\n",
       "      <td>1.4</td>\n",
       "      <td>11.797335</td>\n",
       "      <td>...</td>\n",
       "      <td>1662.177198</td>\n",
       "      <td>367.88</td>\n",
       "      <td>3.001609</td>\n",
       "      <td>7.496959</td>\n",
       "      <td>3.136403</td>\n",
       "      <td>5.614</td>\n",
       "      <td>9.569704</td>\n",
       "      <td>17283.34</td>\n",
       "      <td>59530.957318</td>\n",
       "      <td>15235.807563</td>\n",
       "    </tr>\n",
       "    <tr>\n",
       "      <th>1</th>\n",
       "      <td>Maize (Meal)</td>\n",
       "      <td>0.3</td>\n",
       "      <td>0.0</td>\n",
       "      <td>0.5</td>\n",
       "      <td>0.1</td>\n",
       "      <td>0.1</td>\n",
       "      <td>0.1</td>\n",
       "      <td>0.0</td>\n",
       "      <td>1.1</td>\n",
       "      <td>11.725664</td>\n",
       "      <td>...</td>\n",
       "      <td>2018.796560</td>\n",
       "      <td>267.90</td>\n",
       "      <td>3.351203</td>\n",
       "      <td>11.792653</td>\n",
       "      <td>3.133930</td>\n",
       "      <td>2.674</td>\n",
       "      <td>15.257124</td>\n",
       "      <td>12795.82</td>\n",
       "      <td>71384.860265</td>\n",
       "      <td>23750.563140</td>\n",
       "    </tr>\n",
       "    <tr>\n",
       "      <th>2</th>\n",
       "      <td>Barley (Beer)</td>\n",
       "      <td>0.0</td>\n",
       "      <td>0.0</td>\n",
       "      <td>0.2</td>\n",
       "      <td>0.1</td>\n",
       "      <td>0.0</td>\n",
       "      <td>0.5</td>\n",
       "      <td>0.3</td>\n",
       "      <td>1.1</td>\n",
       "      <td>4.128663</td>\n",
       "      <td>...</td>\n",
       "      <td>2018.796560</td>\n",
       "      <td>158.86</td>\n",
       "      <td>1.254337</td>\n",
       "      <td>11.792653</td>\n",
       "      <td>2.396098</td>\n",
       "      <td>1.534</td>\n",
       "      <td>15.257124</td>\n",
       "      <td>6692.40</td>\n",
       "      <td>71384.860265</td>\n",
       "      <td>23750.563140</td>\n",
       "    </tr>\n",
       "    <tr>\n",
       "      <th>3</th>\n",
       "      <td>Oatmeal</td>\n",
       "      <td>0.0</td>\n",
       "      <td>0.0</td>\n",
       "      <td>1.4</td>\n",
       "      <td>0.0</td>\n",
       "      <td>0.1</td>\n",
       "      <td>0.1</td>\n",
       "      <td>0.0</td>\n",
       "      <td>1.6</td>\n",
       "      <td>4.281357</td>\n",
       "      <td>...</td>\n",
       "      <td>371.076923</td>\n",
       "      <td>482.40</td>\n",
       "      <td>0.945482</td>\n",
       "      <td>1.907692</td>\n",
       "      <td>2.897446</td>\n",
       "      <td>7.600</td>\n",
       "      <td>5.846154</td>\n",
       "      <td>18786.20</td>\n",
       "      <td>14450.923080</td>\n",
       "      <td>7162.104461</td>\n",
       "    </tr>\n",
       "    <tr>\n",
       "      <th>4</th>\n",
       "      <td>Rice</td>\n",
       "      <td>0.0</td>\n",
       "      <td>0.0</td>\n",
       "      <td>3.6</td>\n",
       "      <td>0.1</td>\n",
       "      <td>0.1</td>\n",
       "      <td>0.1</td>\n",
       "      <td>0.1</td>\n",
       "      <td>4.0</td>\n",
       "      <td>9.514379</td>\n",
       "      <td>...</td>\n",
       "      <td>3166.760563</td>\n",
       "      <td>2248.40</td>\n",
       "      <td>1.207271</td>\n",
       "      <td>6.267606</td>\n",
       "      <td>0.759631</td>\n",
       "      <td>2.800</td>\n",
       "      <td>3.943662</td>\n",
       "      <td>49576.30</td>\n",
       "      <td>69825.774650</td>\n",
       "      <td>13449.891480</td>\n",
       "    </tr>\n",
       "    <tr>\n",
       "      <th>5</th>\n",
       "      <td>Potatoes</td>\n",
       "      <td>0.0</td>\n",
       "      <td>0.0</td>\n",
       "      <td>0.2</td>\n",
       "      <td>0.0</td>\n",
       "      <td>0.1</td>\n",
       "      <td>0.0</td>\n",
       "      <td>0.0</td>\n",
       "      <td>0.3</td>\n",
       "      <td>4.754098</td>\n",
       "      <td>...</td>\n",
       "      <td>347.647059</td>\n",
       "      <td>59.10</td>\n",
       "      <td>0.628415</td>\n",
       "      <td>2.705882</td>\n",
       "      <td>1.202186</td>\n",
       "      <td>0.880</td>\n",
       "      <td>5.176471</td>\n",
       "      <td>2754.20</td>\n",
       "      <td>16201.176470</td>\n",
       "      <td>3762.568306</td>\n",
       "    </tr>\n",
       "    <tr>\n",
       "      <th>6</th>\n",
       "      <td>Cassava</td>\n",
       "      <td>0.6</td>\n",
       "      <td>0.0</td>\n",
       "      <td>0.2</td>\n",
       "      <td>0.0</td>\n",
       "      <td>0.1</td>\n",
       "      <td>0.0</td>\n",
       "      <td>0.0</td>\n",
       "      <td>0.9</td>\n",
       "      <td>0.708419</td>\n",
       "      <td>...</td>\n",
       "      <td>409.248856</td>\n",
       "      <td>0.00</td>\n",
       "      <td>1.355236</td>\n",
       "      <td>14.666667</td>\n",
       "      <td>1.858316</td>\n",
       "      <td>1.810</td>\n",
       "      <td>20.111111</td>\n",
       "      <td>0.00</td>\n",
       "      <td>8087.620337</td>\n",
       "      <td>1347.863535</td>\n",
       "    </tr>\n",
       "    <tr>\n",
       "      <th>7</th>\n",
       "      <td>Cane Sugar</td>\n",
       "      <td>1.2</td>\n",
       "      <td>0.0</td>\n",
       "      <td>0.5</td>\n",
       "      <td>0.0</td>\n",
       "      <td>0.8</td>\n",
       "      <td>0.1</td>\n",
       "      <td>0.0</td>\n",
       "      <td>2.6</td>\n",
       "      <td>4.820513</td>\n",
       "      <td>...</td>\n",
       "      <td>330.953646</td>\n",
       "      <td>620.10</td>\n",
       "      <td>0.911681</td>\n",
       "      <td>2.618427</td>\n",
       "      <td>0.581197</td>\n",
       "      <td>2.040</td>\n",
       "      <td>5.836381</td>\n",
       "      <td>16438.60</td>\n",
       "      <td>12383.949651</td>\n",
       "      <td>4683.361823</td>\n",
       "    </tr>\n",
       "    <tr>\n",
       "      <th>8</th>\n",
       "      <td>Beet Sugar</td>\n",
       "      <td>0.0</td>\n",
       "      <td>0.0</td>\n",
       "      <td>0.5</td>\n",
       "      <td>0.2</td>\n",
       "      <td>0.6</td>\n",
       "      <td>0.1</td>\n",
       "      <td>0.0</td>\n",
       "      <td>1.4</td>\n",
       "      <td>1.541311</td>\n",
       "      <td>...</td>\n",
       "      <td>440.781883</td>\n",
       "      <td>217.70</td>\n",
       "      <td>0.515670</td>\n",
       "      <td>21.970130</td>\n",
       "      <td>0.521368</td>\n",
       "      <td>1.830</td>\n",
       "      <td>31.290380</td>\n",
       "      <td>9493.30</td>\n",
       "      <td>9321.332348</td>\n",
       "      <td>2704.643875</td>\n",
       "    </tr>\n",
       "    <tr>\n",
       "      <th>9</th>\n",
       "      <td>Other Pulses</td>\n",
       "      <td>0.0</td>\n",
       "      <td>0.0</td>\n",
       "      <td>1.1</td>\n",
       "      <td>0.0</td>\n",
       "      <td>0.1</td>\n",
       "      <td>0.4</td>\n",
       "      <td>0.0</td>\n",
       "      <td>1.6</td>\n",
       "      <td>5.008798</td>\n",
       "      <td>...</td>\n",
       "      <td>203.503036</td>\n",
       "      <td>435.70</td>\n",
       "      <td>0.524927</td>\n",
       "      <td>0.836058</td>\n",
       "      <td>4.565982</td>\n",
       "      <td>15.570</td>\n",
       "      <td>7.272303</td>\n",
       "      <td>22477.40</td>\n",
       "      <td>10498.552080</td>\n",
       "      <td>6639.112895</td>\n",
       "    </tr>\n",
       "  </tbody>\n",
       "</table>\n",
       "<p>10 rows × 23 columns</p>\n",
       "</div>"
      ],
      "text/plain": [
       "          food_product  land_use_change  animal_feed  farm  processing  \\\n",
       "0  Wheat & Rye (Bread)              0.1          0.0   0.8         0.2   \n",
       "1         Maize (Meal)              0.3          0.0   0.5         0.1   \n",
       "2        Barley (Beer)              0.0          0.0   0.2         0.1   \n",
       "3              Oatmeal              0.0          0.0   1.4         0.0   \n",
       "4                 Rice              0.0          0.0   3.6         0.1   \n",
       "5             Potatoes              0.0          0.0   0.2         0.0   \n",
       "6              Cassava              0.6          0.0   0.2         0.0   \n",
       "7           Cane Sugar              1.2          0.0   0.5         0.0   \n",
       "8           Beet Sugar              0.0          0.0   0.5         0.2   \n",
       "9         Other Pulses              0.0          0.0   1.1         0.0   \n",
       "\n",
       "   transport  packaging  retail  total_emissions  eutrophying_per_1000kcal  \\\n",
       "0        0.1        0.1     0.1              1.4                 11.797335   \n",
       "1        0.1        0.1     0.0              1.1                 11.725664   \n",
       "2        0.0        0.5     0.3              1.1                  4.128663   \n",
       "3        0.1        0.1     0.0              1.6                  4.281357   \n",
       "4        0.1        0.1     0.1              4.0                  9.514379   \n",
       "5        0.1        0.0     0.0              0.3                  4.754098   \n",
       "6        0.1        0.0     0.0              0.9                  0.708419   \n",
       "7        0.8        0.1     0.0              2.6                  4.820513   \n",
       "8        0.6        0.1     0.0              1.4                  1.541311   \n",
       "9        0.1        0.4     0.0              1.6                  5.008798   \n",
       "\n",
       "   ...  water_per_100g_protein  water_per_kg  GHG_per_1000kcal  \\\n",
       "0  ...             1662.177198        367.88          3.001609   \n",
       "1  ...             2018.796560        267.90          3.351203   \n",
       "2  ...             2018.796560        158.86          1.254337   \n",
       "3  ...              371.076923        482.40          0.945482   \n",
       "4  ...             3166.760563       2248.40          1.207271   \n",
       "5  ...              347.647059         59.10          0.628415   \n",
       "6  ...              409.248856          0.00          1.355236   \n",
       "7  ...              330.953646        620.10          0.911681   \n",
       "8  ...              440.781883        217.70          0.515670   \n",
       "9  ...              203.503036        435.70          0.524927   \n",
       "\n",
       "   GHG_per_100g_protein  land_use_per_1000kcal  land_use_per_kg  \\\n",
       "0              7.496959               3.136403            5.614   \n",
       "1             11.792653               3.133930            2.674   \n",
       "2             11.792653               2.396098            1.534   \n",
       "3              1.907692               2.897446            7.600   \n",
       "4              6.267606               0.759631            2.800   \n",
       "5              2.705882               1.202186            0.880   \n",
       "6             14.666667               1.858316            1.810   \n",
       "7              2.618427               0.581197            2.040   \n",
       "8             21.970130               0.521368            1.830   \n",
       "9              0.836058               4.565982           15.570   \n",
       "\n",
       "   land_use_per_100g_protein  scarcity_water_per_kg  \\\n",
       "0                   9.569704               17283.34   \n",
       "1                  15.257124               12795.82   \n",
       "2                  15.257124                6692.40   \n",
       "3                   5.846154               18786.20   \n",
       "4                   3.943662               49576.30   \n",
       "5                   5.176471                2754.20   \n",
       "6                  20.111111                   0.00   \n",
       "7                   5.836381               16438.60   \n",
       "8                  31.290380                9493.30   \n",
       "9                   7.272303               22477.40   \n",
       "\n",
       "   scarcity_water_per_100g_protein  scarcity_water_per_1000kcal  \n",
       "0                     59530.957318                 15235.807563  \n",
       "1                     71384.860265                 23750.563140  \n",
       "2                     71384.860265                 23750.563140  \n",
       "3                     14450.923080                  7162.104461  \n",
       "4                     69825.774650                 13449.891480  \n",
       "5                     16201.176470                  3762.568306  \n",
       "6                      8087.620337                  1347.863535  \n",
       "7                     12383.949651                  4683.361823  \n",
       "8                      9321.332348                  2704.643875  \n",
       "9                     10498.552080                  6639.112895  \n",
       "\n",
       "[10 rows x 23 columns]"
      ]
     },
     "execution_count": 22,
     "metadata": {},
     "output_type": "execute_result"
    }
   ],
   "source": [
    "law.head(10)"
   ]
  },
  {
   "cell_type": "markdown",
   "id": "553de1f0",
   "metadata": {},
   "source": [
    "Q1\n",
    "- Which foods have the highest greenhouse gas emissions per kilogram?"
   ]
  },
  {
   "cell_type": "code",
   "execution_count": 22,
   "id": "a701459e",
   "metadata": {},
   "outputs": [],
   "source": [
    "top_ghg = law.sort_values(by = \"GHG_per_100g_protein\", ascending = False).head(5)"
   ]
  },
  {
   "cell_type": "code",
   "execution_count": 23,
   "id": "77d4ca61",
   "metadata": {},
   "outputs": [],
   "source": [
    "top_ghg[\"GHG_per_100g_protein\"] = top_ghg[\"GHG_per_100g_protein\"].round(2)"
   ]
  },
  {
   "cell_type": "code",
   "execution_count": 25,
   "id": "a5b99eba",
   "metadata": {},
   "outputs": [
    {
     "data": {
      "application/vnd.plotly.v1+json": {
       "config": {
        "plotlyServerURL": "https://plot.ly"
       },
       "data": [
        {
         "hovertemplate": "Food Product=%{x}<br>GHG per 100g protein (kgCO2eq)=%{marker.color}<extra></extra>",
         "legendgroup": "",
         "marker": {
          "color": {
           "bdata": "MzMzMzNTV0BSuB6F6/FIQBSuR+F61EFAexSuR+E6OUC4HoXrUfg1QA==",
           "dtype": "f8"
          },
          "coloraxis": "coloraxis",
          "pattern": {
           "shape": ""
          }
         },
         "name": "",
         "orientation": "v",
         "showlegend": false,
         "text": {
          "bdata": "MzMzMzNTV0BSuB6F6/FIQBSuR+F61EFAexSuR+E6OUC4HoXrUfg1QA==",
          "dtype": "f8"
         },
         "textposition": "auto",
         "type": "bar",
         "x": [
          "Dark Chocolate",
          "Beef (beef herd)",
          "Coffee",
          "Other Vegetables",
          "Beet Sugar"
         ],
         "xaxis": "x",
         "y": {
          "bdata": "MzMzMzNTV0BSuB6F6/FIQBSuR+F61EFAexSuR+E6OUC4HoXrUfg1QA==",
          "dtype": "f8"
         },
         "yaxis": "y"
        }
       ],
       "layout": {
        "barmode": "relative",
        "coloraxis": {
         "colorbar": {
          "title": {
           "text": "GHG per 100g protein (kgCO2eq)"
          }
         },
         "colorscale": [
          [
           0,
           "rgb(255,245,240)"
          ],
          [
           0.125,
           "rgb(254,224,210)"
          ],
          [
           0.25,
           "rgb(252,187,161)"
          ],
          [
           0.375,
           "rgb(252,146,114)"
          ],
          [
           0.5,
           "rgb(251,106,74)"
          ],
          [
           0.625,
           "rgb(239,59,44)"
          ],
          [
           0.75,
           "rgb(203,24,29)"
          ],
          [
           0.875,
           "rgb(165,15,21)"
          ],
          [
           1,
           "rgb(103,0,13)"
          ]
         ],
         "showscale": false
        },
        "height": 500,
        "legend": {
         "tracegroupgap": 0
        },
        "template": {
         "data": {
          "bar": [
           {
            "error_x": {
             "color": "#2a3f5f"
            },
            "error_y": {
             "color": "#2a3f5f"
            },
            "marker": {
             "line": {
              "color": "white",
              "width": 0.5
             },
             "pattern": {
              "fillmode": "overlay",
              "size": 10,
              "solidity": 0.2
             }
            },
            "type": "bar"
           }
          ],
          "barpolar": [
           {
            "marker": {
             "line": {
              "color": "white",
              "width": 0.5
             },
             "pattern": {
              "fillmode": "overlay",
              "size": 10,
              "solidity": 0.2
             }
            },
            "type": "barpolar"
           }
          ],
          "carpet": [
           {
            "aaxis": {
             "endlinecolor": "#2a3f5f",
             "gridcolor": "#C8D4E3",
             "linecolor": "#C8D4E3",
             "minorgridcolor": "#C8D4E3",
             "startlinecolor": "#2a3f5f"
            },
            "baxis": {
             "endlinecolor": "#2a3f5f",
             "gridcolor": "#C8D4E3",
             "linecolor": "#C8D4E3",
             "minorgridcolor": "#C8D4E3",
             "startlinecolor": "#2a3f5f"
            },
            "type": "carpet"
           }
          ],
          "choropleth": [
           {
            "colorbar": {
             "outlinewidth": 0,
             "ticks": ""
            },
            "type": "choropleth"
           }
          ],
          "contour": [
           {
            "colorbar": {
             "outlinewidth": 0,
             "ticks": ""
            },
            "colorscale": [
             [
              0,
              "#0d0887"
             ],
             [
              0.1111111111111111,
              "#46039f"
             ],
             [
              0.2222222222222222,
              "#7201a8"
             ],
             [
              0.3333333333333333,
              "#9c179e"
             ],
             [
              0.4444444444444444,
              "#bd3786"
             ],
             [
              0.5555555555555556,
              "#d8576b"
             ],
             [
              0.6666666666666666,
              "#ed7953"
             ],
             [
              0.7777777777777778,
              "#fb9f3a"
             ],
             [
              0.8888888888888888,
              "#fdca26"
             ],
             [
              1,
              "#f0f921"
             ]
            ],
            "type": "contour"
           }
          ],
          "contourcarpet": [
           {
            "colorbar": {
             "outlinewidth": 0,
             "ticks": ""
            },
            "type": "contourcarpet"
           }
          ],
          "heatmap": [
           {
            "colorbar": {
             "outlinewidth": 0,
             "ticks": ""
            },
            "colorscale": [
             [
              0,
              "#0d0887"
             ],
             [
              0.1111111111111111,
              "#46039f"
             ],
             [
              0.2222222222222222,
              "#7201a8"
             ],
             [
              0.3333333333333333,
              "#9c179e"
             ],
             [
              0.4444444444444444,
              "#bd3786"
             ],
             [
              0.5555555555555556,
              "#d8576b"
             ],
             [
              0.6666666666666666,
              "#ed7953"
             ],
             [
              0.7777777777777778,
              "#fb9f3a"
             ],
             [
              0.8888888888888888,
              "#fdca26"
             ],
             [
              1,
              "#f0f921"
             ]
            ],
            "type": "heatmap"
           }
          ],
          "histogram": [
           {
            "marker": {
             "pattern": {
              "fillmode": "overlay",
              "size": 10,
              "solidity": 0.2
             }
            },
            "type": "histogram"
           }
          ],
          "histogram2d": [
           {
            "colorbar": {
             "outlinewidth": 0,
             "ticks": ""
            },
            "colorscale": [
             [
              0,
              "#0d0887"
             ],
             [
              0.1111111111111111,
              "#46039f"
             ],
             [
              0.2222222222222222,
              "#7201a8"
             ],
             [
              0.3333333333333333,
              "#9c179e"
             ],
             [
              0.4444444444444444,
              "#bd3786"
             ],
             [
              0.5555555555555556,
              "#d8576b"
             ],
             [
              0.6666666666666666,
              "#ed7953"
             ],
             [
              0.7777777777777778,
              "#fb9f3a"
             ],
             [
              0.8888888888888888,
              "#fdca26"
             ],
             [
              1,
              "#f0f921"
             ]
            ],
            "type": "histogram2d"
           }
          ],
          "histogram2dcontour": [
           {
            "colorbar": {
             "outlinewidth": 0,
             "ticks": ""
            },
            "colorscale": [
             [
              0,
              "#0d0887"
             ],
             [
              0.1111111111111111,
              "#46039f"
             ],
             [
              0.2222222222222222,
              "#7201a8"
             ],
             [
              0.3333333333333333,
              "#9c179e"
             ],
             [
              0.4444444444444444,
              "#bd3786"
             ],
             [
              0.5555555555555556,
              "#d8576b"
             ],
             [
              0.6666666666666666,
              "#ed7953"
             ],
             [
              0.7777777777777778,
              "#fb9f3a"
             ],
             [
              0.8888888888888888,
              "#fdca26"
             ],
             [
              1,
              "#f0f921"
             ]
            ],
            "type": "histogram2dcontour"
           }
          ],
          "mesh3d": [
           {
            "colorbar": {
             "outlinewidth": 0,
             "ticks": ""
            },
            "type": "mesh3d"
           }
          ],
          "parcoords": [
           {
            "line": {
             "colorbar": {
              "outlinewidth": 0,
              "ticks": ""
             }
            },
            "type": "parcoords"
           }
          ],
          "pie": [
           {
            "automargin": true,
            "type": "pie"
           }
          ],
          "scatter": [
           {
            "fillpattern": {
             "fillmode": "overlay",
             "size": 10,
             "solidity": 0.2
            },
            "type": "scatter"
           }
          ],
          "scatter3d": [
           {
            "line": {
             "colorbar": {
              "outlinewidth": 0,
              "ticks": ""
             }
            },
            "marker": {
             "colorbar": {
              "outlinewidth": 0,
              "ticks": ""
             }
            },
            "type": "scatter3d"
           }
          ],
          "scattercarpet": [
           {
            "marker": {
             "colorbar": {
              "outlinewidth": 0,
              "ticks": ""
             }
            },
            "type": "scattercarpet"
           }
          ],
          "scattergeo": [
           {
            "marker": {
             "colorbar": {
              "outlinewidth": 0,
              "ticks": ""
             }
            },
            "type": "scattergeo"
           }
          ],
          "scattergl": [
           {
            "marker": {
             "colorbar": {
              "outlinewidth": 0,
              "ticks": ""
             }
            },
            "type": "scattergl"
           }
          ],
          "scattermap": [
           {
            "marker": {
             "colorbar": {
              "outlinewidth": 0,
              "ticks": ""
             }
            },
            "type": "scattermap"
           }
          ],
          "scattermapbox": [
           {
            "marker": {
             "colorbar": {
              "outlinewidth": 0,
              "ticks": ""
             }
            },
            "type": "scattermapbox"
           }
          ],
          "scatterpolar": [
           {
            "marker": {
             "colorbar": {
              "outlinewidth": 0,
              "ticks": ""
             }
            },
            "type": "scatterpolar"
           }
          ],
          "scatterpolargl": [
           {
            "marker": {
             "colorbar": {
              "outlinewidth": 0,
              "ticks": ""
             }
            },
            "type": "scatterpolargl"
           }
          ],
          "scatterternary": [
           {
            "marker": {
             "colorbar": {
              "outlinewidth": 0,
              "ticks": ""
             }
            },
            "type": "scatterternary"
           }
          ],
          "surface": [
           {
            "colorbar": {
             "outlinewidth": 0,
             "ticks": ""
            },
            "colorscale": [
             [
              0,
              "#0d0887"
             ],
             [
              0.1111111111111111,
              "#46039f"
             ],
             [
              0.2222222222222222,
              "#7201a8"
             ],
             [
              0.3333333333333333,
              "#9c179e"
             ],
             [
              0.4444444444444444,
              "#bd3786"
             ],
             [
              0.5555555555555556,
              "#d8576b"
             ],
             [
              0.6666666666666666,
              "#ed7953"
             ],
             [
              0.7777777777777778,
              "#fb9f3a"
             ],
             [
              0.8888888888888888,
              "#fdca26"
             ],
             [
              1,
              "#f0f921"
             ]
            ],
            "type": "surface"
           }
          ],
          "table": [
           {
            "cells": {
             "fill": {
              "color": "#EBF0F8"
             },
             "line": {
              "color": "white"
             }
            },
            "header": {
             "fill": {
              "color": "#C8D4E3"
             },
             "line": {
              "color": "white"
             }
            },
            "type": "table"
           }
          ]
         },
         "layout": {
          "annotationdefaults": {
           "arrowcolor": "#2a3f5f",
           "arrowhead": 0,
           "arrowwidth": 1
          },
          "autotypenumbers": "strict",
          "coloraxis": {
           "colorbar": {
            "outlinewidth": 0,
            "ticks": ""
           }
          },
          "colorscale": {
           "diverging": [
            [
             0,
             "#8e0152"
            ],
            [
             0.1,
             "#c51b7d"
            ],
            [
             0.2,
             "#de77ae"
            ],
            [
             0.3,
             "#f1b6da"
            ],
            [
             0.4,
             "#fde0ef"
            ],
            [
             0.5,
             "#f7f7f7"
            ],
            [
             0.6,
             "#e6f5d0"
            ],
            [
             0.7,
             "#b8e186"
            ],
            [
             0.8,
             "#7fbc41"
            ],
            [
             0.9,
             "#4d9221"
            ],
            [
             1,
             "#276419"
            ]
           ],
           "sequential": [
            [
             0,
             "#0d0887"
            ],
            [
             0.1111111111111111,
             "#46039f"
            ],
            [
             0.2222222222222222,
             "#7201a8"
            ],
            [
             0.3333333333333333,
             "#9c179e"
            ],
            [
             0.4444444444444444,
             "#bd3786"
            ],
            [
             0.5555555555555556,
             "#d8576b"
            ],
            [
             0.6666666666666666,
             "#ed7953"
            ],
            [
             0.7777777777777778,
             "#fb9f3a"
            ],
            [
             0.8888888888888888,
             "#fdca26"
            ],
            [
             1,
             "#f0f921"
            ]
           ],
           "sequentialminus": [
            [
             0,
             "#0d0887"
            ],
            [
             0.1111111111111111,
             "#46039f"
            ],
            [
             0.2222222222222222,
             "#7201a8"
            ],
            [
             0.3333333333333333,
             "#9c179e"
            ],
            [
             0.4444444444444444,
             "#bd3786"
            ],
            [
             0.5555555555555556,
             "#d8576b"
            ],
            [
             0.6666666666666666,
             "#ed7953"
            ],
            [
             0.7777777777777778,
             "#fb9f3a"
            ],
            [
             0.8888888888888888,
             "#fdca26"
            ],
            [
             1,
             "#f0f921"
            ]
           ]
          },
          "colorway": [
           "#636efa",
           "#EF553B",
           "#00cc96",
           "#ab63fa",
           "#FFA15A",
           "#19d3f3",
           "#FF6692",
           "#B6E880",
           "#FF97FF",
           "#FECB52"
          ],
          "font": {
           "color": "#2a3f5f"
          },
          "geo": {
           "bgcolor": "white",
           "lakecolor": "white",
           "landcolor": "white",
           "showlakes": true,
           "showland": true,
           "subunitcolor": "#C8D4E3"
          },
          "hoverlabel": {
           "align": "left"
          },
          "hovermode": "closest",
          "mapbox": {
           "style": "light"
          },
          "paper_bgcolor": "white",
          "plot_bgcolor": "white",
          "polar": {
           "angularaxis": {
            "gridcolor": "#EBF0F8",
            "linecolor": "#EBF0F8",
            "ticks": ""
           },
           "bgcolor": "white",
           "radialaxis": {
            "gridcolor": "#EBF0F8",
            "linecolor": "#EBF0F8",
            "ticks": ""
           }
          },
          "scene": {
           "xaxis": {
            "backgroundcolor": "white",
            "gridcolor": "#DFE8F3",
            "gridwidth": 2,
            "linecolor": "#EBF0F8",
            "showbackground": true,
            "ticks": "",
            "zerolinecolor": "#EBF0F8"
           },
           "yaxis": {
            "backgroundcolor": "white",
            "gridcolor": "#DFE8F3",
            "gridwidth": 2,
            "linecolor": "#EBF0F8",
            "showbackground": true,
            "ticks": "",
            "zerolinecolor": "#EBF0F8"
           },
           "zaxis": {
            "backgroundcolor": "white",
            "gridcolor": "#DFE8F3",
            "gridwidth": 2,
            "linecolor": "#EBF0F8",
            "showbackground": true,
            "ticks": "",
            "zerolinecolor": "#EBF0F8"
           }
          },
          "shapedefaults": {
           "line": {
            "color": "#2a3f5f"
           }
          },
          "ternary": {
           "aaxis": {
            "gridcolor": "#DFE8F3",
            "linecolor": "#A2B1C6",
            "ticks": ""
           },
           "baxis": {
            "gridcolor": "#DFE8F3",
            "linecolor": "#A2B1C6",
            "ticks": ""
           },
           "bgcolor": "white",
           "caxis": {
            "gridcolor": "#DFE8F3",
            "linecolor": "#A2B1C6",
            "ticks": ""
           }
          },
          "title": {
           "x": 0.05
          },
          "xaxis": {
           "automargin": true,
           "gridcolor": "#EBF0F8",
           "linecolor": "#EBF0F8",
           "ticks": "",
           "title": {
            "standoff": 15
           },
           "zerolinecolor": "#EBF0F8",
           "zerolinewidth": 2
          },
          "yaxis": {
           "automargin": true,
           "gridcolor": "#EBF0F8",
           "linecolor": "#EBF0F8",
           "ticks": "",
           "title": {
            "standoff": 15
           },
           "zerolinecolor": "#EBF0F8",
           "zerolinewidth": 2
          }
         }
        },
        "title": {
         "text": "Top 5 Foods by GHG Emissions per 100g Protein"
        },
        "width": 700,
        "xaxis": {
         "anchor": "y",
         "domain": [
          0,
          1
         ],
         "title": {
          "text": "Food Product"
         }
        },
        "yaxis": {
         "anchor": "x",
         "domain": [
          0,
          1
         ],
         "showticklabels": false,
         "title": {
          "text": "GHG per 100g protein (kgCO2eq)"
         }
        }
       }
      }
     },
     "metadata": {},
     "output_type": "display_data"
    }
   ],
   "source": [
    "fig = px.bar(\n",
    "    top_ghg,\n",
    "    x = \"food_product\",\n",
    "    y = \"GHG_per_100g_protein\",\n",
    "    color = \"GHG_per_100g_protein\",\n",
    "    color_continuous_scale = \"Reds\",\n",
    "    title = \"Top 5 Foods by GHG Emissions per 100g Protein\",\n",
    "    labels = {\"GHG_per_100g_protein\": \"GHG per 100g protein (kgCO2eq)\", \"food_product\": \"Food Product\"},\n",
    "    text = \"GHG_per_100g_protein\"\n",
    ")\n",
    "\n",
    "fig.update_layout(\n",
    "    xaxis_title = \"Food Product\",\n",
    "    yaxis_title = \"GHG per 100g protein (kgCO2eq)\",\n",
    "    yaxis = dict(\n",
    "        showticklabels = False\n",
    "    ),\n",
    "    template = \"plotly_white\",\n",
    "    width = 700,\n",
    "    height = 500,\n",
    "    coloraxis_showscale = False\n",
    "\n",
    ")\n",
    "fig.show()"
   ]
  },
  {
   "cell_type": "markdown",
   "id": "9e48219c",
   "metadata": {},
   "source": [
    "Q2\n",
    "- How does land use differ between plant-based and animal-based foods?"
   ]
  },
  {
   "cell_type": "code",
   "execution_count": 81,
   "id": "c43a1eb6",
   "metadata": {},
   "outputs": [],
   "source": [
    "plant_foods = [\"Wheat & Rye (Bread)\", \"Rice\", \"Oatmeal\", \"Potatoes\", \"Cassava\", \"Other Pulses\", \"Maize (Meal)\", \"Barley (Beer)\"]\n",
    "law[\"food_type\"] = law[\"food_product\"].apply(lambda x: \"Plant\" if x in plant_foods else \"Animal\")"
   ]
  },
  {
   "cell_type": "code",
   "execution_count": 82,
   "id": "e2378a28",
   "metadata": {},
   "outputs": [
    {
     "data": {
      "application/vnd.plotly.v1+json": {
       "config": {
        "plotlyServerURL": "https://plot.ly"
       },
       "data": [
        {
         "alignmentgroup": "True",
         "box": {
          "visible": false
         },
         "hovertemplate": "Food Type=%{x}<br>Land Use per kg (m²)=%{y}<extra></extra>",
         "legendgroup": "Plant",
         "marker": {
          "color": "#636efa"
         },
         "name": "Plant",
         "offsetgroup": "Plant",
         "orientation": "v",
         "scalegroup": "True",
         "showlegend": true,
         "type": "violin",
         "x": [
          "Plant",
          "Plant",
          "Plant",
          "Plant",
          "Plant",
          "Plant",
          "Plant",
          "Plant"
         ],
         "x0": " ",
         "xaxis": "x",
         "y": {
          "bdata": "2/l+arx0FkAxCKwcWmQFQCUGgZVDi/g/ZmZmZmZmHkBmZmZmZmYGQClcj8L1KOw/9ihcj8L1/D+kcD0K1yMvQA==",
          "dtype": "f8"
         },
         "y0": " ",
         "yaxis": "y"
        },
        {
         "alignmentgroup": "True",
         "box": {
          "visible": false
         },
         "hovertemplate": "Food Type=%{x}<br>Land Use per kg (m²)=%{y}<extra></extra>",
         "legendgroup": "Animal",
         "marker": {
          "color": "#EF553B"
         },
         "name": "Animal",
         "offsetgroup": "Animal",
         "orientation": "v",
         "scalegroup": "True",
         "showlegend": true,
         "type": "violin",
         "x": [
          "Animal",
          "Animal",
          "Animal",
          "Animal",
          "Animal",
          "Animal",
          "Animal",
          "Animal",
          "Animal",
          "Animal",
          "Animal",
          "Animal",
          "Animal",
          "Animal",
          "Animal",
          "Animal",
          "Animal",
          "Animal",
          "Animal",
          "Animal",
          "Animal",
          "Animal",
          "Animal",
          "Animal",
          "Animal",
          "Animal",
          "Animal",
          "Animal",
          "Animal",
          "Animal",
          "Animal",
          "Animal",
          "Animal",
          "Animal",
          "Animal"
         ],
         "x0": " ",
         "xaxis": "x",
         "y": {
          "bdata": "UrgehetRAEBI4XoUrkf9P9ejcD0K1x1A7FG4HoXrKUC4HoXrUTgiQB+F61G4HuU/kxgEVg4tHUAK16NwPQolQFyPwvUoXANAKVyPwvWoMUDD9Shcj0IlQI/C9ShcTzpAmpmZmZmZ6T/2KFyPwvXYPx+F61G4HtU/mpmZmZmZ4T9SuB6F61HYP4XrUbgehes/4XoUrkfh/j8pXI/C9SjkP0jhehSuRwNAexSuR+F6/D97FK5H4XrsPx+F61G4njVAPQrXo3A9UUCPwvUoXGN0QB+F61G4nkVAKVyPwvUcd0Bcj8L1KFwxQHE9CtejcChAZmZmZmbmIUDD9Shcj/JVQBSuR+F6FBlAUrgehevRIEClm8QgsHIuQA==",
          "dtype": "f8"
         },
         "y0": " ",
         "yaxis": "y"
        }
       ],
       "layout": {
        "height": 500,
        "legend": {
         "title": {
          "text": ""
         },
         "tracegroupgap": 0
        },
        "template": {
         "data": {
          "bar": [
           {
            "error_x": {
             "color": "#2a3f5f"
            },
            "error_y": {
             "color": "#2a3f5f"
            },
            "marker": {
             "line": {
              "color": "white",
              "width": 0.5
             },
             "pattern": {
              "fillmode": "overlay",
              "size": 10,
              "solidity": 0.2
             }
            },
            "type": "bar"
           }
          ],
          "barpolar": [
           {
            "marker": {
             "line": {
              "color": "white",
              "width": 0.5
             },
             "pattern": {
              "fillmode": "overlay",
              "size": 10,
              "solidity": 0.2
             }
            },
            "type": "barpolar"
           }
          ],
          "carpet": [
           {
            "aaxis": {
             "endlinecolor": "#2a3f5f",
             "gridcolor": "#C8D4E3",
             "linecolor": "#C8D4E3",
             "minorgridcolor": "#C8D4E3",
             "startlinecolor": "#2a3f5f"
            },
            "baxis": {
             "endlinecolor": "#2a3f5f",
             "gridcolor": "#C8D4E3",
             "linecolor": "#C8D4E3",
             "minorgridcolor": "#C8D4E3",
             "startlinecolor": "#2a3f5f"
            },
            "type": "carpet"
           }
          ],
          "choropleth": [
           {
            "colorbar": {
             "outlinewidth": 0,
             "ticks": ""
            },
            "type": "choropleth"
           }
          ],
          "contour": [
           {
            "colorbar": {
             "outlinewidth": 0,
             "ticks": ""
            },
            "colorscale": [
             [
              0,
              "#0d0887"
             ],
             [
              0.1111111111111111,
              "#46039f"
             ],
             [
              0.2222222222222222,
              "#7201a8"
             ],
             [
              0.3333333333333333,
              "#9c179e"
             ],
             [
              0.4444444444444444,
              "#bd3786"
             ],
             [
              0.5555555555555556,
              "#d8576b"
             ],
             [
              0.6666666666666666,
              "#ed7953"
             ],
             [
              0.7777777777777778,
              "#fb9f3a"
             ],
             [
              0.8888888888888888,
              "#fdca26"
             ],
             [
              1,
              "#f0f921"
             ]
            ],
            "type": "contour"
           }
          ],
          "contourcarpet": [
           {
            "colorbar": {
             "outlinewidth": 0,
             "ticks": ""
            },
            "type": "contourcarpet"
           }
          ],
          "heatmap": [
           {
            "colorbar": {
             "outlinewidth": 0,
             "ticks": ""
            },
            "colorscale": [
             [
              0,
              "#0d0887"
             ],
             [
              0.1111111111111111,
              "#46039f"
             ],
             [
              0.2222222222222222,
              "#7201a8"
             ],
             [
              0.3333333333333333,
              "#9c179e"
             ],
             [
              0.4444444444444444,
              "#bd3786"
             ],
             [
              0.5555555555555556,
              "#d8576b"
             ],
             [
              0.6666666666666666,
              "#ed7953"
             ],
             [
              0.7777777777777778,
              "#fb9f3a"
             ],
             [
              0.8888888888888888,
              "#fdca26"
             ],
             [
              1,
              "#f0f921"
             ]
            ],
            "type": "heatmap"
           }
          ],
          "histogram": [
           {
            "marker": {
             "pattern": {
              "fillmode": "overlay",
              "size": 10,
              "solidity": 0.2
             }
            },
            "type": "histogram"
           }
          ],
          "histogram2d": [
           {
            "colorbar": {
             "outlinewidth": 0,
             "ticks": ""
            },
            "colorscale": [
             [
              0,
              "#0d0887"
             ],
             [
              0.1111111111111111,
              "#46039f"
             ],
             [
              0.2222222222222222,
              "#7201a8"
             ],
             [
              0.3333333333333333,
              "#9c179e"
             ],
             [
              0.4444444444444444,
              "#bd3786"
             ],
             [
              0.5555555555555556,
              "#d8576b"
             ],
             [
              0.6666666666666666,
              "#ed7953"
             ],
             [
              0.7777777777777778,
              "#fb9f3a"
             ],
             [
              0.8888888888888888,
              "#fdca26"
             ],
             [
              1,
              "#f0f921"
             ]
            ],
            "type": "histogram2d"
           }
          ],
          "histogram2dcontour": [
           {
            "colorbar": {
             "outlinewidth": 0,
             "ticks": ""
            },
            "colorscale": [
             [
              0,
              "#0d0887"
             ],
             [
              0.1111111111111111,
              "#46039f"
             ],
             [
              0.2222222222222222,
              "#7201a8"
             ],
             [
              0.3333333333333333,
              "#9c179e"
             ],
             [
              0.4444444444444444,
              "#bd3786"
             ],
             [
              0.5555555555555556,
              "#d8576b"
             ],
             [
              0.6666666666666666,
              "#ed7953"
             ],
             [
              0.7777777777777778,
              "#fb9f3a"
             ],
             [
              0.8888888888888888,
              "#fdca26"
             ],
             [
              1,
              "#f0f921"
             ]
            ],
            "type": "histogram2dcontour"
           }
          ],
          "mesh3d": [
           {
            "colorbar": {
             "outlinewidth": 0,
             "ticks": ""
            },
            "type": "mesh3d"
           }
          ],
          "parcoords": [
           {
            "line": {
             "colorbar": {
              "outlinewidth": 0,
              "ticks": ""
             }
            },
            "type": "parcoords"
           }
          ],
          "pie": [
           {
            "automargin": true,
            "type": "pie"
           }
          ],
          "scatter": [
           {
            "fillpattern": {
             "fillmode": "overlay",
             "size": 10,
             "solidity": 0.2
            },
            "type": "scatter"
           }
          ],
          "scatter3d": [
           {
            "line": {
             "colorbar": {
              "outlinewidth": 0,
              "ticks": ""
             }
            },
            "marker": {
             "colorbar": {
              "outlinewidth": 0,
              "ticks": ""
             }
            },
            "type": "scatter3d"
           }
          ],
          "scattercarpet": [
           {
            "marker": {
             "colorbar": {
              "outlinewidth": 0,
              "ticks": ""
             }
            },
            "type": "scattercarpet"
           }
          ],
          "scattergeo": [
           {
            "marker": {
             "colorbar": {
              "outlinewidth": 0,
              "ticks": ""
             }
            },
            "type": "scattergeo"
           }
          ],
          "scattergl": [
           {
            "marker": {
             "colorbar": {
              "outlinewidth": 0,
              "ticks": ""
             }
            },
            "type": "scattergl"
           }
          ],
          "scattermap": [
           {
            "marker": {
             "colorbar": {
              "outlinewidth": 0,
              "ticks": ""
             }
            },
            "type": "scattermap"
           }
          ],
          "scattermapbox": [
           {
            "marker": {
             "colorbar": {
              "outlinewidth": 0,
              "ticks": ""
             }
            },
            "type": "scattermapbox"
           }
          ],
          "scatterpolar": [
           {
            "marker": {
             "colorbar": {
              "outlinewidth": 0,
              "ticks": ""
             }
            },
            "type": "scatterpolar"
           }
          ],
          "scatterpolargl": [
           {
            "marker": {
             "colorbar": {
              "outlinewidth": 0,
              "ticks": ""
             }
            },
            "type": "scatterpolargl"
           }
          ],
          "scatterternary": [
           {
            "marker": {
             "colorbar": {
              "outlinewidth": 0,
              "ticks": ""
             }
            },
            "type": "scatterternary"
           }
          ],
          "surface": [
           {
            "colorbar": {
             "outlinewidth": 0,
             "ticks": ""
            },
            "colorscale": [
             [
              0,
              "#0d0887"
             ],
             [
              0.1111111111111111,
              "#46039f"
             ],
             [
              0.2222222222222222,
              "#7201a8"
             ],
             [
              0.3333333333333333,
              "#9c179e"
             ],
             [
              0.4444444444444444,
              "#bd3786"
             ],
             [
              0.5555555555555556,
              "#d8576b"
             ],
             [
              0.6666666666666666,
              "#ed7953"
             ],
             [
              0.7777777777777778,
              "#fb9f3a"
             ],
             [
              0.8888888888888888,
              "#fdca26"
             ],
             [
              1,
              "#f0f921"
             ]
            ],
            "type": "surface"
           }
          ],
          "table": [
           {
            "cells": {
             "fill": {
              "color": "#EBF0F8"
             },
             "line": {
              "color": "white"
             }
            },
            "header": {
             "fill": {
              "color": "#C8D4E3"
             },
             "line": {
              "color": "white"
             }
            },
            "type": "table"
           }
          ]
         },
         "layout": {
          "annotationdefaults": {
           "arrowcolor": "#2a3f5f",
           "arrowhead": 0,
           "arrowwidth": 1
          },
          "autotypenumbers": "strict",
          "coloraxis": {
           "colorbar": {
            "outlinewidth": 0,
            "ticks": ""
           }
          },
          "colorscale": {
           "diverging": [
            [
             0,
             "#8e0152"
            ],
            [
             0.1,
             "#c51b7d"
            ],
            [
             0.2,
             "#de77ae"
            ],
            [
             0.3,
             "#f1b6da"
            ],
            [
             0.4,
             "#fde0ef"
            ],
            [
             0.5,
             "#f7f7f7"
            ],
            [
             0.6,
             "#e6f5d0"
            ],
            [
             0.7,
             "#b8e186"
            ],
            [
             0.8,
             "#7fbc41"
            ],
            [
             0.9,
             "#4d9221"
            ],
            [
             1,
             "#276419"
            ]
           ],
           "sequential": [
            [
             0,
             "#0d0887"
            ],
            [
             0.1111111111111111,
             "#46039f"
            ],
            [
             0.2222222222222222,
             "#7201a8"
            ],
            [
             0.3333333333333333,
             "#9c179e"
            ],
            [
             0.4444444444444444,
             "#bd3786"
            ],
            [
             0.5555555555555556,
             "#d8576b"
            ],
            [
             0.6666666666666666,
             "#ed7953"
            ],
            [
             0.7777777777777778,
             "#fb9f3a"
            ],
            [
             0.8888888888888888,
             "#fdca26"
            ],
            [
             1,
             "#f0f921"
            ]
           ],
           "sequentialminus": [
            [
             0,
             "#0d0887"
            ],
            [
             0.1111111111111111,
             "#46039f"
            ],
            [
             0.2222222222222222,
             "#7201a8"
            ],
            [
             0.3333333333333333,
             "#9c179e"
            ],
            [
             0.4444444444444444,
             "#bd3786"
            ],
            [
             0.5555555555555556,
             "#d8576b"
            ],
            [
             0.6666666666666666,
             "#ed7953"
            ],
            [
             0.7777777777777778,
             "#fb9f3a"
            ],
            [
             0.8888888888888888,
             "#fdca26"
            ],
            [
             1,
             "#f0f921"
            ]
           ]
          },
          "colorway": [
           "#636efa",
           "#EF553B",
           "#00cc96",
           "#ab63fa",
           "#FFA15A",
           "#19d3f3",
           "#FF6692",
           "#B6E880",
           "#FF97FF",
           "#FECB52"
          ],
          "font": {
           "color": "#2a3f5f"
          },
          "geo": {
           "bgcolor": "white",
           "lakecolor": "white",
           "landcolor": "white",
           "showlakes": true,
           "showland": true,
           "subunitcolor": "#C8D4E3"
          },
          "hoverlabel": {
           "align": "left"
          },
          "hovermode": "closest",
          "mapbox": {
           "style": "light"
          },
          "paper_bgcolor": "white",
          "plot_bgcolor": "white",
          "polar": {
           "angularaxis": {
            "gridcolor": "#EBF0F8",
            "linecolor": "#EBF0F8",
            "ticks": ""
           },
           "bgcolor": "white",
           "radialaxis": {
            "gridcolor": "#EBF0F8",
            "linecolor": "#EBF0F8",
            "ticks": ""
           }
          },
          "scene": {
           "xaxis": {
            "backgroundcolor": "white",
            "gridcolor": "#DFE8F3",
            "gridwidth": 2,
            "linecolor": "#EBF0F8",
            "showbackground": true,
            "ticks": "",
            "zerolinecolor": "#EBF0F8"
           },
           "yaxis": {
            "backgroundcolor": "white",
            "gridcolor": "#DFE8F3",
            "gridwidth": 2,
            "linecolor": "#EBF0F8",
            "showbackground": true,
            "ticks": "",
            "zerolinecolor": "#EBF0F8"
           },
           "zaxis": {
            "backgroundcolor": "white",
            "gridcolor": "#DFE8F3",
            "gridwidth": 2,
            "linecolor": "#EBF0F8",
            "showbackground": true,
            "ticks": "",
            "zerolinecolor": "#EBF0F8"
           }
          },
          "shapedefaults": {
           "line": {
            "color": "#2a3f5f"
           }
          },
          "ternary": {
           "aaxis": {
            "gridcolor": "#DFE8F3",
            "linecolor": "#A2B1C6",
            "ticks": ""
           },
           "baxis": {
            "gridcolor": "#DFE8F3",
            "linecolor": "#A2B1C6",
            "ticks": ""
           },
           "bgcolor": "white",
           "caxis": {
            "gridcolor": "#DFE8F3",
            "linecolor": "#A2B1C6",
            "ticks": ""
           }
          },
          "title": {
           "x": 0.05
          },
          "xaxis": {
           "automargin": true,
           "gridcolor": "#EBF0F8",
           "linecolor": "#EBF0F8",
           "ticks": "",
           "title": {
            "standoff": 15
           },
           "zerolinecolor": "#EBF0F8",
           "zerolinewidth": 2
          },
          "yaxis": {
           "automargin": true,
           "gridcolor": "#EBF0F8",
           "linecolor": "#EBF0F8",
           "ticks": "",
           "title": {
            "standoff": 15
           },
           "zerolinecolor": "#EBF0F8",
           "zerolinewidth": 2
          }
         }
        },
        "title": {
         "text": "Land Use per kg: Plant vs Animal Foods"
        },
        "violinmode": "overlay",
        "width": 700,
        "xaxis": {
         "anchor": "y",
         "categoryarray": [
          "Plant",
          "Animal"
         ],
         "categoryorder": "array",
         "domain": [
          0,
          1
         ],
         "title": {
          "text": "Food Type"
         }
        },
        "yaxis": {
         "anchor": "x",
         "domain": [
          0,
          1
         ],
         "showticklabels": true,
         "title": {
          "text": "Land Use per kg (m²)"
         }
        }
       }
      }
     },
     "metadata": {},
     "output_type": "display_data"
    }
   ],
   "source": [
    "fig = px.violin(\n",
    "    data_frame = law,\n",
    "    x = \"food_type\",\n",
    "    y = \"land_use_per_kg\",\n",
    "    color = \"food_type\",\n",
    "    title = \"Land Use per kg: Plant vs Animal Foods\",\n",
    "    labels = {\"land_use_per_kg\": \"Land Use per kg (m²)\", \"food_type\": \"Food Type\"}\n",
    ")\n",
    "\n",
    "fig.update_layout(\n",
    "    template = \"plotly_white\",\n",
    "    legend_title_text = \"\",\n",
    "    width = 700,\n",
    "    height = 500,\n",
    "    yaxis = dict(\n",
    "        showticklabels = True,\n",
    "        title = \"Land Use per kg (m²)\"\n",
    "    )\n",
    "\n",
    ")"
   ]
  },
  {
   "cell_type": "markdown",
   "id": "8fc1a37b",
   "metadata": {},
   "source": [
    "Q3\n",
    "- Which 5 foods use the most freshwater per kilogram?"
   ]
  },
  {
   "cell_type": "code",
   "execution_count": 29,
   "id": "913c1dcc",
   "metadata": {},
   "outputs": [],
   "source": [
    "top_water = law.sort_values(by = \"water_per_kg\", ascending = False).head(5)"
   ]
  },
  {
   "cell_type": "code",
   "execution_count": 31,
   "id": "200d8aa0",
   "metadata": {},
   "outputs": [
    {
     "data": {
      "application/vnd.plotly.v1+json": {
       "config": {
        "plotlyServerURL": "https://plot.ly"
       },
       "data": [
        {
         "hovertemplate": "Food Product=%{x}<br>GHG per 100g protein (kgCO2eq)=%{marker.color}<extra></extra>",
         "legendgroup": "",
         "marker": {
          "color": {
           "bdata": "MzMzMzPltUDNzMzMzCWwQJqZmZmZ1qxAmpmZmZk0pUDNzMzMzJChQA==",
           "dtype": "f8"
          },
          "coloraxis": "coloraxis",
          "pattern": {
           "shape": ""
          }
         },
         "name": "",
         "orientation": "v",
         "showlegend": false,
         "text": {
          "bdata": "MzMzMzPltUDNzMzMzCWwQJqZmZmZ1qxAmpmZmZk0pUDNzMzMzJChQA==",
          "dtype": "f8"
         },
         "textposition": "auto",
         "type": "bar",
         "x": [
          "Cheese",
          "Nuts",
          "Fish (farmed)",
          "Beef (dairy herd)",
          "Rice"
         ],
         "xaxis": "x",
         "y": {
          "bdata": "MzMzMzPltUDNzMzMzCWwQJqZmZmZ1qxAmpmZmZk0pUDNzMzMzJChQA==",
          "dtype": "f8"
         },
         "yaxis": "y"
        }
       ],
       "layout": {
        "barmode": "relative",
        "coloraxis": {
         "colorbar": {
          "title": {
           "text": "GHG per 100g protein (kgCO2eq)"
          }
         },
         "colorscale": [
          [
           0,
           "rgb(247,251,255)"
          ],
          [
           0.125,
           "rgb(222,235,247)"
          ],
          [
           0.25,
           "rgb(198,219,239)"
          ],
          [
           0.375,
           "rgb(158,202,225)"
          ],
          [
           0.5,
           "rgb(107,174,214)"
          ],
          [
           0.625,
           "rgb(66,146,198)"
          ],
          [
           0.75,
           "rgb(33,113,181)"
          ],
          [
           0.875,
           "rgb(8,81,156)"
          ],
          [
           1,
           "rgb(8,48,107)"
          ]
         ],
         "showscale": false
        },
        "height": 500,
        "legend": {
         "tracegroupgap": 0
        },
        "template": {
         "data": {
          "bar": [
           {
            "error_x": {
             "color": "#2a3f5f"
            },
            "error_y": {
             "color": "#2a3f5f"
            },
            "marker": {
             "line": {
              "color": "white",
              "width": 0.5
             },
             "pattern": {
              "fillmode": "overlay",
              "size": 10,
              "solidity": 0.2
             }
            },
            "type": "bar"
           }
          ],
          "barpolar": [
           {
            "marker": {
             "line": {
              "color": "white",
              "width": 0.5
             },
             "pattern": {
              "fillmode": "overlay",
              "size": 10,
              "solidity": 0.2
             }
            },
            "type": "barpolar"
           }
          ],
          "carpet": [
           {
            "aaxis": {
             "endlinecolor": "#2a3f5f",
             "gridcolor": "#C8D4E3",
             "linecolor": "#C8D4E3",
             "minorgridcolor": "#C8D4E3",
             "startlinecolor": "#2a3f5f"
            },
            "baxis": {
             "endlinecolor": "#2a3f5f",
             "gridcolor": "#C8D4E3",
             "linecolor": "#C8D4E3",
             "minorgridcolor": "#C8D4E3",
             "startlinecolor": "#2a3f5f"
            },
            "type": "carpet"
           }
          ],
          "choropleth": [
           {
            "colorbar": {
             "outlinewidth": 0,
             "ticks": ""
            },
            "type": "choropleth"
           }
          ],
          "contour": [
           {
            "colorbar": {
             "outlinewidth": 0,
             "ticks": ""
            },
            "colorscale": [
             [
              0,
              "#0d0887"
             ],
             [
              0.1111111111111111,
              "#46039f"
             ],
             [
              0.2222222222222222,
              "#7201a8"
             ],
             [
              0.3333333333333333,
              "#9c179e"
             ],
             [
              0.4444444444444444,
              "#bd3786"
             ],
             [
              0.5555555555555556,
              "#d8576b"
             ],
             [
              0.6666666666666666,
              "#ed7953"
             ],
             [
              0.7777777777777778,
              "#fb9f3a"
             ],
             [
              0.8888888888888888,
              "#fdca26"
             ],
             [
              1,
              "#f0f921"
             ]
            ],
            "type": "contour"
           }
          ],
          "contourcarpet": [
           {
            "colorbar": {
             "outlinewidth": 0,
             "ticks": ""
            },
            "type": "contourcarpet"
           }
          ],
          "heatmap": [
           {
            "colorbar": {
             "outlinewidth": 0,
             "ticks": ""
            },
            "colorscale": [
             [
              0,
              "#0d0887"
             ],
             [
              0.1111111111111111,
              "#46039f"
             ],
             [
              0.2222222222222222,
              "#7201a8"
             ],
             [
              0.3333333333333333,
              "#9c179e"
             ],
             [
              0.4444444444444444,
              "#bd3786"
             ],
             [
              0.5555555555555556,
              "#d8576b"
             ],
             [
              0.6666666666666666,
              "#ed7953"
             ],
             [
              0.7777777777777778,
              "#fb9f3a"
             ],
             [
              0.8888888888888888,
              "#fdca26"
             ],
             [
              1,
              "#f0f921"
             ]
            ],
            "type": "heatmap"
           }
          ],
          "histogram": [
           {
            "marker": {
             "pattern": {
              "fillmode": "overlay",
              "size": 10,
              "solidity": 0.2
             }
            },
            "type": "histogram"
           }
          ],
          "histogram2d": [
           {
            "colorbar": {
             "outlinewidth": 0,
             "ticks": ""
            },
            "colorscale": [
             [
              0,
              "#0d0887"
             ],
             [
              0.1111111111111111,
              "#46039f"
             ],
             [
              0.2222222222222222,
              "#7201a8"
             ],
             [
              0.3333333333333333,
              "#9c179e"
             ],
             [
              0.4444444444444444,
              "#bd3786"
             ],
             [
              0.5555555555555556,
              "#d8576b"
             ],
             [
              0.6666666666666666,
              "#ed7953"
             ],
             [
              0.7777777777777778,
              "#fb9f3a"
             ],
             [
              0.8888888888888888,
              "#fdca26"
             ],
             [
              1,
              "#f0f921"
             ]
            ],
            "type": "histogram2d"
           }
          ],
          "histogram2dcontour": [
           {
            "colorbar": {
             "outlinewidth": 0,
             "ticks": ""
            },
            "colorscale": [
             [
              0,
              "#0d0887"
             ],
             [
              0.1111111111111111,
              "#46039f"
             ],
             [
              0.2222222222222222,
              "#7201a8"
             ],
             [
              0.3333333333333333,
              "#9c179e"
             ],
             [
              0.4444444444444444,
              "#bd3786"
             ],
             [
              0.5555555555555556,
              "#d8576b"
             ],
             [
              0.6666666666666666,
              "#ed7953"
             ],
             [
              0.7777777777777778,
              "#fb9f3a"
             ],
             [
              0.8888888888888888,
              "#fdca26"
             ],
             [
              1,
              "#f0f921"
             ]
            ],
            "type": "histogram2dcontour"
           }
          ],
          "mesh3d": [
           {
            "colorbar": {
             "outlinewidth": 0,
             "ticks": ""
            },
            "type": "mesh3d"
           }
          ],
          "parcoords": [
           {
            "line": {
             "colorbar": {
              "outlinewidth": 0,
              "ticks": ""
             }
            },
            "type": "parcoords"
           }
          ],
          "pie": [
           {
            "automargin": true,
            "type": "pie"
           }
          ],
          "scatter": [
           {
            "fillpattern": {
             "fillmode": "overlay",
             "size": 10,
             "solidity": 0.2
            },
            "type": "scatter"
           }
          ],
          "scatter3d": [
           {
            "line": {
             "colorbar": {
              "outlinewidth": 0,
              "ticks": ""
             }
            },
            "marker": {
             "colorbar": {
              "outlinewidth": 0,
              "ticks": ""
             }
            },
            "type": "scatter3d"
           }
          ],
          "scattercarpet": [
           {
            "marker": {
             "colorbar": {
              "outlinewidth": 0,
              "ticks": ""
             }
            },
            "type": "scattercarpet"
           }
          ],
          "scattergeo": [
           {
            "marker": {
             "colorbar": {
              "outlinewidth": 0,
              "ticks": ""
             }
            },
            "type": "scattergeo"
           }
          ],
          "scattergl": [
           {
            "marker": {
             "colorbar": {
              "outlinewidth": 0,
              "ticks": ""
             }
            },
            "type": "scattergl"
           }
          ],
          "scattermap": [
           {
            "marker": {
             "colorbar": {
              "outlinewidth": 0,
              "ticks": ""
             }
            },
            "type": "scattermap"
           }
          ],
          "scattermapbox": [
           {
            "marker": {
             "colorbar": {
              "outlinewidth": 0,
              "ticks": ""
             }
            },
            "type": "scattermapbox"
           }
          ],
          "scatterpolar": [
           {
            "marker": {
             "colorbar": {
              "outlinewidth": 0,
              "ticks": ""
             }
            },
            "type": "scatterpolar"
           }
          ],
          "scatterpolargl": [
           {
            "marker": {
             "colorbar": {
              "outlinewidth": 0,
              "ticks": ""
             }
            },
            "type": "scatterpolargl"
           }
          ],
          "scatterternary": [
           {
            "marker": {
             "colorbar": {
              "outlinewidth": 0,
              "ticks": ""
             }
            },
            "type": "scatterternary"
           }
          ],
          "surface": [
           {
            "colorbar": {
             "outlinewidth": 0,
             "ticks": ""
            },
            "colorscale": [
             [
              0,
              "#0d0887"
             ],
             [
              0.1111111111111111,
              "#46039f"
             ],
             [
              0.2222222222222222,
              "#7201a8"
             ],
             [
              0.3333333333333333,
              "#9c179e"
             ],
             [
              0.4444444444444444,
              "#bd3786"
             ],
             [
              0.5555555555555556,
              "#d8576b"
             ],
             [
              0.6666666666666666,
              "#ed7953"
             ],
             [
              0.7777777777777778,
              "#fb9f3a"
             ],
             [
              0.8888888888888888,
              "#fdca26"
             ],
             [
              1,
              "#f0f921"
             ]
            ],
            "type": "surface"
           }
          ],
          "table": [
           {
            "cells": {
             "fill": {
              "color": "#EBF0F8"
             },
             "line": {
              "color": "white"
             }
            },
            "header": {
             "fill": {
              "color": "#C8D4E3"
             },
             "line": {
              "color": "white"
             }
            },
            "type": "table"
           }
          ]
         },
         "layout": {
          "annotationdefaults": {
           "arrowcolor": "#2a3f5f",
           "arrowhead": 0,
           "arrowwidth": 1
          },
          "autotypenumbers": "strict",
          "coloraxis": {
           "colorbar": {
            "outlinewidth": 0,
            "ticks": ""
           }
          },
          "colorscale": {
           "diverging": [
            [
             0,
             "#8e0152"
            ],
            [
             0.1,
             "#c51b7d"
            ],
            [
             0.2,
             "#de77ae"
            ],
            [
             0.3,
             "#f1b6da"
            ],
            [
             0.4,
             "#fde0ef"
            ],
            [
             0.5,
             "#f7f7f7"
            ],
            [
             0.6,
             "#e6f5d0"
            ],
            [
             0.7,
             "#b8e186"
            ],
            [
             0.8,
             "#7fbc41"
            ],
            [
             0.9,
             "#4d9221"
            ],
            [
             1,
             "#276419"
            ]
           ],
           "sequential": [
            [
             0,
             "#0d0887"
            ],
            [
             0.1111111111111111,
             "#46039f"
            ],
            [
             0.2222222222222222,
             "#7201a8"
            ],
            [
             0.3333333333333333,
             "#9c179e"
            ],
            [
             0.4444444444444444,
             "#bd3786"
            ],
            [
             0.5555555555555556,
             "#d8576b"
            ],
            [
             0.6666666666666666,
             "#ed7953"
            ],
            [
             0.7777777777777778,
             "#fb9f3a"
            ],
            [
             0.8888888888888888,
             "#fdca26"
            ],
            [
             1,
             "#f0f921"
            ]
           ],
           "sequentialminus": [
            [
             0,
             "#0d0887"
            ],
            [
             0.1111111111111111,
             "#46039f"
            ],
            [
             0.2222222222222222,
             "#7201a8"
            ],
            [
             0.3333333333333333,
             "#9c179e"
            ],
            [
             0.4444444444444444,
             "#bd3786"
            ],
            [
             0.5555555555555556,
             "#d8576b"
            ],
            [
             0.6666666666666666,
             "#ed7953"
            ],
            [
             0.7777777777777778,
             "#fb9f3a"
            ],
            [
             0.8888888888888888,
             "#fdca26"
            ],
            [
             1,
             "#f0f921"
            ]
           ]
          },
          "colorway": [
           "#636efa",
           "#EF553B",
           "#00cc96",
           "#ab63fa",
           "#FFA15A",
           "#19d3f3",
           "#FF6692",
           "#B6E880",
           "#FF97FF",
           "#FECB52"
          ],
          "font": {
           "color": "#2a3f5f"
          },
          "geo": {
           "bgcolor": "white",
           "lakecolor": "white",
           "landcolor": "white",
           "showlakes": true,
           "showland": true,
           "subunitcolor": "#C8D4E3"
          },
          "hoverlabel": {
           "align": "left"
          },
          "hovermode": "closest",
          "mapbox": {
           "style": "light"
          },
          "paper_bgcolor": "white",
          "plot_bgcolor": "white",
          "polar": {
           "angularaxis": {
            "gridcolor": "#EBF0F8",
            "linecolor": "#EBF0F8",
            "ticks": ""
           },
           "bgcolor": "white",
           "radialaxis": {
            "gridcolor": "#EBF0F8",
            "linecolor": "#EBF0F8",
            "ticks": ""
           }
          },
          "scene": {
           "xaxis": {
            "backgroundcolor": "white",
            "gridcolor": "#DFE8F3",
            "gridwidth": 2,
            "linecolor": "#EBF0F8",
            "showbackground": true,
            "ticks": "",
            "zerolinecolor": "#EBF0F8"
           },
           "yaxis": {
            "backgroundcolor": "white",
            "gridcolor": "#DFE8F3",
            "gridwidth": 2,
            "linecolor": "#EBF0F8",
            "showbackground": true,
            "ticks": "",
            "zerolinecolor": "#EBF0F8"
           },
           "zaxis": {
            "backgroundcolor": "white",
            "gridcolor": "#DFE8F3",
            "gridwidth": 2,
            "linecolor": "#EBF0F8",
            "showbackground": true,
            "ticks": "",
            "zerolinecolor": "#EBF0F8"
           }
          },
          "shapedefaults": {
           "line": {
            "color": "#2a3f5f"
           }
          },
          "ternary": {
           "aaxis": {
            "gridcolor": "#DFE8F3",
            "linecolor": "#A2B1C6",
            "ticks": ""
           },
           "baxis": {
            "gridcolor": "#DFE8F3",
            "linecolor": "#A2B1C6",
            "ticks": ""
           },
           "bgcolor": "white",
           "caxis": {
            "gridcolor": "#DFE8F3",
            "linecolor": "#A2B1C6",
            "ticks": ""
           }
          },
          "title": {
           "x": 0.05
          },
          "xaxis": {
           "automargin": true,
           "gridcolor": "#EBF0F8",
           "linecolor": "#EBF0F8",
           "ticks": "",
           "title": {
            "standoff": 15
           },
           "zerolinecolor": "#EBF0F8",
           "zerolinewidth": 2
          },
          "yaxis": {
           "automargin": true,
           "gridcolor": "#EBF0F8",
           "linecolor": "#EBF0F8",
           "ticks": "",
           "title": {
            "standoff": 15
           },
           "zerolinecolor": "#EBF0F8",
           "zerolinewidth": 2
          }
         }
        },
        "title": {
         "text": "Top 5 Foods by GHG Emissions per 100g Protein"
        },
        "width": 700,
        "xaxis": {
         "anchor": "y",
         "domain": [
          0,
          1
         ],
         "title": {
          "text": "Food Product"
         }
        },
        "yaxis": {
         "anchor": "x",
         "domain": [
          0,
          1
         ],
         "showticklabels": false,
         "title": {
          "text": "Water Use per kg (liters)"
         }
        }
       }
      }
     },
     "metadata": {},
     "output_type": "display_data"
    }
   ],
   "source": [
    "fig = px.bar(\n",
    "    top_water,\n",
    "    x = \"food_product\",\n",
    "    y = \"water_per_kg\",\n",
    "    color = \"water_per_kg\",\n",
    "    color_continuous_scale = \"Blues\",\n",
    "    title = \"Top 5 Foods by GHG Emissions per 100g Protein\",\n",
    "    labels = {\"water_per_kg\": \"GHG per 100g protein (kgCO2eq)\", \"food_product\": \"Food Product\"},\n",
    "    text = \"water_per_kg\"\n",
    ")\n",
    "\n",
    "fig.update_layout(\n",
    "    xaxis_title = \"Food Product\",\n",
    "    yaxis_title = \"Water Use per kg (liters)\",\n",
    "    yaxis = dict(\n",
    "        showticklabels = False\n",
    "    ),\n",
    "    template = \"plotly_white\",\n",
    "    width = 700,\n",
    "    height = 500,\n",
    "    coloraxis_showscale = False\n",
    "\n",
    ")\n",
    "fig.show()"
   ]
  },
  {
   "cell_type": "markdown",
   "id": "8534852a",
   "metadata": {},
   "source": [
    "Q4\n",
    "- Which foods have the lowest overall environmental impact?"
   ]
  },
  {
   "cell_type": "code",
   "execution_count": 77,
   "id": "e256edf8",
   "metadata": {},
   "outputs": [],
   "source": [
    "lowest_impact = law.sort_values(by = \"total_emissions\").head(5)"
   ]
  },
  {
   "cell_type": "code",
   "execution_count": 79,
   "id": "c3bee343",
   "metadata": {},
   "outputs": [
    {
     "data": {
      "application/vnd.plotly.v1+json": {
       "config": {
        "plotlyServerURL": "https://plot.ly"
       },
       "data": [
        {
         "hovertemplate": "Food Product=%{x}<br>GHG per 100g protein (kgCO2eq)=%{marker.color}<extra></extra>",
         "legendgroup": "",
         "marker": {
          "color": {
           "bdata": "mpmZmZmZyT8zMzMzMzPTPzMzMzMzM9M/MzMzMzMz0z8zMzMzMzPTPw==",
           "dtype": "f8"
          },
          "coloraxis": "coloraxis",
          "pattern": {
           "shape": ""
          }
         },
         "name": "",
         "orientation": "v",
         "showlegend": false,
         "text": {
          "bdata": "mpmZmZmZyT8zMzMzMzPTPzMzMzMzM9M/MzMzMzMz0z8zMzMzMzPTPw==",
          "dtype": "f8"
         },
         "textposition": "auto",
         "type": "bar",
         "x": [
          "Nuts",
          "Potatoes",
          "Onions & Leeks",
          "Root Vegetables",
          "Citrus Fruit"
         ],
         "xaxis": "x",
         "y": {
          "bdata": "mpmZmZmZyT8zMzMzMzPTPzMzMzMzM9M/MzMzMzMz0z8zMzMzMzPTPw==",
          "dtype": "f8"
         },
         "yaxis": "y"
        }
       ],
       "layout": {
        "barmode": "relative",
        "coloraxis": {
         "colorbar": {
          "title": {
           "text": "GHG per 100g protein (kgCO2eq)"
          }
         },
         "colorscale": [
          [
           0,
           "rgb(247,252,245)"
          ],
          [
           0.125,
           "rgb(229,245,224)"
          ],
          [
           0.25,
           "rgb(199,233,192)"
          ],
          [
           0.375,
           "rgb(161,217,155)"
          ],
          [
           0.5,
           "rgb(116,196,118)"
          ],
          [
           0.625,
           "rgb(65,171,93)"
          ],
          [
           0.75,
           "rgb(35,139,69)"
          ],
          [
           0.875,
           "rgb(0,109,44)"
          ],
          [
           1,
           "rgb(0,68,27)"
          ]
         ],
         "showscale": false
        },
        "height": 500,
        "legend": {
         "tracegroupgap": 0
        },
        "template": {
         "data": {
          "bar": [
           {
            "error_x": {
             "color": "#2a3f5f"
            },
            "error_y": {
             "color": "#2a3f5f"
            },
            "marker": {
             "line": {
              "color": "white",
              "width": 0.5
             },
             "pattern": {
              "fillmode": "overlay",
              "size": 10,
              "solidity": 0.2
             }
            },
            "type": "bar"
           }
          ],
          "barpolar": [
           {
            "marker": {
             "line": {
              "color": "white",
              "width": 0.5
             },
             "pattern": {
              "fillmode": "overlay",
              "size": 10,
              "solidity": 0.2
             }
            },
            "type": "barpolar"
           }
          ],
          "carpet": [
           {
            "aaxis": {
             "endlinecolor": "#2a3f5f",
             "gridcolor": "#C8D4E3",
             "linecolor": "#C8D4E3",
             "minorgridcolor": "#C8D4E3",
             "startlinecolor": "#2a3f5f"
            },
            "baxis": {
             "endlinecolor": "#2a3f5f",
             "gridcolor": "#C8D4E3",
             "linecolor": "#C8D4E3",
             "minorgridcolor": "#C8D4E3",
             "startlinecolor": "#2a3f5f"
            },
            "type": "carpet"
           }
          ],
          "choropleth": [
           {
            "colorbar": {
             "outlinewidth": 0,
             "ticks": ""
            },
            "type": "choropleth"
           }
          ],
          "contour": [
           {
            "colorbar": {
             "outlinewidth": 0,
             "ticks": ""
            },
            "colorscale": [
             [
              0,
              "#0d0887"
             ],
             [
              0.1111111111111111,
              "#46039f"
             ],
             [
              0.2222222222222222,
              "#7201a8"
             ],
             [
              0.3333333333333333,
              "#9c179e"
             ],
             [
              0.4444444444444444,
              "#bd3786"
             ],
             [
              0.5555555555555556,
              "#d8576b"
             ],
             [
              0.6666666666666666,
              "#ed7953"
             ],
             [
              0.7777777777777778,
              "#fb9f3a"
             ],
             [
              0.8888888888888888,
              "#fdca26"
             ],
             [
              1,
              "#f0f921"
             ]
            ],
            "type": "contour"
           }
          ],
          "contourcarpet": [
           {
            "colorbar": {
             "outlinewidth": 0,
             "ticks": ""
            },
            "type": "contourcarpet"
           }
          ],
          "heatmap": [
           {
            "colorbar": {
             "outlinewidth": 0,
             "ticks": ""
            },
            "colorscale": [
             [
              0,
              "#0d0887"
             ],
             [
              0.1111111111111111,
              "#46039f"
             ],
             [
              0.2222222222222222,
              "#7201a8"
             ],
             [
              0.3333333333333333,
              "#9c179e"
             ],
             [
              0.4444444444444444,
              "#bd3786"
             ],
             [
              0.5555555555555556,
              "#d8576b"
             ],
             [
              0.6666666666666666,
              "#ed7953"
             ],
             [
              0.7777777777777778,
              "#fb9f3a"
             ],
             [
              0.8888888888888888,
              "#fdca26"
             ],
             [
              1,
              "#f0f921"
             ]
            ],
            "type": "heatmap"
           }
          ],
          "histogram": [
           {
            "marker": {
             "pattern": {
              "fillmode": "overlay",
              "size": 10,
              "solidity": 0.2
             }
            },
            "type": "histogram"
           }
          ],
          "histogram2d": [
           {
            "colorbar": {
             "outlinewidth": 0,
             "ticks": ""
            },
            "colorscale": [
             [
              0,
              "#0d0887"
             ],
             [
              0.1111111111111111,
              "#46039f"
             ],
             [
              0.2222222222222222,
              "#7201a8"
             ],
             [
              0.3333333333333333,
              "#9c179e"
             ],
             [
              0.4444444444444444,
              "#bd3786"
             ],
             [
              0.5555555555555556,
              "#d8576b"
             ],
             [
              0.6666666666666666,
              "#ed7953"
             ],
             [
              0.7777777777777778,
              "#fb9f3a"
             ],
             [
              0.8888888888888888,
              "#fdca26"
             ],
             [
              1,
              "#f0f921"
             ]
            ],
            "type": "histogram2d"
           }
          ],
          "histogram2dcontour": [
           {
            "colorbar": {
             "outlinewidth": 0,
             "ticks": ""
            },
            "colorscale": [
             [
              0,
              "#0d0887"
             ],
             [
              0.1111111111111111,
              "#46039f"
             ],
             [
              0.2222222222222222,
              "#7201a8"
             ],
             [
              0.3333333333333333,
              "#9c179e"
             ],
             [
              0.4444444444444444,
              "#bd3786"
             ],
             [
              0.5555555555555556,
              "#d8576b"
             ],
             [
              0.6666666666666666,
              "#ed7953"
             ],
             [
              0.7777777777777778,
              "#fb9f3a"
             ],
             [
              0.8888888888888888,
              "#fdca26"
             ],
             [
              1,
              "#f0f921"
             ]
            ],
            "type": "histogram2dcontour"
           }
          ],
          "mesh3d": [
           {
            "colorbar": {
             "outlinewidth": 0,
             "ticks": ""
            },
            "type": "mesh3d"
           }
          ],
          "parcoords": [
           {
            "line": {
             "colorbar": {
              "outlinewidth": 0,
              "ticks": ""
             }
            },
            "type": "parcoords"
           }
          ],
          "pie": [
           {
            "automargin": true,
            "type": "pie"
           }
          ],
          "scatter": [
           {
            "fillpattern": {
             "fillmode": "overlay",
             "size": 10,
             "solidity": 0.2
            },
            "type": "scatter"
           }
          ],
          "scatter3d": [
           {
            "line": {
             "colorbar": {
              "outlinewidth": 0,
              "ticks": ""
             }
            },
            "marker": {
             "colorbar": {
              "outlinewidth": 0,
              "ticks": ""
             }
            },
            "type": "scatter3d"
           }
          ],
          "scattercarpet": [
           {
            "marker": {
             "colorbar": {
              "outlinewidth": 0,
              "ticks": ""
             }
            },
            "type": "scattercarpet"
           }
          ],
          "scattergeo": [
           {
            "marker": {
             "colorbar": {
              "outlinewidth": 0,
              "ticks": ""
             }
            },
            "type": "scattergeo"
           }
          ],
          "scattergl": [
           {
            "marker": {
             "colorbar": {
              "outlinewidth": 0,
              "ticks": ""
             }
            },
            "type": "scattergl"
           }
          ],
          "scattermap": [
           {
            "marker": {
             "colorbar": {
              "outlinewidth": 0,
              "ticks": ""
             }
            },
            "type": "scattermap"
           }
          ],
          "scattermapbox": [
           {
            "marker": {
             "colorbar": {
              "outlinewidth": 0,
              "ticks": ""
             }
            },
            "type": "scattermapbox"
           }
          ],
          "scatterpolar": [
           {
            "marker": {
             "colorbar": {
              "outlinewidth": 0,
              "ticks": ""
             }
            },
            "type": "scatterpolar"
           }
          ],
          "scatterpolargl": [
           {
            "marker": {
             "colorbar": {
              "outlinewidth": 0,
              "ticks": ""
             }
            },
            "type": "scatterpolargl"
           }
          ],
          "scatterternary": [
           {
            "marker": {
             "colorbar": {
              "outlinewidth": 0,
              "ticks": ""
             }
            },
            "type": "scatterternary"
           }
          ],
          "surface": [
           {
            "colorbar": {
             "outlinewidth": 0,
             "ticks": ""
            },
            "colorscale": [
             [
              0,
              "#0d0887"
             ],
             [
              0.1111111111111111,
              "#46039f"
             ],
             [
              0.2222222222222222,
              "#7201a8"
             ],
             [
              0.3333333333333333,
              "#9c179e"
             ],
             [
              0.4444444444444444,
              "#bd3786"
             ],
             [
              0.5555555555555556,
              "#d8576b"
             ],
             [
              0.6666666666666666,
              "#ed7953"
             ],
             [
              0.7777777777777778,
              "#fb9f3a"
             ],
             [
              0.8888888888888888,
              "#fdca26"
             ],
             [
              1,
              "#f0f921"
             ]
            ],
            "type": "surface"
           }
          ],
          "table": [
           {
            "cells": {
             "fill": {
              "color": "#EBF0F8"
             },
             "line": {
              "color": "white"
             }
            },
            "header": {
             "fill": {
              "color": "#C8D4E3"
             },
             "line": {
              "color": "white"
             }
            },
            "type": "table"
           }
          ]
         },
         "layout": {
          "annotationdefaults": {
           "arrowcolor": "#2a3f5f",
           "arrowhead": 0,
           "arrowwidth": 1
          },
          "autotypenumbers": "strict",
          "coloraxis": {
           "colorbar": {
            "outlinewidth": 0,
            "ticks": ""
           }
          },
          "colorscale": {
           "diverging": [
            [
             0,
             "#8e0152"
            ],
            [
             0.1,
             "#c51b7d"
            ],
            [
             0.2,
             "#de77ae"
            ],
            [
             0.3,
             "#f1b6da"
            ],
            [
             0.4,
             "#fde0ef"
            ],
            [
             0.5,
             "#f7f7f7"
            ],
            [
             0.6,
             "#e6f5d0"
            ],
            [
             0.7,
             "#b8e186"
            ],
            [
             0.8,
             "#7fbc41"
            ],
            [
             0.9,
             "#4d9221"
            ],
            [
             1,
             "#276419"
            ]
           ],
           "sequential": [
            [
             0,
             "#0d0887"
            ],
            [
             0.1111111111111111,
             "#46039f"
            ],
            [
             0.2222222222222222,
             "#7201a8"
            ],
            [
             0.3333333333333333,
             "#9c179e"
            ],
            [
             0.4444444444444444,
             "#bd3786"
            ],
            [
             0.5555555555555556,
             "#d8576b"
            ],
            [
             0.6666666666666666,
             "#ed7953"
            ],
            [
             0.7777777777777778,
             "#fb9f3a"
            ],
            [
             0.8888888888888888,
             "#fdca26"
            ],
            [
             1,
             "#f0f921"
            ]
           ],
           "sequentialminus": [
            [
             0,
             "#0d0887"
            ],
            [
             0.1111111111111111,
             "#46039f"
            ],
            [
             0.2222222222222222,
             "#7201a8"
            ],
            [
             0.3333333333333333,
             "#9c179e"
            ],
            [
             0.4444444444444444,
             "#bd3786"
            ],
            [
             0.5555555555555556,
             "#d8576b"
            ],
            [
             0.6666666666666666,
             "#ed7953"
            ],
            [
             0.7777777777777778,
             "#fb9f3a"
            ],
            [
             0.8888888888888888,
             "#fdca26"
            ],
            [
             1,
             "#f0f921"
            ]
           ]
          },
          "colorway": [
           "#636efa",
           "#EF553B",
           "#00cc96",
           "#ab63fa",
           "#FFA15A",
           "#19d3f3",
           "#FF6692",
           "#B6E880",
           "#FF97FF",
           "#FECB52"
          ],
          "font": {
           "color": "#2a3f5f"
          },
          "geo": {
           "bgcolor": "white",
           "lakecolor": "white",
           "landcolor": "white",
           "showlakes": true,
           "showland": true,
           "subunitcolor": "#C8D4E3"
          },
          "hoverlabel": {
           "align": "left"
          },
          "hovermode": "closest",
          "mapbox": {
           "style": "light"
          },
          "paper_bgcolor": "white",
          "plot_bgcolor": "white",
          "polar": {
           "angularaxis": {
            "gridcolor": "#EBF0F8",
            "linecolor": "#EBF0F8",
            "ticks": ""
           },
           "bgcolor": "white",
           "radialaxis": {
            "gridcolor": "#EBF0F8",
            "linecolor": "#EBF0F8",
            "ticks": ""
           }
          },
          "scene": {
           "xaxis": {
            "backgroundcolor": "white",
            "gridcolor": "#DFE8F3",
            "gridwidth": 2,
            "linecolor": "#EBF0F8",
            "showbackground": true,
            "ticks": "",
            "zerolinecolor": "#EBF0F8"
           },
           "yaxis": {
            "backgroundcolor": "white",
            "gridcolor": "#DFE8F3",
            "gridwidth": 2,
            "linecolor": "#EBF0F8",
            "showbackground": true,
            "ticks": "",
            "zerolinecolor": "#EBF0F8"
           },
           "zaxis": {
            "backgroundcolor": "white",
            "gridcolor": "#DFE8F3",
            "gridwidth": 2,
            "linecolor": "#EBF0F8",
            "showbackground": true,
            "ticks": "",
            "zerolinecolor": "#EBF0F8"
           }
          },
          "shapedefaults": {
           "line": {
            "color": "#2a3f5f"
           }
          },
          "ternary": {
           "aaxis": {
            "gridcolor": "#DFE8F3",
            "linecolor": "#A2B1C6",
            "ticks": ""
           },
           "baxis": {
            "gridcolor": "#DFE8F3",
            "linecolor": "#A2B1C6",
            "ticks": ""
           },
           "bgcolor": "white",
           "caxis": {
            "gridcolor": "#DFE8F3",
            "linecolor": "#A2B1C6",
            "ticks": ""
           }
          },
          "title": {
           "x": 0.05
          },
          "xaxis": {
           "automargin": true,
           "gridcolor": "#EBF0F8",
           "linecolor": "#EBF0F8",
           "ticks": "",
           "title": {
            "standoff": 15
           },
           "zerolinecolor": "#EBF0F8",
           "zerolinewidth": 2
          },
          "yaxis": {
           "automargin": true,
           "gridcolor": "#EBF0F8",
           "linecolor": "#EBF0F8",
           "ticks": "",
           "title": {
            "standoff": 15
           },
           "zerolinecolor": "#EBF0F8",
           "zerolinewidth": 2
          }
         }
        },
        "title": {
         "text": "Foods with Lowest Total Emissions"
        },
        "width": 700,
        "xaxis": {
         "anchor": "y",
         "domain": [
          0,
          1
         ],
         "title": {
          "text": "Food Product"
         }
        },
        "yaxis": {
         "anchor": "x",
         "domain": [
          0,
          1
         ],
         "showticklabels": false,
         "title": {
          "text": "Total Emmision"
         }
        }
       }
      }
     },
     "metadata": {},
     "output_type": "display_data"
    }
   ],
   "source": [
    "fig = px.bar(\n",
    "    lowest_impact,\n",
    "    x = \"food_product\",\n",
    "    y = \"total_emissions\",\n",
    "    color = \"total_emissions\",\n",
    "    color_continuous_scale = \"Greens\",\n",
    "    title = \"Foods with Lowest Total Emissions\",\n",
    "    labels = {\"total_emissions\": \"GHG per 100g protein (kgCO2eq)\", \"food_product\": \"Food Product\"},\n",
    "    text = \"total_emissions\"\n",
    ")\n",
    "\n",
    "fig.update_layout(\n",
    "    xaxis_title = \"Food Product\",\n",
    "    yaxis_title = \"Total Emmision\",\n",
    "    yaxis = dict(\n",
    "        showticklabels = False\n",
    "    ),\n",
    "    template = \"plotly_white\",\n",
    "    width = 700,\n",
    "    height = 500,\n",
    "    coloraxis_showscale = False\n",
    "\n",
    ")\n",
    "fig.show()"
   ]
  },
  {
   "cell_type": "markdown",
   "id": "0f76f2a6",
   "metadata": {},
   "source": [
    "Q5\n",
    "- What are the top five foods with the highest combined emissions from the farm and feed stages?"
   ]
  },
  {
   "cell_type": "code",
   "execution_count": 23,
   "id": "cb3bfae4",
   "metadata": {},
   "outputs": [],
   "source": [
    "law[\"pack_transport\"] = law[\"packaging\"] + law[\"transport\"]\n",
    "law[\"farm_feed\"] = law[\"farm\"] + law[\"animal_feed\"]"
   ]
  },
  {
   "cell_type": "code",
   "execution_count": 24,
   "id": "69662b87",
   "metadata": {},
   "outputs": [],
   "source": [
    "top5_farm_feed = law.sort_values(by = \"farm_feed\", ascending = False).head(5)"
   ]
  },
  {
   "cell_type": "code",
   "execution_count": 26,
   "id": "01f2cbaa",
   "metadata": {},
   "outputs": [],
   "source": [
    "top5_farm_feed[\"farm_feed\"] = top5_farm_feed[\"farm_feed\"].round(2)"
   ]
  },
  {
   "cell_type": "code",
   "execution_count": 64,
   "id": "52d3180c",
   "metadata": {},
   "outputs": [],
   "source": [
    "custom_colors = {\n",
    "    \"Beef (beef herd)\": \"#3E1E68\",\n",
    "    \"Lamb & Mutton\": \"#5D2F77\",\n",
    "    \"Beef (dairy herd)\": \"#E45A92\",\n",
    "    \"Cheese\": \"#F564A9\",\n",
    "    \"Shrimps (farmed)\": \"#FFACAC\"\n",
    "}"
   ]
  },
  {
   "cell_type": "code",
   "execution_count": 84,
   "id": "f5ca8607",
   "metadata": {},
   "outputs": [
    {
     "data": {
      "application/vnd.plotly.v1+json": {
       "config": {
        "plotlyServerURL": "https://plot.ly"
       },
       "data": [
        {
         "hovertemplate": "Food Product=%{x}<br>Farm Feed=%{text}<extra></extra>",
         "legendgroup": "Beef (beef herd)",
         "marker": {
          "color": "#3E1E68",
          "pattern": {
           "shape": ""
          }
         },
         "name": "Beef (beef herd)",
         "orientation": "v",
         "showlegend": true,
         "text": {
          "bdata": "ZmZmZmamREA=",
          "dtype": "f8"
         },
         "textposition": "auto",
         "type": "bar",
         "x": [
          "Beef (beef herd)"
         ],
         "xaxis": "x",
         "y": {
          "bdata": "ZmZmZmamREA=",
          "dtype": "f8"
         },
         "yaxis": "y"
        },
        {
         "hovertemplate": "Food Product=%{x}<br>Farm Feed=%{text}<extra></extra>",
         "legendgroup": "Lamb & Mutton",
         "marker": {
          "color": "#5D2F77",
          "pattern": {
           "shape": ""
          }
         },
         "name": "Lamb & Mutton",
         "orientation": "v",
         "showlegend": true,
         "text": {
          "bdata": "ZmZmZmbmNUA=",
          "dtype": "f8"
         },
         "textposition": "auto",
         "type": "bar",
         "x": [
          "Lamb & Mutton"
         ],
         "xaxis": "x",
         "y": {
          "bdata": "ZmZmZmbmNUA=",
          "dtype": "f8"
         },
         "yaxis": "y"
        },
        {
         "hovertemplate": "Food Product=%{x}<br>Farm Feed=%{text}<extra></extra>",
         "legendgroup": "Beef (dairy herd)",
         "marker": {
          "color": "#E45A92",
          "pattern": {
           "shape": ""
          }
         },
         "name": "Beef (dairy herd)",
         "orientation": "v",
         "showlegend": true,
         "text": {
          "bdata": "MzMzMzMzMkA=",
          "dtype": "f8"
         },
         "textposition": "auto",
         "type": "bar",
         "x": [
          "Beef (dairy herd)"
         ],
         "xaxis": "x",
         "y": {
          "bdata": "MzMzMzMzMkA=",
          "dtype": "f8"
         },
         "yaxis": "y"
        },
        {
         "hovertemplate": "Food Product=%{x}<br>Farm Feed=%{text}<extra></extra>",
         "legendgroup": "Cheese",
         "marker": {
          "color": "#F564A9",
          "pattern": {
           "shape": ""
          }
         },
         "name": "Cheese",
         "orientation": "v",
         "showlegend": true,
         "text": {
          "bdata": "zczMzMzMLkA=",
          "dtype": "f8"
         },
         "textposition": "auto",
         "type": "bar",
         "x": [
          "Cheese"
         ],
         "xaxis": "x",
         "y": {
          "bdata": "zczMzMzMLkA=",
          "dtype": "f8"
         },
         "yaxis": "y"
        },
        {
         "hovertemplate": "Food Product=%{x}<br>Farm Feed=%{text}<extra></extra>",
         "legendgroup": "Shrimps (farmed)",
         "marker": {
          "color": "#FFACAC",
          "pattern": {
           "shape": ""
          }
         },
         "name": "Shrimps (farmed)",
         "orientation": "v",
         "showlegend": true,
         "text": {
          "bdata": "zczMzMzMJUA=",
          "dtype": "f8"
         },
         "textposition": "auto",
         "type": "bar",
         "x": [
          "Shrimps (farmed)"
         ],
         "xaxis": "x",
         "y": {
          "bdata": "zczMzMzMJUA=",
          "dtype": "f8"
         },
         "yaxis": "y"
        }
       ],
       "layout": {
        "barmode": "relative",
        "height": 500,
        "legend": {
         "title": {
          "text": "Food Product"
         },
         "tracegroupgap": 0
        },
        "template": {
         "data": {
          "bar": [
           {
            "error_x": {
             "color": "#2a3f5f"
            },
            "error_y": {
             "color": "#2a3f5f"
            },
            "marker": {
             "line": {
              "color": "white",
              "width": 0.5
             },
             "pattern": {
              "fillmode": "overlay",
              "size": 10,
              "solidity": 0.2
             }
            },
            "type": "bar"
           }
          ],
          "barpolar": [
           {
            "marker": {
             "line": {
              "color": "white",
              "width": 0.5
             },
             "pattern": {
              "fillmode": "overlay",
              "size": 10,
              "solidity": 0.2
             }
            },
            "type": "barpolar"
           }
          ],
          "carpet": [
           {
            "aaxis": {
             "endlinecolor": "#2a3f5f",
             "gridcolor": "#C8D4E3",
             "linecolor": "#C8D4E3",
             "minorgridcolor": "#C8D4E3",
             "startlinecolor": "#2a3f5f"
            },
            "baxis": {
             "endlinecolor": "#2a3f5f",
             "gridcolor": "#C8D4E3",
             "linecolor": "#C8D4E3",
             "minorgridcolor": "#C8D4E3",
             "startlinecolor": "#2a3f5f"
            },
            "type": "carpet"
           }
          ],
          "choropleth": [
           {
            "colorbar": {
             "outlinewidth": 0,
             "ticks": ""
            },
            "type": "choropleth"
           }
          ],
          "contour": [
           {
            "colorbar": {
             "outlinewidth": 0,
             "ticks": ""
            },
            "colorscale": [
             [
              0,
              "#0d0887"
             ],
             [
              0.1111111111111111,
              "#46039f"
             ],
             [
              0.2222222222222222,
              "#7201a8"
             ],
             [
              0.3333333333333333,
              "#9c179e"
             ],
             [
              0.4444444444444444,
              "#bd3786"
             ],
             [
              0.5555555555555556,
              "#d8576b"
             ],
             [
              0.6666666666666666,
              "#ed7953"
             ],
             [
              0.7777777777777778,
              "#fb9f3a"
             ],
             [
              0.8888888888888888,
              "#fdca26"
             ],
             [
              1,
              "#f0f921"
             ]
            ],
            "type": "contour"
           }
          ],
          "contourcarpet": [
           {
            "colorbar": {
             "outlinewidth": 0,
             "ticks": ""
            },
            "type": "contourcarpet"
           }
          ],
          "heatmap": [
           {
            "colorbar": {
             "outlinewidth": 0,
             "ticks": ""
            },
            "colorscale": [
             [
              0,
              "#0d0887"
             ],
             [
              0.1111111111111111,
              "#46039f"
             ],
             [
              0.2222222222222222,
              "#7201a8"
             ],
             [
              0.3333333333333333,
              "#9c179e"
             ],
             [
              0.4444444444444444,
              "#bd3786"
             ],
             [
              0.5555555555555556,
              "#d8576b"
             ],
             [
              0.6666666666666666,
              "#ed7953"
             ],
             [
              0.7777777777777778,
              "#fb9f3a"
             ],
             [
              0.8888888888888888,
              "#fdca26"
             ],
             [
              1,
              "#f0f921"
             ]
            ],
            "type": "heatmap"
           }
          ],
          "histogram": [
           {
            "marker": {
             "pattern": {
              "fillmode": "overlay",
              "size": 10,
              "solidity": 0.2
             }
            },
            "type": "histogram"
           }
          ],
          "histogram2d": [
           {
            "colorbar": {
             "outlinewidth": 0,
             "ticks": ""
            },
            "colorscale": [
             [
              0,
              "#0d0887"
             ],
             [
              0.1111111111111111,
              "#46039f"
             ],
             [
              0.2222222222222222,
              "#7201a8"
             ],
             [
              0.3333333333333333,
              "#9c179e"
             ],
             [
              0.4444444444444444,
              "#bd3786"
             ],
             [
              0.5555555555555556,
              "#d8576b"
             ],
             [
              0.6666666666666666,
              "#ed7953"
             ],
             [
              0.7777777777777778,
              "#fb9f3a"
             ],
             [
              0.8888888888888888,
              "#fdca26"
             ],
             [
              1,
              "#f0f921"
             ]
            ],
            "type": "histogram2d"
           }
          ],
          "histogram2dcontour": [
           {
            "colorbar": {
             "outlinewidth": 0,
             "ticks": ""
            },
            "colorscale": [
             [
              0,
              "#0d0887"
             ],
             [
              0.1111111111111111,
              "#46039f"
             ],
             [
              0.2222222222222222,
              "#7201a8"
             ],
             [
              0.3333333333333333,
              "#9c179e"
             ],
             [
              0.4444444444444444,
              "#bd3786"
             ],
             [
              0.5555555555555556,
              "#d8576b"
             ],
             [
              0.6666666666666666,
              "#ed7953"
             ],
             [
              0.7777777777777778,
              "#fb9f3a"
             ],
             [
              0.8888888888888888,
              "#fdca26"
             ],
             [
              1,
              "#f0f921"
             ]
            ],
            "type": "histogram2dcontour"
           }
          ],
          "mesh3d": [
           {
            "colorbar": {
             "outlinewidth": 0,
             "ticks": ""
            },
            "type": "mesh3d"
           }
          ],
          "parcoords": [
           {
            "line": {
             "colorbar": {
              "outlinewidth": 0,
              "ticks": ""
             }
            },
            "type": "parcoords"
           }
          ],
          "pie": [
           {
            "automargin": true,
            "type": "pie"
           }
          ],
          "scatter": [
           {
            "fillpattern": {
             "fillmode": "overlay",
             "size": 10,
             "solidity": 0.2
            },
            "type": "scatter"
           }
          ],
          "scatter3d": [
           {
            "line": {
             "colorbar": {
              "outlinewidth": 0,
              "ticks": ""
             }
            },
            "marker": {
             "colorbar": {
              "outlinewidth": 0,
              "ticks": ""
             }
            },
            "type": "scatter3d"
           }
          ],
          "scattercarpet": [
           {
            "marker": {
             "colorbar": {
              "outlinewidth": 0,
              "ticks": ""
             }
            },
            "type": "scattercarpet"
           }
          ],
          "scattergeo": [
           {
            "marker": {
             "colorbar": {
              "outlinewidth": 0,
              "ticks": ""
             }
            },
            "type": "scattergeo"
           }
          ],
          "scattergl": [
           {
            "marker": {
             "colorbar": {
              "outlinewidth": 0,
              "ticks": ""
             }
            },
            "type": "scattergl"
           }
          ],
          "scattermap": [
           {
            "marker": {
             "colorbar": {
              "outlinewidth": 0,
              "ticks": ""
             }
            },
            "type": "scattermap"
           }
          ],
          "scattermapbox": [
           {
            "marker": {
             "colorbar": {
              "outlinewidth": 0,
              "ticks": ""
             }
            },
            "type": "scattermapbox"
           }
          ],
          "scatterpolar": [
           {
            "marker": {
             "colorbar": {
              "outlinewidth": 0,
              "ticks": ""
             }
            },
            "type": "scatterpolar"
           }
          ],
          "scatterpolargl": [
           {
            "marker": {
             "colorbar": {
              "outlinewidth": 0,
              "ticks": ""
             }
            },
            "type": "scatterpolargl"
           }
          ],
          "scatterternary": [
           {
            "marker": {
             "colorbar": {
              "outlinewidth": 0,
              "ticks": ""
             }
            },
            "type": "scatterternary"
           }
          ],
          "surface": [
           {
            "colorbar": {
             "outlinewidth": 0,
             "ticks": ""
            },
            "colorscale": [
             [
              0,
              "#0d0887"
             ],
             [
              0.1111111111111111,
              "#46039f"
             ],
             [
              0.2222222222222222,
              "#7201a8"
             ],
             [
              0.3333333333333333,
              "#9c179e"
             ],
             [
              0.4444444444444444,
              "#bd3786"
             ],
             [
              0.5555555555555556,
              "#d8576b"
             ],
             [
              0.6666666666666666,
              "#ed7953"
             ],
             [
              0.7777777777777778,
              "#fb9f3a"
             ],
             [
              0.8888888888888888,
              "#fdca26"
             ],
             [
              1,
              "#f0f921"
             ]
            ],
            "type": "surface"
           }
          ],
          "table": [
           {
            "cells": {
             "fill": {
              "color": "#EBF0F8"
             },
             "line": {
              "color": "white"
             }
            },
            "header": {
             "fill": {
              "color": "#C8D4E3"
             },
             "line": {
              "color": "white"
             }
            },
            "type": "table"
           }
          ]
         },
         "layout": {
          "annotationdefaults": {
           "arrowcolor": "#2a3f5f",
           "arrowhead": 0,
           "arrowwidth": 1
          },
          "autotypenumbers": "strict",
          "coloraxis": {
           "colorbar": {
            "outlinewidth": 0,
            "ticks": ""
           }
          },
          "colorscale": {
           "diverging": [
            [
             0,
             "#8e0152"
            ],
            [
             0.1,
             "#c51b7d"
            ],
            [
             0.2,
             "#de77ae"
            ],
            [
             0.3,
             "#f1b6da"
            ],
            [
             0.4,
             "#fde0ef"
            ],
            [
             0.5,
             "#f7f7f7"
            ],
            [
             0.6,
             "#e6f5d0"
            ],
            [
             0.7,
             "#b8e186"
            ],
            [
             0.8,
             "#7fbc41"
            ],
            [
             0.9,
             "#4d9221"
            ],
            [
             1,
             "#276419"
            ]
           ],
           "sequential": [
            [
             0,
             "#0d0887"
            ],
            [
             0.1111111111111111,
             "#46039f"
            ],
            [
             0.2222222222222222,
             "#7201a8"
            ],
            [
             0.3333333333333333,
             "#9c179e"
            ],
            [
             0.4444444444444444,
             "#bd3786"
            ],
            [
             0.5555555555555556,
             "#d8576b"
            ],
            [
             0.6666666666666666,
             "#ed7953"
            ],
            [
             0.7777777777777778,
             "#fb9f3a"
            ],
            [
             0.8888888888888888,
             "#fdca26"
            ],
            [
             1,
             "#f0f921"
            ]
           ],
           "sequentialminus": [
            [
             0,
             "#0d0887"
            ],
            [
             0.1111111111111111,
             "#46039f"
            ],
            [
             0.2222222222222222,
             "#7201a8"
            ],
            [
             0.3333333333333333,
             "#9c179e"
            ],
            [
             0.4444444444444444,
             "#bd3786"
            ],
            [
             0.5555555555555556,
             "#d8576b"
            ],
            [
             0.6666666666666666,
             "#ed7953"
            ],
            [
             0.7777777777777778,
             "#fb9f3a"
            ],
            [
             0.8888888888888888,
             "#fdca26"
            ],
            [
             1,
             "#f0f921"
            ]
           ]
          },
          "colorway": [
           "#636efa",
           "#EF553B",
           "#00cc96",
           "#ab63fa",
           "#FFA15A",
           "#19d3f3",
           "#FF6692",
           "#B6E880",
           "#FF97FF",
           "#FECB52"
          ],
          "font": {
           "color": "#2a3f5f"
          },
          "geo": {
           "bgcolor": "white",
           "lakecolor": "white",
           "landcolor": "white",
           "showlakes": true,
           "showland": true,
           "subunitcolor": "#C8D4E3"
          },
          "hoverlabel": {
           "align": "left"
          },
          "hovermode": "closest",
          "mapbox": {
           "style": "light"
          },
          "paper_bgcolor": "white",
          "plot_bgcolor": "white",
          "polar": {
           "angularaxis": {
            "gridcolor": "#EBF0F8",
            "linecolor": "#EBF0F8",
            "ticks": ""
           },
           "bgcolor": "white",
           "radialaxis": {
            "gridcolor": "#EBF0F8",
            "linecolor": "#EBF0F8",
            "ticks": ""
           }
          },
          "scene": {
           "xaxis": {
            "backgroundcolor": "white",
            "gridcolor": "#DFE8F3",
            "gridwidth": 2,
            "linecolor": "#EBF0F8",
            "showbackground": true,
            "ticks": "",
            "zerolinecolor": "#EBF0F8"
           },
           "yaxis": {
            "backgroundcolor": "white",
            "gridcolor": "#DFE8F3",
            "gridwidth": 2,
            "linecolor": "#EBF0F8",
            "showbackground": true,
            "ticks": "",
            "zerolinecolor": "#EBF0F8"
           },
           "zaxis": {
            "backgroundcolor": "white",
            "gridcolor": "#DFE8F3",
            "gridwidth": 2,
            "linecolor": "#EBF0F8",
            "showbackground": true,
            "ticks": "",
            "zerolinecolor": "#EBF0F8"
           }
          },
          "shapedefaults": {
           "line": {
            "color": "#2a3f5f"
           }
          },
          "ternary": {
           "aaxis": {
            "gridcolor": "#DFE8F3",
            "linecolor": "#A2B1C6",
            "ticks": ""
           },
           "baxis": {
            "gridcolor": "#DFE8F3",
            "linecolor": "#A2B1C6",
            "ticks": ""
           },
           "bgcolor": "white",
           "caxis": {
            "gridcolor": "#DFE8F3",
            "linecolor": "#A2B1C6",
            "ticks": ""
           }
          },
          "title": {
           "x": 0.05
          },
          "xaxis": {
           "automargin": true,
           "gridcolor": "#EBF0F8",
           "linecolor": "#EBF0F8",
           "ticks": "",
           "title": {
            "standoff": 15
           },
           "zerolinecolor": "#EBF0F8",
           "zerolinewidth": 2
          },
          "yaxis": {
           "automargin": true,
           "gridcolor": "#EBF0F8",
           "linecolor": "#EBF0F8",
           "ticks": "",
           "title": {
            "standoff": 15
           },
           "zerolinecolor": "#EBF0F8",
           "zerolinewidth": 2
          }
         }
        },
        "title": {
         "text": "Top 5 Foods by Farm Feed"
        },
        "width": 800,
        "xaxis": {
         "anchor": "y",
         "categoryarray": [
          "Beef (beef herd)",
          "Lamb & Mutton",
          "Beef (dairy herd)",
          "Cheese",
          "Shrimps (farmed)"
         ],
         "categoryorder": "total descending",
         "domain": [
          0,
          1
         ],
         "title": {
          "text": "Food Product"
         }
        },
        "yaxis": {
         "anchor": "x",
         "domain": [
          0,
          1
         ],
         "showticklabels": false,
         "title": {
          "text": "Farm Feed"
         }
        }
       }
      }
     },
     "metadata": {},
     "output_type": "display_data"
    }
   ],
   "source": [
    "fig1 = px.bar(\n",
    "    top5_farm_feed,\n",
    "    x = \"food_product\",\n",
    "    y = \"farm_feed\",\n",
    "    title = \"Top 5 Foods by Farm Feed\",\n",
    "    labels = {\n",
    "        \"farm_feed\": \"Farm Feed\",\n",
    "        \"food_product\": \"Food Product\"\n",
    "    },\n",
    "    text = \"farm_feed\",\n",
    "    color = \"food_product\",\n",
    "    color_discrete_map = custom_colors\n",
    ")\n",
    "fig1.update_xaxes(categoryorder = \"total descending\")\n",
    "fig1.update_layout(\n",
    "    template = \"plotly_white\",\n",
    "    yaxis = dict(\n",
    "        showticklabels = False\n",
    "    ),\n",
    "    width = 800,\n",
    "    height = 500, )\n",
    "fig1.show()\n"
   ]
  },
  {
   "cell_type": "markdown",
   "id": "62954faf",
   "metadata": {},
   "source": [
    "Q6\n",
    "- What are the top five foods with the highest combined emissions from the packing and transport?"
   ]
  },
  {
   "cell_type": "code",
   "execution_count": 32,
   "id": "ab40e41f",
   "metadata": {},
   "outputs": [],
   "source": [
    "top5_pack_transport = law.sort_values(by = \"pack_transport\", ascending = False).head(5)"
   ]
  },
  {
   "cell_type": "code",
   "execution_count": 36,
   "id": "0cec635f",
   "metadata": {},
   "outputs": [],
   "source": [
    "top5_pack_transport[\"pack_transport\"] = top5_pack_transport[\"pack_transport\"].round(2)"
   ]
  },
  {
   "cell_type": "code",
   "execution_count": 62,
   "id": "0ea5f95a",
   "metadata": {},
   "outputs": [],
   "source": [
    "custom_colors = {\n",
    "    \"Coffee\": \"#264653\",\n",
    "    \"Olive Oil\": \"#5A827E\",\n",
    "    \"Soybean Oil\": \"#84AE92\",\n",
    "    \"Palm Oil\": \"#B9D4AA\",\n",
    "    \"Sunflower Oil\": \"#FAFFCA\"\n",
    "}"
   ]
  },
  {
   "cell_type": "code",
   "execution_count": 63,
   "id": "124b7ca5",
   "metadata": {},
   "outputs": [
    {
     "data": {
      "application/vnd.plotly.v1+json": {
       "config": {
        "plotlyServerURL": "https://plot.ly"
       },
       "data": [
        {
         "hovertemplate": "Food Product=%{x}<br>Packaging and Transport=%{text}<extra></extra>",
         "legendgroup": "Coffee",
         "marker": {
          "color": "#264653",
          "pattern": {
           "shape": ""
          }
         },
         "name": "Coffee",
         "orientation": "v",
         "showlegend": true,
         "text": {
          "bdata": "MzMzMzMz+z8=",
          "dtype": "f8"
         },
         "textposition": "auto",
         "type": "bar",
         "x": [
          "Coffee"
         ],
         "xaxis": "x",
         "y": {
          "bdata": "MzMzMzMz+z8=",
          "dtype": "f8"
         },
         "yaxis": "y"
        },
        {
         "hovertemplate": "Food Product=%{x}<br>Packaging and Transport=%{text}<extra></extra>",
         "legendgroup": "Olive Oil",
         "marker": {
          "color": "#5A827E",
          "pattern": {
           "shape": ""
          }
         },
         "name": "Olive Oil",
         "orientation": "v",
         "showlegend": true,
         "text": {
          "bdata": "ZmZmZmZm9j8=",
          "dtype": "f8"
         },
         "textposition": "auto",
         "type": "bar",
         "x": [
          "Olive Oil"
         ],
         "xaxis": "x",
         "y": {
          "bdata": "ZmZmZmZm9j8=",
          "dtype": "f8"
         },
         "yaxis": "y"
        },
        {
         "hovertemplate": "Food Product=%{x}<br>Packaging and Transport=%{text}<extra></extra>",
         "legendgroup": "Soybean Oil",
         "marker": {
          "color": "#84AE92",
          "pattern": {
           "shape": ""
          }
         },
         "name": "Soybean Oil",
         "orientation": "v",
         "showlegend": true,
         "text": {
          "bdata": "mpmZmZmZ8T8=",
          "dtype": "f8"
         },
         "textposition": "auto",
         "type": "bar",
         "x": [
          "Soybean Oil"
         ],
         "xaxis": "x",
         "y": {
          "bdata": "mpmZmZmZ8T8=",
          "dtype": "f8"
         },
         "yaxis": "y"
        },
        {
         "hovertemplate": "Food Product=%{x}<br>Packaging and Transport=%{text}<extra></extra>",
         "legendgroup": "Palm Oil",
         "marker": {
          "color": "#B9D4AA",
          "pattern": {
           "shape": ""
          }
         },
         "name": "Palm Oil",
         "orientation": "v",
         "showlegend": true,
         "text": {
          "bdata": "mpmZmZmZ8T8=",
          "dtype": "f8"
         },
         "textposition": "auto",
         "type": "bar",
         "x": [
          "Palm Oil"
         ],
         "xaxis": "x",
         "y": {
          "bdata": "mpmZmZmZ8T8=",
          "dtype": "f8"
         },
         "yaxis": "y"
        },
        {
         "hovertemplate": "Food Product=%{x}<br>Packaging and Transport=%{text}<extra></extra>",
         "legendgroup": "Sunflower Oil",
         "marker": {
          "color": "#FAFFCA",
          "pattern": {
           "shape": ""
          }
         },
         "name": "Sunflower Oil",
         "orientation": "v",
         "showlegend": true,
         "text": {
          "bdata": "mpmZmZmZ8T8=",
          "dtype": "f8"
         },
         "textposition": "auto",
         "type": "bar",
         "x": [
          "Sunflower Oil"
         ],
         "xaxis": "x",
         "y": {
          "bdata": "mpmZmZmZ8T8=",
          "dtype": "f8"
         },
         "yaxis": "y"
        }
       ],
       "layout": {
        "barmode": "relative",
        "height": 500,
        "legend": {
         "title": {
          "text": "Food Product"
         },
         "tracegroupgap": 0
        },
        "template": {
         "data": {
          "bar": [
           {
            "error_x": {
             "color": "#2a3f5f"
            },
            "error_y": {
             "color": "#2a3f5f"
            },
            "marker": {
             "line": {
              "color": "white",
              "width": 0.5
             },
             "pattern": {
              "fillmode": "overlay",
              "size": 10,
              "solidity": 0.2
             }
            },
            "type": "bar"
           }
          ],
          "barpolar": [
           {
            "marker": {
             "line": {
              "color": "white",
              "width": 0.5
             },
             "pattern": {
              "fillmode": "overlay",
              "size": 10,
              "solidity": 0.2
             }
            },
            "type": "barpolar"
           }
          ],
          "carpet": [
           {
            "aaxis": {
             "endlinecolor": "#2a3f5f",
             "gridcolor": "#C8D4E3",
             "linecolor": "#C8D4E3",
             "minorgridcolor": "#C8D4E3",
             "startlinecolor": "#2a3f5f"
            },
            "baxis": {
             "endlinecolor": "#2a3f5f",
             "gridcolor": "#C8D4E3",
             "linecolor": "#C8D4E3",
             "minorgridcolor": "#C8D4E3",
             "startlinecolor": "#2a3f5f"
            },
            "type": "carpet"
           }
          ],
          "choropleth": [
           {
            "colorbar": {
             "outlinewidth": 0,
             "ticks": ""
            },
            "type": "choropleth"
           }
          ],
          "contour": [
           {
            "colorbar": {
             "outlinewidth": 0,
             "ticks": ""
            },
            "colorscale": [
             [
              0,
              "#0d0887"
             ],
             [
              0.1111111111111111,
              "#46039f"
             ],
             [
              0.2222222222222222,
              "#7201a8"
             ],
             [
              0.3333333333333333,
              "#9c179e"
             ],
             [
              0.4444444444444444,
              "#bd3786"
             ],
             [
              0.5555555555555556,
              "#d8576b"
             ],
             [
              0.6666666666666666,
              "#ed7953"
             ],
             [
              0.7777777777777778,
              "#fb9f3a"
             ],
             [
              0.8888888888888888,
              "#fdca26"
             ],
             [
              1,
              "#f0f921"
             ]
            ],
            "type": "contour"
           }
          ],
          "contourcarpet": [
           {
            "colorbar": {
             "outlinewidth": 0,
             "ticks": ""
            },
            "type": "contourcarpet"
           }
          ],
          "heatmap": [
           {
            "colorbar": {
             "outlinewidth": 0,
             "ticks": ""
            },
            "colorscale": [
             [
              0,
              "#0d0887"
             ],
             [
              0.1111111111111111,
              "#46039f"
             ],
             [
              0.2222222222222222,
              "#7201a8"
             ],
             [
              0.3333333333333333,
              "#9c179e"
             ],
             [
              0.4444444444444444,
              "#bd3786"
             ],
             [
              0.5555555555555556,
              "#d8576b"
             ],
             [
              0.6666666666666666,
              "#ed7953"
             ],
             [
              0.7777777777777778,
              "#fb9f3a"
             ],
             [
              0.8888888888888888,
              "#fdca26"
             ],
             [
              1,
              "#f0f921"
             ]
            ],
            "type": "heatmap"
           }
          ],
          "histogram": [
           {
            "marker": {
             "pattern": {
              "fillmode": "overlay",
              "size": 10,
              "solidity": 0.2
             }
            },
            "type": "histogram"
           }
          ],
          "histogram2d": [
           {
            "colorbar": {
             "outlinewidth": 0,
             "ticks": ""
            },
            "colorscale": [
             [
              0,
              "#0d0887"
             ],
             [
              0.1111111111111111,
              "#46039f"
             ],
             [
              0.2222222222222222,
              "#7201a8"
             ],
             [
              0.3333333333333333,
              "#9c179e"
             ],
             [
              0.4444444444444444,
              "#bd3786"
             ],
             [
              0.5555555555555556,
              "#d8576b"
             ],
             [
              0.6666666666666666,
              "#ed7953"
             ],
             [
              0.7777777777777778,
              "#fb9f3a"
             ],
             [
              0.8888888888888888,
              "#fdca26"
             ],
             [
              1,
              "#f0f921"
             ]
            ],
            "type": "histogram2d"
           }
          ],
          "histogram2dcontour": [
           {
            "colorbar": {
             "outlinewidth": 0,
             "ticks": ""
            },
            "colorscale": [
             [
              0,
              "#0d0887"
             ],
             [
              0.1111111111111111,
              "#46039f"
             ],
             [
              0.2222222222222222,
              "#7201a8"
             ],
             [
              0.3333333333333333,
              "#9c179e"
             ],
             [
              0.4444444444444444,
              "#bd3786"
             ],
             [
              0.5555555555555556,
              "#d8576b"
             ],
             [
              0.6666666666666666,
              "#ed7953"
             ],
             [
              0.7777777777777778,
              "#fb9f3a"
             ],
             [
              0.8888888888888888,
              "#fdca26"
             ],
             [
              1,
              "#f0f921"
             ]
            ],
            "type": "histogram2dcontour"
           }
          ],
          "mesh3d": [
           {
            "colorbar": {
             "outlinewidth": 0,
             "ticks": ""
            },
            "type": "mesh3d"
           }
          ],
          "parcoords": [
           {
            "line": {
             "colorbar": {
              "outlinewidth": 0,
              "ticks": ""
             }
            },
            "type": "parcoords"
           }
          ],
          "pie": [
           {
            "automargin": true,
            "type": "pie"
           }
          ],
          "scatter": [
           {
            "fillpattern": {
             "fillmode": "overlay",
             "size": 10,
             "solidity": 0.2
            },
            "type": "scatter"
           }
          ],
          "scatter3d": [
           {
            "line": {
             "colorbar": {
              "outlinewidth": 0,
              "ticks": ""
             }
            },
            "marker": {
             "colorbar": {
              "outlinewidth": 0,
              "ticks": ""
             }
            },
            "type": "scatter3d"
           }
          ],
          "scattercarpet": [
           {
            "marker": {
             "colorbar": {
              "outlinewidth": 0,
              "ticks": ""
             }
            },
            "type": "scattercarpet"
           }
          ],
          "scattergeo": [
           {
            "marker": {
             "colorbar": {
              "outlinewidth": 0,
              "ticks": ""
             }
            },
            "type": "scattergeo"
           }
          ],
          "scattergl": [
           {
            "marker": {
             "colorbar": {
              "outlinewidth": 0,
              "ticks": ""
             }
            },
            "type": "scattergl"
           }
          ],
          "scattermap": [
           {
            "marker": {
             "colorbar": {
              "outlinewidth": 0,
              "ticks": ""
             }
            },
            "type": "scattermap"
           }
          ],
          "scattermapbox": [
           {
            "marker": {
             "colorbar": {
              "outlinewidth": 0,
              "ticks": ""
             }
            },
            "type": "scattermapbox"
           }
          ],
          "scatterpolar": [
           {
            "marker": {
             "colorbar": {
              "outlinewidth": 0,
              "ticks": ""
             }
            },
            "type": "scatterpolar"
           }
          ],
          "scatterpolargl": [
           {
            "marker": {
             "colorbar": {
              "outlinewidth": 0,
              "ticks": ""
             }
            },
            "type": "scatterpolargl"
           }
          ],
          "scatterternary": [
           {
            "marker": {
             "colorbar": {
              "outlinewidth": 0,
              "ticks": ""
             }
            },
            "type": "scatterternary"
           }
          ],
          "surface": [
           {
            "colorbar": {
             "outlinewidth": 0,
             "ticks": ""
            },
            "colorscale": [
             [
              0,
              "#0d0887"
             ],
             [
              0.1111111111111111,
              "#46039f"
             ],
             [
              0.2222222222222222,
              "#7201a8"
             ],
             [
              0.3333333333333333,
              "#9c179e"
             ],
             [
              0.4444444444444444,
              "#bd3786"
             ],
             [
              0.5555555555555556,
              "#d8576b"
             ],
             [
              0.6666666666666666,
              "#ed7953"
             ],
             [
              0.7777777777777778,
              "#fb9f3a"
             ],
             [
              0.8888888888888888,
              "#fdca26"
             ],
             [
              1,
              "#f0f921"
             ]
            ],
            "type": "surface"
           }
          ],
          "table": [
           {
            "cells": {
             "fill": {
              "color": "#EBF0F8"
             },
             "line": {
              "color": "white"
             }
            },
            "header": {
             "fill": {
              "color": "#C8D4E3"
             },
             "line": {
              "color": "white"
             }
            },
            "type": "table"
           }
          ]
         },
         "layout": {
          "annotationdefaults": {
           "arrowcolor": "#2a3f5f",
           "arrowhead": 0,
           "arrowwidth": 1
          },
          "autotypenumbers": "strict",
          "coloraxis": {
           "colorbar": {
            "outlinewidth": 0,
            "ticks": ""
           }
          },
          "colorscale": {
           "diverging": [
            [
             0,
             "#8e0152"
            ],
            [
             0.1,
             "#c51b7d"
            ],
            [
             0.2,
             "#de77ae"
            ],
            [
             0.3,
             "#f1b6da"
            ],
            [
             0.4,
             "#fde0ef"
            ],
            [
             0.5,
             "#f7f7f7"
            ],
            [
             0.6,
             "#e6f5d0"
            ],
            [
             0.7,
             "#b8e186"
            ],
            [
             0.8,
             "#7fbc41"
            ],
            [
             0.9,
             "#4d9221"
            ],
            [
             1,
             "#276419"
            ]
           ],
           "sequential": [
            [
             0,
             "#0d0887"
            ],
            [
             0.1111111111111111,
             "#46039f"
            ],
            [
             0.2222222222222222,
             "#7201a8"
            ],
            [
             0.3333333333333333,
             "#9c179e"
            ],
            [
             0.4444444444444444,
             "#bd3786"
            ],
            [
             0.5555555555555556,
             "#d8576b"
            ],
            [
             0.6666666666666666,
             "#ed7953"
            ],
            [
             0.7777777777777778,
             "#fb9f3a"
            ],
            [
             0.8888888888888888,
             "#fdca26"
            ],
            [
             1,
             "#f0f921"
            ]
           ],
           "sequentialminus": [
            [
             0,
             "#0d0887"
            ],
            [
             0.1111111111111111,
             "#46039f"
            ],
            [
             0.2222222222222222,
             "#7201a8"
            ],
            [
             0.3333333333333333,
             "#9c179e"
            ],
            [
             0.4444444444444444,
             "#bd3786"
            ],
            [
             0.5555555555555556,
             "#d8576b"
            ],
            [
             0.6666666666666666,
             "#ed7953"
            ],
            [
             0.7777777777777778,
             "#fb9f3a"
            ],
            [
             0.8888888888888888,
             "#fdca26"
            ],
            [
             1,
             "#f0f921"
            ]
           ]
          },
          "colorway": [
           "#636efa",
           "#EF553B",
           "#00cc96",
           "#ab63fa",
           "#FFA15A",
           "#19d3f3",
           "#FF6692",
           "#B6E880",
           "#FF97FF",
           "#FECB52"
          ],
          "font": {
           "color": "#2a3f5f"
          },
          "geo": {
           "bgcolor": "white",
           "lakecolor": "white",
           "landcolor": "white",
           "showlakes": true,
           "showland": true,
           "subunitcolor": "#C8D4E3"
          },
          "hoverlabel": {
           "align": "left"
          },
          "hovermode": "closest",
          "mapbox": {
           "style": "light"
          },
          "paper_bgcolor": "white",
          "plot_bgcolor": "white",
          "polar": {
           "angularaxis": {
            "gridcolor": "#EBF0F8",
            "linecolor": "#EBF0F8",
            "ticks": ""
           },
           "bgcolor": "white",
           "radialaxis": {
            "gridcolor": "#EBF0F8",
            "linecolor": "#EBF0F8",
            "ticks": ""
           }
          },
          "scene": {
           "xaxis": {
            "backgroundcolor": "white",
            "gridcolor": "#DFE8F3",
            "gridwidth": 2,
            "linecolor": "#EBF0F8",
            "showbackground": true,
            "ticks": "",
            "zerolinecolor": "#EBF0F8"
           },
           "yaxis": {
            "backgroundcolor": "white",
            "gridcolor": "#DFE8F3",
            "gridwidth": 2,
            "linecolor": "#EBF0F8",
            "showbackground": true,
            "ticks": "",
            "zerolinecolor": "#EBF0F8"
           },
           "zaxis": {
            "backgroundcolor": "white",
            "gridcolor": "#DFE8F3",
            "gridwidth": 2,
            "linecolor": "#EBF0F8",
            "showbackground": true,
            "ticks": "",
            "zerolinecolor": "#EBF0F8"
           }
          },
          "shapedefaults": {
           "line": {
            "color": "#2a3f5f"
           }
          },
          "ternary": {
           "aaxis": {
            "gridcolor": "#DFE8F3",
            "linecolor": "#A2B1C6",
            "ticks": ""
           },
           "baxis": {
            "gridcolor": "#DFE8F3",
            "linecolor": "#A2B1C6",
            "ticks": ""
           },
           "bgcolor": "white",
           "caxis": {
            "gridcolor": "#DFE8F3",
            "linecolor": "#A2B1C6",
            "ticks": ""
           }
          },
          "title": {
           "x": 0.05
          },
          "xaxis": {
           "automargin": true,
           "gridcolor": "#EBF0F8",
           "linecolor": "#EBF0F8",
           "ticks": "",
           "title": {
            "standoff": 15
           },
           "zerolinecolor": "#EBF0F8",
           "zerolinewidth": 2
          },
          "yaxis": {
           "automargin": true,
           "gridcolor": "#EBF0F8",
           "linecolor": "#EBF0F8",
           "ticks": "",
           "title": {
            "standoff": 15
           },
           "zerolinecolor": "#EBF0F8",
           "zerolinewidth": 2
          }
         }
        },
        "title": {
         "text": "Top 5 Foods by Packaging and Transport"
        },
        "width": 700,
        "xaxis": {
         "anchor": "y",
         "categoryarray": [
          "Coffee",
          "Olive Oil",
          "Soybean Oil",
          "Palm Oil",
          "Sunflower Oil"
         ],
         "categoryorder": "total descending",
         "domain": [
          0,
          1
         ],
         "title": {
          "text": "Food Product"
         }
        },
        "yaxis": {
         "anchor": "x",
         "domain": [
          0,
          1
         ],
         "showticklabels": false,
         "title": {
          "text": "Packaging and Transport"
         }
        }
       }
      }
     },
     "metadata": {},
     "output_type": "display_data"
    }
   ],
   "source": [
    "fig2 = px.bar(\n",
    "    top5_pack_transport,\n",
    "    x = \"food_product\",\n",
    "    y = \"pack_transport\",\n",
    "    title = \"Top 5 Foods by Packaging and Transport\",\n",
    "    labels = {\n",
    "        \"pack_transport\": \"Packaging and Transport\",\n",
    "        \"food_product\": \"Food Product\"\n",
    "    },\n",
    "    text = \"pack_transport\",\n",
    "    color = \"food_product\",\n",
    "    color_discrete_map = custom_colors\n",
    ")\n",
    "fig2.update_xaxes(categoryorder = \"total descending\")\n",
    "fig2.update_layout(\n",
    "    template = \"plotly_white\",\n",
    "    yaxis = dict(\n",
    "        showticklabels = False\n",
    "    ),\n",
    "    width = 700,\n",
    "    height = 500)\n",
    "fig2.show()"
   ]
  },
  {
   "cell_type": "markdown",
   "id": "3d430111",
   "metadata": {},
   "source": [
    "Q7\n",
    "- Top five foods that give the best protein with the lowest emissions?"
   ]
  },
  {
   "cell_type": "code",
   "execution_count": 74,
   "id": "795fbb59",
   "metadata": {},
   "outputs": [],
   "source": [
    "best_protein = law.sort_values(by = \"GHG_per_100g_protein\")[[\"food_product\", \"GHG_per_100g_protein\", \"water_per_100g_protein\"]].head(5)"
   ]
  },
  {
   "cell_type": "code",
   "execution_count": 85,
   "id": "4297f095",
   "metadata": {},
   "outputs": [
    {
     "data": {
      "application/vnd.plotly.v1+json": {
       "config": {
        "plotlyServerURL": "https://plot.ly"
       },
       "data": [
        {
         "hovertemplate": "food_product=%{text}<br>GHG per 100g protein (kgCO2eq)=%{x}<br>Water per 100g protein (liters)=%{y}<br>size=%{marker.size}<extra></extra>",
         "legendgroup": "Nuts",
         "marker": {
          "color": "#636efa",
          "size": {
           "bdata": "FA==",
           "dtype": "i1"
          },
          "sizemode": "area",
          "sizeref": 0.05,
          "symbol": "circle"
         },
         "mode": "markers+text",
         "name": "Nuts",
         "orientation": "v",
         "showlegend": true,
         "text": [
          "Nuts"
         ],
         "type": "scatter",
         "x": {
          "bdata": "yxesHzja0D8=",
          "dtype": "f8"
         },
         "xaxis": "x",
         "y": {
          "bdata": "ixcLQ9TGo0A=",
          "dtype": "f8"
         },
         "yaxis": "y"
        },
        {
         "hovertemplate": "food_product=%{text}<br>GHG per 100g protein (kgCO2eq)=%{x}<br>Water per 100g protein (liters)=%{y}<br>size=%{marker.size}<extra></extra>",
         "legendgroup": "Peas",
         "marker": {
          "color": "#EF553B",
          "size": {
           "bdata": "FA==",
           "dtype": "i1"
          },
          "sizemode": "area",
          "sizeref": 0.05,
          "symbol": "circle"
         },
         "mode": "markers+text",
         "name": "Peas",
         "orientation": "v",
         "showlegend": true,
         "text": [
          "Peas"
         ],
         "type": "scatter",
         "x": {
          "bdata": "CYOxDBE63D8=",
          "dtype": "f8"
         },
         "xaxis": "x",
         "y": {
          "bdata": "kywWdZxPZkA=",
          "dtype": "f8"
         },
         "yaxis": "y"
        },
        {
         "hovertemplate": "food_product=%{text}<br>GHG per 100g protein (kgCO2eq)=%{x}<br>Water per 100g protein (liters)=%{y}<br>size=%{marker.size}<extra></extra>",
         "legendgroup": "Other Pulses",
         "marker": {
          "color": "#00cc96",
          "size": {
           "bdata": "FA==",
           "dtype": "i1"
          },
          "sizemode": "area",
          "sizeref": 0.05,
          "symbol": "circle"
         },
         "mode": "markers+text",
         "name": "Other Pulses",
         "orientation": "v",
         "showlegend": true,
         "text": [
          "Other Pulses"
         ],
         "type": "scatter",
         "x": {
          "bdata": "0nViiPzA6j8=",
          "dtype": "f8"
         },
         "xaxis": "x",
         "y": {
          "bdata": "vhb03hhwaUA=",
          "dtype": "f8"
         },
         "yaxis": "y"
        },
        {
         "hovertemplate": "food_product=%{text}<br>GHG per 100g protein (kgCO2eq)=%{x}<br>Water per 100g protein (liters)=%{y}<br>size=%{marker.size}<extra></extra>",
         "legendgroup": "Groundnuts",
         "marker": {
          "color": "#ab63fa",
          "size": {
           "bdata": "FA==",
           "dtype": "i1"
          },
          "sizemode": "area",
          "sizeref": 0.05,
          "symbol": "circle"
         },
         "mode": "markers+text",
         "name": "Groundnuts",
         "orientation": "v",
         "showlegend": true,
         "text": [
          "Groundnuts"
         ],
         "type": "scatter",
         "x": {
          "bdata": "fAafqYG98z8=",
          "dtype": "f8"
         },
         "xaxis": "x",
         "y": {
          "bdata": "LSwT2TIchkA=",
          "dtype": "f8"
         },
         "yaxis": "y"
        },
        {
         "hovertemplate": "food_product=%{text}<br>GHG per 100g protein (kgCO2eq)=%{x}<br>Water per 100g protein (liters)=%{y}<br>size=%{marker.size}<extra></extra>",
         "legendgroup": "Oatmeal",
         "marker": {
          "color": "#FFA15A",
          "size": {
           "bdata": "FA==",
           "dtype": "i1"
          },
          "sizemode": "area",
          "sizeref": 0.05,
          "symbol": "circle"
         },
         "mode": "markers+text",
         "name": "Oatmeal",
         "orientation": "v",
         "showlegend": true,
         "text": [
          "Oatmeal"
         ],
         "type": "scatter",
         "x": {
          "bdata": "WQ2bXuiF/j8=",
          "dtype": "f8"
         },
         "xaxis": "x",
         "y": {
          "bdata": "6Wy3Ezsxd0A=",
          "dtype": "f8"
         },
         "yaxis": "y"
        }
       ],
       "layout": {
        "height": 500,
        "legend": {
         "itemsizing": "constant",
         "title": {
          "text": "Food Product"
         },
         "tracegroupgap": 0
        },
        "template": {
         "data": {
          "bar": [
           {
            "error_x": {
             "color": "#2a3f5f"
            },
            "error_y": {
             "color": "#2a3f5f"
            },
            "marker": {
             "line": {
              "color": "white",
              "width": 0.5
             },
             "pattern": {
              "fillmode": "overlay",
              "size": 10,
              "solidity": 0.2
             }
            },
            "type": "bar"
           }
          ],
          "barpolar": [
           {
            "marker": {
             "line": {
              "color": "white",
              "width": 0.5
             },
             "pattern": {
              "fillmode": "overlay",
              "size": 10,
              "solidity": 0.2
             }
            },
            "type": "barpolar"
           }
          ],
          "carpet": [
           {
            "aaxis": {
             "endlinecolor": "#2a3f5f",
             "gridcolor": "#C8D4E3",
             "linecolor": "#C8D4E3",
             "minorgridcolor": "#C8D4E3",
             "startlinecolor": "#2a3f5f"
            },
            "baxis": {
             "endlinecolor": "#2a3f5f",
             "gridcolor": "#C8D4E3",
             "linecolor": "#C8D4E3",
             "minorgridcolor": "#C8D4E3",
             "startlinecolor": "#2a3f5f"
            },
            "type": "carpet"
           }
          ],
          "choropleth": [
           {
            "colorbar": {
             "outlinewidth": 0,
             "ticks": ""
            },
            "type": "choropleth"
           }
          ],
          "contour": [
           {
            "colorbar": {
             "outlinewidth": 0,
             "ticks": ""
            },
            "colorscale": [
             [
              0,
              "#0d0887"
             ],
             [
              0.1111111111111111,
              "#46039f"
             ],
             [
              0.2222222222222222,
              "#7201a8"
             ],
             [
              0.3333333333333333,
              "#9c179e"
             ],
             [
              0.4444444444444444,
              "#bd3786"
             ],
             [
              0.5555555555555556,
              "#d8576b"
             ],
             [
              0.6666666666666666,
              "#ed7953"
             ],
             [
              0.7777777777777778,
              "#fb9f3a"
             ],
             [
              0.8888888888888888,
              "#fdca26"
             ],
             [
              1,
              "#f0f921"
             ]
            ],
            "type": "contour"
           }
          ],
          "contourcarpet": [
           {
            "colorbar": {
             "outlinewidth": 0,
             "ticks": ""
            },
            "type": "contourcarpet"
           }
          ],
          "heatmap": [
           {
            "colorbar": {
             "outlinewidth": 0,
             "ticks": ""
            },
            "colorscale": [
             [
              0,
              "#0d0887"
             ],
             [
              0.1111111111111111,
              "#46039f"
             ],
             [
              0.2222222222222222,
              "#7201a8"
             ],
             [
              0.3333333333333333,
              "#9c179e"
             ],
             [
              0.4444444444444444,
              "#bd3786"
             ],
             [
              0.5555555555555556,
              "#d8576b"
             ],
             [
              0.6666666666666666,
              "#ed7953"
             ],
             [
              0.7777777777777778,
              "#fb9f3a"
             ],
             [
              0.8888888888888888,
              "#fdca26"
             ],
             [
              1,
              "#f0f921"
             ]
            ],
            "type": "heatmap"
           }
          ],
          "histogram": [
           {
            "marker": {
             "pattern": {
              "fillmode": "overlay",
              "size": 10,
              "solidity": 0.2
             }
            },
            "type": "histogram"
           }
          ],
          "histogram2d": [
           {
            "colorbar": {
             "outlinewidth": 0,
             "ticks": ""
            },
            "colorscale": [
             [
              0,
              "#0d0887"
             ],
             [
              0.1111111111111111,
              "#46039f"
             ],
             [
              0.2222222222222222,
              "#7201a8"
             ],
             [
              0.3333333333333333,
              "#9c179e"
             ],
             [
              0.4444444444444444,
              "#bd3786"
             ],
             [
              0.5555555555555556,
              "#d8576b"
             ],
             [
              0.6666666666666666,
              "#ed7953"
             ],
             [
              0.7777777777777778,
              "#fb9f3a"
             ],
             [
              0.8888888888888888,
              "#fdca26"
             ],
             [
              1,
              "#f0f921"
             ]
            ],
            "type": "histogram2d"
           }
          ],
          "histogram2dcontour": [
           {
            "colorbar": {
             "outlinewidth": 0,
             "ticks": ""
            },
            "colorscale": [
             [
              0,
              "#0d0887"
             ],
             [
              0.1111111111111111,
              "#46039f"
             ],
             [
              0.2222222222222222,
              "#7201a8"
             ],
             [
              0.3333333333333333,
              "#9c179e"
             ],
             [
              0.4444444444444444,
              "#bd3786"
             ],
             [
              0.5555555555555556,
              "#d8576b"
             ],
             [
              0.6666666666666666,
              "#ed7953"
             ],
             [
              0.7777777777777778,
              "#fb9f3a"
             ],
             [
              0.8888888888888888,
              "#fdca26"
             ],
             [
              1,
              "#f0f921"
             ]
            ],
            "type": "histogram2dcontour"
           }
          ],
          "mesh3d": [
           {
            "colorbar": {
             "outlinewidth": 0,
             "ticks": ""
            },
            "type": "mesh3d"
           }
          ],
          "parcoords": [
           {
            "line": {
             "colorbar": {
              "outlinewidth": 0,
              "ticks": ""
             }
            },
            "type": "parcoords"
           }
          ],
          "pie": [
           {
            "automargin": true,
            "type": "pie"
           }
          ],
          "scatter": [
           {
            "fillpattern": {
             "fillmode": "overlay",
             "size": 10,
             "solidity": 0.2
            },
            "type": "scatter"
           }
          ],
          "scatter3d": [
           {
            "line": {
             "colorbar": {
              "outlinewidth": 0,
              "ticks": ""
             }
            },
            "marker": {
             "colorbar": {
              "outlinewidth": 0,
              "ticks": ""
             }
            },
            "type": "scatter3d"
           }
          ],
          "scattercarpet": [
           {
            "marker": {
             "colorbar": {
              "outlinewidth": 0,
              "ticks": ""
             }
            },
            "type": "scattercarpet"
           }
          ],
          "scattergeo": [
           {
            "marker": {
             "colorbar": {
              "outlinewidth": 0,
              "ticks": ""
             }
            },
            "type": "scattergeo"
           }
          ],
          "scattergl": [
           {
            "marker": {
             "colorbar": {
              "outlinewidth": 0,
              "ticks": ""
             }
            },
            "type": "scattergl"
           }
          ],
          "scattermap": [
           {
            "marker": {
             "colorbar": {
              "outlinewidth": 0,
              "ticks": ""
             }
            },
            "type": "scattermap"
           }
          ],
          "scattermapbox": [
           {
            "marker": {
             "colorbar": {
              "outlinewidth": 0,
              "ticks": ""
             }
            },
            "type": "scattermapbox"
           }
          ],
          "scatterpolar": [
           {
            "marker": {
             "colorbar": {
              "outlinewidth": 0,
              "ticks": ""
             }
            },
            "type": "scatterpolar"
           }
          ],
          "scatterpolargl": [
           {
            "marker": {
             "colorbar": {
              "outlinewidth": 0,
              "ticks": ""
             }
            },
            "type": "scatterpolargl"
           }
          ],
          "scatterternary": [
           {
            "marker": {
             "colorbar": {
              "outlinewidth": 0,
              "ticks": ""
             }
            },
            "type": "scatterternary"
           }
          ],
          "surface": [
           {
            "colorbar": {
             "outlinewidth": 0,
             "ticks": ""
            },
            "colorscale": [
             [
              0,
              "#0d0887"
             ],
             [
              0.1111111111111111,
              "#46039f"
             ],
             [
              0.2222222222222222,
              "#7201a8"
             ],
             [
              0.3333333333333333,
              "#9c179e"
             ],
             [
              0.4444444444444444,
              "#bd3786"
             ],
             [
              0.5555555555555556,
              "#d8576b"
             ],
             [
              0.6666666666666666,
              "#ed7953"
             ],
             [
              0.7777777777777778,
              "#fb9f3a"
             ],
             [
              0.8888888888888888,
              "#fdca26"
             ],
             [
              1,
              "#f0f921"
             ]
            ],
            "type": "surface"
           }
          ],
          "table": [
           {
            "cells": {
             "fill": {
              "color": "#EBF0F8"
             },
             "line": {
              "color": "white"
             }
            },
            "header": {
             "fill": {
              "color": "#C8D4E3"
             },
             "line": {
              "color": "white"
             }
            },
            "type": "table"
           }
          ]
         },
         "layout": {
          "annotationdefaults": {
           "arrowcolor": "#2a3f5f",
           "arrowhead": 0,
           "arrowwidth": 1
          },
          "autotypenumbers": "strict",
          "coloraxis": {
           "colorbar": {
            "outlinewidth": 0,
            "ticks": ""
           }
          },
          "colorscale": {
           "diverging": [
            [
             0,
             "#8e0152"
            ],
            [
             0.1,
             "#c51b7d"
            ],
            [
             0.2,
             "#de77ae"
            ],
            [
             0.3,
             "#f1b6da"
            ],
            [
             0.4,
             "#fde0ef"
            ],
            [
             0.5,
             "#f7f7f7"
            ],
            [
             0.6,
             "#e6f5d0"
            ],
            [
             0.7,
             "#b8e186"
            ],
            [
             0.8,
             "#7fbc41"
            ],
            [
             0.9,
             "#4d9221"
            ],
            [
             1,
             "#276419"
            ]
           ],
           "sequential": [
            [
             0,
             "#0d0887"
            ],
            [
             0.1111111111111111,
             "#46039f"
            ],
            [
             0.2222222222222222,
             "#7201a8"
            ],
            [
             0.3333333333333333,
             "#9c179e"
            ],
            [
             0.4444444444444444,
             "#bd3786"
            ],
            [
             0.5555555555555556,
             "#d8576b"
            ],
            [
             0.6666666666666666,
             "#ed7953"
            ],
            [
             0.7777777777777778,
             "#fb9f3a"
            ],
            [
             0.8888888888888888,
             "#fdca26"
            ],
            [
             1,
             "#f0f921"
            ]
           ],
           "sequentialminus": [
            [
             0,
             "#0d0887"
            ],
            [
             0.1111111111111111,
             "#46039f"
            ],
            [
             0.2222222222222222,
             "#7201a8"
            ],
            [
             0.3333333333333333,
             "#9c179e"
            ],
            [
             0.4444444444444444,
             "#bd3786"
            ],
            [
             0.5555555555555556,
             "#d8576b"
            ],
            [
             0.6666666666666666,
             "#ed7953"
            ],
            [
             0.7777777777777778,
             "#fb9f3a"
            ],
            [
             0.8888888888888888,
             "#fdca26"
            ],
            [
             1,
             "#f0f921"
            ]
           ]
          },
          "colorway": [
           "#636efa",
           "#EF553B",
           "#00cc96",
           "#ab63fa",
           "#FFA15A",
           "#19d3f3",
           "#FF6692",
           "#B6E880",
           "#FF97FF",
           "#FECB52"
          ],
          "font": {
           "color": "#2a3f5f"
          },
          "geo": {
           "bgcolor": "white",
           "lakecolor": "white",
           "landcolor": "white",
           "showlakes": true,
           "showland": true,
           "subunitcolor": "#C8D4E3"
          },
          "hoverlabel": {
           "align": "left"
          },
          "hovermode": "closest",
          "mapbox": {
           "style": "light"
          },
          "paper_bgcolor": "white",
          "plot_bgcolor": "white",
          "polar": {
           "angularaxis": {
            "gridcolor": "#EBF0F8",
            "linecolor": "#EBF0F8",
            "ticks": ""
           },
           "bgcolor": "white",
           "radialaxis": {
            "gridcolor": "#EBF0F8",
            "linecolor": "#EBF0F8",
            "ticks": ""
           }
          },
          "scene": {
           "xaxis": {
            "backgroundcolor": "white",
            "gridcolor": "#DFE8F3",
            "gridwidth": 2,
            "linecolor": "#EBF0F8",
            "showbackground": true,
            "ticks": "",
            "zerolinecolor": "#EBF0F8"
           },
           "yaxis": {
            "backgroundcolor": "white",
            "gridcolor": "#DFE8F3",
            "gridwidth": 2,
            "linecolor": "#EBF0F8",
            "showbackground": true,
            "ticks": "",
            "zerolinecolor": "#EBF0F8"
           },
           "zaxis": {
            "backgroundcolor": "white",
            "gridcolor": "#DFE8F3",
            "gridwidth": 2,
            "linecolor": "#EBF0F8",
            "showbackground": true,
            "ticks": "",
            "zerolinecolor": "#EBF0F8"
           }
          },
          "shapedefaults": {
           "line": {
            "color": "#2a3f5f"
           }
          },
          "ternary": {
           "aaxis": {
            "gridcolor": "#DFE8F3",
            "linecolor": "#A2B1C6",
            "ticks": ""
           },
           "baxis": {
            "gridcolor": "#DFE8F3",
            "linecolor": "#A2B1C6",
            "ticks": ""
           },
           "bgcolor": "white",
           "caxis": {
            "gridcolor": "#DFE8F3",
            "linecolor": "#A2B1C6",
            "ticks": ""
           }
          },
          "title": {
           "x": 0.05
          },
          "xaxis": {
           "automargin": true,
           "gridcolor": "#EBF0F8",
           "linecolor": "#EBF0F8",
           "ticks": "",
           "title": {
            "standoff": 15
           },
           "zerolinecolor": "#EBF0F8",
           "zerolinewidth": 2
          },
          "yaxis": {
           "automargin": true,
           "gridcolor": "#EBF0F8",
           "linecolor": "#EBF0F8",
           "ticks": "",
           "title": {
            "standoff": 15
           },
           "zerolinecolor": "#EBF0F8",
           "zerolinewidth": 2
          }
         }
        },
        "title": {
         "text": "Best Protein with Lowest Emissions & Water Use"
        },
        "width": 800,
        "xaxis": {
         "anchor": "y",
         "domain": [
          0,
          1
         ],
         "title": {
          "text": "GHG per 100g protein (kgCO2eq)"
         }
        },
        "yaxis": {
         "anchor": "x",
         "domain": [
          0,
          1
         ],
         "showticklabels": true,
         "title": {
          "text": "Water per 100g protein (liters)"
         }
        }
       }
      }
     },
     "metadata": {},
     "output_type": "display_data"
    }
   ],
   "source": [
    "fig = px.scatter(\n",
    "    best_protein,\n",
    "    x = \"GHG_per_100g_protein\",\n",
    "    y = \"water_per_100g_protein\",\n",
    "    color = \"food_product\",\n",
    "    size = [20]*len(best_protein),\n",
    "    title = \"Best Protein with Lowest Emissions & Water Use\",\n",
    "    labels = {\n",
    "        \"GHG_per_100g_protein\": \"GHG per 100g protein (kgCO2eq)\",\n",
    "        \"water_per_100g_protein\": \"Water per 100g protein (liters)\"\n",
    "    },\n",
    "    text = \"food_product\"\n",
    ")\n",
    "\n",
    "fig.update_layout(\n",
    "    template = \"plotly_white\",\n",
    "    legend_title_text = \"Food Product\",\n",
    "    width = 800,\n",
    "    height = 500,\n",
    "    yaxis = dict(\n",
    "        showticklabels = True \n",
    "        )\n",
    ")\n",
    "fig.show()"
   ]
  }
 ],
 "metadata": {
  "kernelspec": {
   "display_name": "Python 3",
   "language": "python",
   "name": "python3"
  },
  "language_info": {
   "codemirror_mode": {
    "name": "ipython",
    "version": 3
   },
   "file_extension": ".py",
   "mimetype": "text/x-python",
   "name": "python",
   "nbconvert_exporter": "python",
   "pygments_lexer": "ipython3",
   "version": "3.11.9"
  }
 },
 "nbformat": 4,
 "nbformat_minor": 5
}
